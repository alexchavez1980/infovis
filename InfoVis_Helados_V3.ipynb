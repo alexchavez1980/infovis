{
 "cells": [
  {
   "cell_type": "markdown",
   "metadata": {
    "id": "VVl6AC06PcT0"
   },
   "source": [
    "# **Information visualization class** \n",
    "#### *Data visualitation in an ice cream shop*"
   ]
  },
  {
   "cell_type": "markdown",
   "metadata": {},
   "source": [
    "*Panel is an open-source Python library that lets you create custom interactive web apps \n",
    "and dashboards by connecting user-defined widgets to plots, images, tables, or text.: https://panel.holoviz.org/*"
   ]
  },
  {
   "cell_type": "markdown",
   "metadata": {
    "id": "fHkkfhCgQ1ms"
   },
   "source": [
    "### 0a. Install and import libraries"
   ]
  },
  {
   "cell_type": "code",
   "execution_count": 45,
   "metadata": {
    "id": "ICUgfDvCNWBL",
    "tags": []
   },
   "outputs": [],
   "source": [
    "#pip install hvplot "
   ]
  },
  {
   "cell_type": "code",
   "execution_count": 46,
   "metadata": {
    "id": "-A5lx34iNrkE",
    "tags": []
   },
   "outputs": [],
   "source": [
    "#pip install panel"
   ]
  },
  {
   "cell_type": "code",
   "execution_count": 47,
   "metadata": {
    "id": "srhOZHERNR6F",
    "tags": []
   },
   "outputs": [
    {
     "data": {
      "application/javascript": [
       "\n",
       "(function(root) {\n",
       "  function now() {\n",
       "    return new Date();\n",
       "  }\n",
       "\n",
       "  var force = true;\n",
       "\n",
       "  if (typeof root._bokeh_onload_callbacks === \"undefined\" || force === true) {\n",
       "    root._bokeh_onload_callbacks = [];\n",
       "    root._bokeh_is_loading = undefined;\n",
       "  }\n",
       "\n",
       "  if (typeof (root._bokeh_timeout) === \"undefined\" || force === true) {\n",
       "    root._bokeh_timeout = Date.now() + 5000;\n",
       "    root._bokeh_failed_load = false;\n",
       "  }\n",
       "\n",
       "  function run_callbacks() {\n",
       "    try {\n",
       "      root._bokeh_onload_callbacks.forEach(function(callback) {\n",
       "        if (callback != null)\n",
       "          callback();\n",
       "      });\n",
       "    } finally {\n",
       "      delete root._bokeh_onload_callbacks\n",
       "    }\n",
       "    console.debug(\"Bokeh: all callbacks have finished\");\n",
       "  }\n",
       "\n",
       "  function load_libs(css_urls, js_urls, js_modules, callback) {\n",
       "    if (css_urls == null) css_urls = [];\n",
       "    if (js_urls == null) js_urls = [];\n",
       "    if (js_modules == null) js_modules = [];\n",
       "\n",
       "    root._bokeh_onload_callbacks.push(callback);\n",
       "    if (root._bokeh_is_loading > 0) {\n",
       "      console.debug(\"Bokeh: BokehJS is being loaded, scheduling callback at\", now());\n",
       "      return null;\n",
       "    }\n",
       "    if (js_urls.length === 0 && js_modules.length === 0) {\n",
       "      run_callbacks();\n",
       "      return null;\n",
       "    }\n",
       "    console.debug(\"Bokeh: BokehJS not loaded, scheduling load and callback at\", now());\n",
       "\n",
       "    function on_load() {\n",
       "      root._bokeh_is_loading--;\n",
       "      if (root._bokeh_is_loading === 0) {\n",
       "        console.debug(\"Bokeh: all BokehJS libraries/stylesheets loaded\");\n",
       "        run_callbacks()\n",
       "      }\n",
       "    }\n",
       "\n",
       "    function on_error() {\n",
       "      console.error(\"failed to load \" + url);\n",
       "    }\n",
       "\n",
       "    for (var i = 0; i < css_urls.length; i++) {\n",
       "      var url = css_urls[i];\n",
       "      const element = document.createElement(\"link\");\n",
       "      element.onload = on_load;\n",
       "      element.onerror = on_error;\n",
       "      element.rel = \"stylesheet\";\n",
       "      element.type = \"text/css\";\n",
       "      element.href = url;\n",
       "      console.debug(\"Bokeh: injecting link tag for BokehJS stylesheet: \", url);\n",
       "      document.body.appendChild(element);\n",
       "    }\n",
       "\n",
       "    var skip = [];\n",
       "    if (window.requirejs) {\n",
       "      window.requirejs.config({'packages': {}, 'paths': {'tabulator': 'https://unpkg.com/tabulator-tables@4.9.3/dist/js/tabulator', 'moment': 'https://cdn.jsdelivr.net/npm/luxon/build/global/luxon.min', 'gridstack': 'https://cdn.jsdelivr.net/npm/gridstack@4.2.5/dist/gridstack-h5'}, 'shim': {'gridstack': {'exports': 'GridStack'}}});\n",
       "      \n",
       "      require([\"tabulator\"], function(Tabulator) {\n",
       "\t\n",
       "\twindow.Tabulator = Tabulator\n",
       "\t\n",
       "\ton_load()\n",
       "      })\n",
       "      \n",
       "      require([\"moment\"], function(moment) {\n",
       "\t\n",
       "\twindow.moment = moment\n",
       "\t\n",
       "\ton_load()\n",
       "      })\n",
       "      \n",
       "      require([\"gridstack\"], function(GridStack) {\n",
       "\t\n",
       "\twindow.GridStack = GridStack\n",
       "\t\n",
       "\ton_load()\n",
       "      })\n",
       "      \n",
       "      root._bokeh_is_loading = css_urls.length + 3;\n",
       "    } else {\n",
       "      root._bokeh_is_loading = css_urls.length + js_urls.length + js_modules.length;\n",
       "    }\n",
       "    if (((window['Tabulator'] !== undefined) && (!(window['Tabulator'] instanceof HTMLElement))) || window.requirejs) {\n",
       "      var urls = ['https://unpkg.com/tabulator-tables@4.9.3/dist/js/tabulator.js'];\n",
       "      for (var i = 0; i < urls.length; i++) {\n",
       "        skip.push(urls[i])\n",
       "      }\n",
       "    }\n",
       "    if (((window['moment'] !== undefined) && (!(window['moment'] instanceof HTMLElement))) || window.requirejs) {\n",
       "      var urls = ['https://cdn.jsdelivr.net/npm/luxon/build/global/luxon.min.js'];\n",
       "      for (var i = 0; i < urls.length; i++) {\n",
       "        skip.push(urls[i])\n",
       "      }\n",
       "    }\n",
       "    if (((window['GridStack'] !== undefined) && (!(window['GridStack'] instanceof HTMLElement))) || window.requirejs) {\n",
       "      var urls = ['https://cdn.jsdelivr.net/npm/gridstack@4.2.5/dist/gridstack-h5.js'];\n",
       "      for (var i = 0; i < urls.length; i++) {\n",
       "        skip.push(urls[i])\n",
       "      }\n",
       "    }\n",
       "    for (var i = 0; i < js_urls.length; i++) {\n",
       "      var url = js_urls[i];\n",
       "      if (skip.indexOf(url) >= 0) {\n",
       "\tif (!window.requirejs) {\n",
       "\t  on_load();\n",
       "\t}\n",
       "\tcontinue;\n",
       "      }\n",
       "      var element = document.createElement('script');\n",
       "      element.onload = on_load;\n",
       "      element.onerror = on_error;\n",
       "      element.async = false;\n",
       "      element.src = url;\n",
       "      console.debug(\"Bokeh: injecting script tag for BokehJS library: \", url);\n",
       "      document.head.appendChild(element);\n",
       "    }\n",
       "    for (var i = 0; i < js_modules.length; i++) {\n",
       "      var url = js_modules[i];\n",
       "      if (skip.indexOf(url) >= 0) {\n",
       "\tif (!window.requirejs) {\n",
       "\t  on_load();\n",
       "\t}\n",
       "\tcontinue;\n",
       "      }\n",
       "      var element = document.createElement('script');\n",
       "      element.onload = on_load;\n",
       "      element.onerror = on_error;\n",
       "      element.async = false;\n",
       "      element.src = url;\n",
       "      element.type = \"module\";\n",
       "      console.debug(\"Bokeh: injecting script tag for BokehJS library: \", url);\n",
       "      document.head.appendChild(element);\n",
       "    }\n",
       "    if (!js_urls.length && !js_modules.length) {\n",
       "      on_load()\n",
       "    }\n",
       "  };\n",
       "\n",
       "  function inject_raw_css(css) {\n",
       "    const element = document.createElement(\"style\");\n",
       "    element.appendChild(document.createTextNode(css));\n",
       "    document.body.appendChild(element);\n",
       "  }\n",
       "\n",
       "  var js_urls = [\"https://unpkg.com/tabulator-tables@4.9.3/dist/js/tabulator.js\", \"https://cdn.jsdelivr.net/npm/luxon/build/global/luxon.min.js\", \"https://cdn.bokeh.org/bokeh/release/bokeh-2.4.1.min.js\", \"https://cdn.bokeh.org/bokeh/release/bokeh-gl-2.4.1.min.js\", \"https://cdn.bokeh.org/bokeh/release/bokeh-widgets-2.4.1.min.js\", \"https://cdn.bokeh.org/bokeh/release/bokeh-tables-2.4.1.min.js\", \"https://cdn.bokeh.org/bokeh/release/bokeh-mathjax-2.4.1.min.js\", \"https://unpkg.com/@holoviz/panel@0.13.0/dist/panel.min.js\"];\n",
       "  var js_modules = [];\n",
       "  var css_urls = [\"https://unpkg.com/tabulator-tables@4.9.3/dist/css/tabulator_simple.min.css\", \"https://unpkg.com/@holoviz/panel@0.13.0/dist/css/alerts.css\", \"https://unpkg.com/@holoviz/panel@0.13.0/dist/css/card.css\", \"https://unpkg.com/@holoviz/panel@0.13.0/dist/css/dataframe.css\", \"https://unpkg.com/@holoviz/panel@0.13.0/dist/css/debugger.css\", \"https://unpkg.com/@holoviz/panel@0.13.0/dist/css/json.css\", \"https://unpkg.com/@holoviz/panel@0.13.0/dist/css/loading.css\", \"https://unpkg.com/@holoviz/panel@0.13.0/dist/css/markdown.css\", \"https://unpkg.com/@holoviz/panel@0.13.0/dist/css/widgets.css\"];\n",
       "  var inline_js = [\n",
       "    function(Bokeh) {\n",
       "      inject_raw_css(\"\\n    .bk.pn-loading.arcs:before {\\n      background-image: url(\\\"data:image/svg+xml;base64,PHN2ZyB4bWxucz0iaHR0cDovL3d3dy53My5vcmcvMjAwMC9zdmciIHhtbG5zOnhsaW5rPSJodHRwOi8vd3d3LnczLm9yZy8xOTk5L3hsaW5rIiBzdHlsZT0ibWFyZ2luOiBhdXRvOyBiYWNrZ3JvdW5kOiBub25lOyBkaXNwbGF5OiBibG9jazsgc2hhcGUtcmVuZGVyaW5nOiBhdXRvOyIgdmlld0JveD0iMCAwIDEwMCAxMDAiIHByZXNlcnZlQXNwZWN0UmF0aW89InhNaWRZTWlkIj4gIDxjaXJjbGUgY3g9IjUwIiBjeT0iNTAiIHI9IjMyIiBzdHJva2Utd2lkdGg9IjgiIHN0cm9rZT0iI2MzYzNjMyIgc3Ryb2tlLWRhc2hhcnJheT0iNTAuMjY1NDgyNDU3NDM2NjkgNTAuMjY1NDgyNDU3NDM2NjkiIGZpbGw9Im5vbmUiIHN0cm9rZS1saW5lY2FwPSJyb3VuZCI+ICAgIDxhbmltYXRlVHJhbnNmb3JtIGF0dHJpYnV0ZU5hbWU9InRyYW5zZm9ybSIgdHlwZT0icm90YXRlIiByZXBlYXRDb3VudD0iaW5kZWZpbml0ZSIgZHVyPSIxcyIga2V5VGltZXM9IjA7MSIgdmFsdWVzPSIwIDUwIDUwOzM2MCA1MCA1MCI+PC9hbmltYXRlVHJhbnNmb3JtPiAgPC9jaXJjbGU+PC9zdmc+\\\");\\n      background-size: auto calc(min(50%, 400px));\\n    }\\n    \");\n",
       "    },\n",
       "    function(Bokeh) {\n",
       "      Bokeh.set_log_level(\"info\");\n",
       "    },\n",
       "    function(Bokeh) {} // ensure no trailing comma for IE\n",
       "  ];\n",
       "\n",
       "  function run_inline_js() {\n",
       "    if ((root.Bokeh !== undefined) || (force === true)) {\n",
       "      for (var i = 0; i < inline_js.length; i++) {\n",
       "        inline_js[i].call(root, root.Bokeh);\n",
       "      }} else if (Date.now() < root._bokeh_timeout) {\n",
       "      setTimeout(run_inline_js, 100);\n",
       "    } else if (!root._bokeh_failed_load) {\n",
       "      console.log(\"Bokeh: BokehJS failed to load within specified timeout.\");\n",
       "      root._bokeh_failed_load = true;\n",
       "    }\n",
       "  }\n",
       "\n",
       "  if (root._bokeh_is_loading === 0) {\n",
       "    console.debug(\"Bokeh: BokehJS loaded, going straight to plotting\");\n",
       "    run_inline_js();\n",
       "  } else {\n",
       "    load_libs(css_urls, js_urls, js_modules, function() {\n",
       "      console.debug(\"Bokeh: BokehJS plotting callback run at\", now());\n",
       "      run_inline_js();\n",
       "    });\n",
       "  }\n",
       "}(window));"
      ],
      "application/vnd.holoviews_load.v0+json": "\n(function(root) {\n  function now() {\n    return new Date();\n  }\n\n  var force = true;\n\n  if (typeof root._bokeh_onload_callbacks === \"undefined\" || force === true) {\n    root._bokeh_onload_callbacks = [];\n    root._bokeh_is_loading = undefined;\n  }\n\n  if (typeof (root._bokeh_timeout) === \"undefined\" || force === true) {\n    root._bokeh_timeout = Date.now() + 5000;\n    root._bokeh_failed_load = false;\n  }\n\n  function run_callbacks() {\n    try {\n      root._bokeh_onload_callbacks.forEach(function(callback) {\n        if (callback != null)\n          callback();\n      });\n    } finally {\n      delete root._bokeh_onload_callbacks\n    }\n    console.debug(\"Bokeh: all callbacks have finished\");\n  }\n\n  function load_libs(css_urls, js_urls, js_modules, callback) {\n    if (css_urls == null) css_urls = [];\n    if (js_urls == null) js_urls = [];\n    if (js_modules == null) js_modules = [];\n\n    root._bokeh_onload_callbacks.push(callback);\n    if (root._bokeh_is_loading > 0) {\n      console.debug(\"Bokeh: BokehJS is being loaded, scheduling callback at\", now());\n      return null;\n    }\n    if (js_urls.length === 0 && js_modules.length === 0) {\n      run_callbacks();\n      return null;\n    }\n    console.debug(\"Bokeh: BokehJS not loaded, scheduling load and callback at\", now());\n\n    function on_load() {\n      root._bokeh_is_loading--;\n      if (root._bokeh_is_loading === 0) {\n        console.debug(\"Bokeh: all BokehJS libraries/stylesheets loaded\");\n        run_callbacks()\n      }\n    }\n\n    function on_error() {\n      console.error(\"failed to load \" + url);\n    }\n\n    for (var i = 0; i < css_urls.length; i++) {\n      var url = css_urls[i];\n      const element = document.createElement(\"link\");\n      element.onload = on_load;\n      element.onerror = on_error;\n      element.rel = \"stylesheet\";\n      element.type = \"text/css\";\n      element.href = url;\n      console.debug(\"Bokeh: injecting link tag for BokehJS stylesheet: \", url);\n      document.body.appendChild(element);\n    }\n\n    var skip = [];\n    if (window.requirejs) {\n      window.requirejs.config({'packages': {}, 'paths': {'tabulator': 'https://unpkg.com/tabulator-tables@4.9.3/dist/js/tabulator', 'moment': 'https://cdn.jsdelivr.net/npm/luxon/build/global/luxon.min', 'gridstack': 'https://cdn.jsdelivr.net/npm/gridstack@4.2.5/dist/gridstack-h5'}, 'shim': {'gridstack': {'exports': 'GridStack'}}});\n      \n      require([\"tabulator\"], function(Tabulator) {\n\t\n\twindow.Tabulator = Tabulator\n\t\n\ton_load()\n      })\n      \n      require([\"moment\"], function(moment) {\n\t\n\twindow.moment = moment\n\t\n\ton_load()\n      })\n      \n      require([\"gridstack\"], function(GridStack) {\n\t\n\twindow.GridStack = GridStack\n\t\n\ton_load()\n      })\n      \n      root._bokeh_is_loading = css_urls.length + 3;\n    } else {\n      root._bokeh_is_loading = css_urls.length + js_urls.length + js_modules.length;\n    }\n    if (((window['Tabulator'] !== undefined) && (!(window['Tabulator'] instanceof HTMLElement))) || window.requirejs) {\n      var urls = ['https://unpkg.com/tabulator-tables@4.9.3/dist/js/tabulator.js'];\n      for (var i = 0; i < urls.length; i++) {\n        skip.push(urls[i])\n      }\n    }\n    if (((window['moment'] !== undefined) && (!(window['moment'] instanceof HTMLElement))) || window.requirejs) {\n      var urls = ['https://cdn.jsdelivr.net/npm/luxon/build/global/luxon.min.js'];\n      for (var i = 0; i < urls.length; i++) {\n        skip.push(urls[i])\n      }\n    }\n    if (((window['GridStack'] !== undefined) && (!(window['GridStack'] instanceof HTMLElement))) || window.requirejs) {\n      var urls = ['https://cdn.jsdelivr.net/npm/gridstack@4.2.5/dist/gridstack-h5.js'];\n      for (var i = 0; i < urls.length; i++) {\n        skip.push(urls[i])\n      }\n    }\n    for (var i = 0; i < js_urls.length; i++) {\n      var url = js_urls[i];\n      if (skip.indexOf(url) >= 0) {\n\tif (!window.requirejs) {\n\t  on_load();\n\t}\n\tcontinue;\n      }\n      var element = document.createElement('script');\n      element.onload = on_load;\n      element.onerror = on_error;\n      element.async = false;\n      element.src = url;\n      console.debug(\"Bokeh: injecting script tag for BokehJS library: \", url);\n      document.head.appendChild(element);\n    }\n    for (var i = 0; i < js_modules.length; i++) {\n      var url = js_modules[i];\n      if (skip.indexOf(url) >= 0) {\n\tif (!window.requirejs) {\n\t  on_load();\n\t}\n\tcontinue;\n      }\n      var element = document.createElement('script');\n      element.onload = on_load;\n      element.onerror = on_error;\n      element.async = false;\n      element.src = url;\n      element.type = \"module\";\n      console.debug(\"Bokeh: injecting script tag for BokehJS library: \", url);\n      document.head.appendChild(element);\n    }\n    if (!js_urls.length && !js_modules.length) {\n      on_load()\n    }\n  };\n\n  function inject_raw_css(css) {\n    const element = document.createElement(\"style\");\n    element.appendChild(document.createTextNode(css));\n    document.body.appendChild(element);\n  }\n\n  var js_urls = [\"https://unpkg.com/tabulator-tables@4.9.3/dist/js/tabulator.js\", \"https://cdn.jsdelivr.net/npm/luxon/build/global/luxon.min.js\", \"https://cdn.bokeh.org/bokeh/release/bokeh-2.4.1.min.js\", \"https://cdn.bokeh.org/bokeh/release/bokeh-gl-2.4.1.min.js\", \"https://cdn.bokeh.org/bokeh/release/bokeh-widgets-2.4.1.min.js\", \"https://cdn.bokeh.org/bokeh/release/bokeh-tables-2.4.1.min.js\", \"https://cdn.bokeh.org/bokeh/release/bokeh-mathjax-2.4.1.min.js\", \"https://unpkg.com/@holoviz/panel@0.13.0/dist/panel.min.js\"];\n  var js_modules = [];\n  var css_urls = [\"https://unpkg.com/tabulator-tables@4.9.3/dist/css/tabulator_simple.min.css\", \"https://unpkg.com/@holoviz/panel@0.13.0/dist/css/alerts.css\", \"https://unpkg.com/@holoviz/panel@0.13.0/dist/css/card.css\", \"https://unpkg.com/@holoviz/panel@0.13.0/dist/css/dataframe.css\", \"https://unpkg.com/@holoviz/panel@0.13.0/dist/css/debugger.css\", \"https://unpkg.com/@holoviz/panel@0.13.0/dist/css/json.css\", \"https://unpkg.com/@holoviz/panel@0.13.0/dist/css/loading.css\", \"https://unpkg.com/@holoviz/panel@0.13.0/dist/css/markdown.css\", \"https://unpkg.com/@holoviz/panel@0.13.0/dist/css/widgets.css\"];\n  var inline_js = [\n    function(Bokeh) {\n      inject_raw_css(\"\\n    .bk.pn-loading.arcs:before {\\n      background-image: url(\\\"data:image/svg+xml;base64,PHN2ZyB4bWxucz0iaHR0cDovL3d3dy53My5vcmcvMjAwMC9zdmciIHhtbG5zOnhsaW5rPSJodHRwOi8vd3d3LnczLm9yZy8xOTk5L3hsaW5rIiBzdHlsZT0ibWFyZ2luOiBhdXRvOyBiYWNrZ3JvdW5kOiBub25lOyBkaXNwbGF5OiBibG9jazsgc2hhcGUtcmVuZGVyaW5nOiBhdXRvOyIgdmlld0JveD0iMCAwIDEwMCAxMDAiIHByZXNlcnZlQXNwZWN0UmF0aW89InhNaWRZTWlkIj4gIDxjaXJjbGUgY3g9IjUwIiBjeT0iNTAiIHI9IjMyIiBzdHJva2Utd2lkdGg9IjgiIHN0cm9rZT0iI2MzYzNjMyIgc3Ryb2tlLWRhc2hhcnJheT0iNTAuMjY1NDgyNDU3NDM2NjkgNTAuMjY1NDgyNDU3NDM2NjkiIGZpbGw9Im5vbmUiIHN0cm9rZS1saW5lY2FwPSJyb3VuZCI+ICAgIDxhbmltYXRlVHJhbnNmb3JtIGF0dHJpYnV0ZU5hbWU9InRyYW5zZm9ybSIgdHlwZT0icm90YXRlIiByZXBlYXRDb3VudD0iaW5kZWZpbml0ZSIgZHVyPSIxcyIga2V5VGltZXM9IjA7MSIgdmFsdWVzPSIwIDUwIDUwOzM2MCA1MCA1MCI+PC9hbmltYXRlVHJhbnNmb3JtPiAgPC9jaXJjbGU+PC9zdmc+\\\");\\n      background-size: auto calc(min(50%, 400px));\\n    }\\n    \");\n    },\n    function(Bokeh) {\n      Bokeh.set_log_level(\"info\");\n    },\n    function(Bokeh) {} // ensure no trailing comma for IE\n  ];\n\n  function run_inline_js() {\n    if ((root.Bokeh !== undefined) || (force === true)) {\n      for (var i = 0; i < inline_js.length; i++) {\n        inline_js[i].call(root, root.Bokeh);\n      }} else if (Date.now() < root._bokeh_timeout) {\n      setTimeout(run_inline_js, 100);\n    } else if (!root._bokeh_failed_load) {\n      console.log(\"Bokeh: BokehJS failed to load within specified timeout.\");\n      root._bokeh_failed_load = true;\n    }\n  }\n\n  if (root._bokeh_is_loading === 0) {\n    console.debug(\"Bokeh: BokehJS loaded, going straight to plotting\");\n    run_inline_js();\n  } else {\n    load_libs(css_urls, js_urls, js_modules, function() {\n      console.debug(\"Bokeh: BokehJS plotting callback run at\", now());\n      run_inline_js();\n    });\n  }\n}(window));"
     },
     "metadata": {},
     "output_type": "display_data"
    },
    {
     "data": {
      "application/javascript": [
       "\n",
       "if ((window.PyViz === undefined) || (window.PyViz instanceof HTMLElement)) {\n",
       "  window.PyViz = {comms: {}, comm_status:{}, kernels:{}, receivers: {}, plot_index: []}\n",
       "}\n",
       "\n",
       "\n",
       "    function JupyterCommManager() {\n",
       "    }\n",
       "\n",
       "    JupyterCommManager.prototype.register_target = function(plot_id, comm_id, msg_handler) {\n",
       "      if (window.comm_manager || ((window.Jupyter !== undefined) && (Jupyter.notebook.kernel != null))) {\n",
       "        var comm_manager = window.comm_manager || Jupyter.notebook.kernel.comm_manager;\n",
       "        comm_manager.register_target(comm_id, function(comm) {\n",
       "          comm.on_msg(msg_handler);\n",
       "        });\n",
       "      } else if ((plot_id in window.PyViz.kernels) && (window.PyViz.kernels[plot_id])) {\n",
       "        window.PyViz.kernels[plot_id].registerCommTarget(comm_id, function(comm) {\n",
       "          comm.onMsg = msg_handler;\n",
       "        });\n",
       "      } else if (typeof google != 'undefined' && google.colab.kernel != null) {\n",
       "        google.colab.kernel.comms.registerTarget(comm_id, (comm) => {\n",
       "          var messages = comm.messages[Symbol.asyncIterator]();\n",
       "          function processIteratorResult(result) {\n",
       "            var message = result.value;\n",
       "            console.log(message)\n",
       "            var content = {data: message.data, comm_id};\n",
       "            var buffers = []\n",
       "            for (var buffer of message.buffers || []) {\n",
       "              buffers.push(new DataView(buffer))\n",
       "            }\n",
       "            var metadata = message.metadata || {};\n",
       "            var msg = {content, buffers, metadata}\n",
       "            msg_handler(msg);\n",
       "            return messages.next().then(processIteratorResult);\n",
       "          }\n",
       "          return messages.next().then(processIteratorResult);\n",
       "        })\n",
       "      }\n",
       "    }\n",
       "\n",
       "    JupyterCommManager.prototype.get_client_comm = function(plot_id, comm_id, msg_handler) {\n",
       "      if (comm_id in window.PyViz.comms) {\n",
       "        return window.PyViz.comms[comm_id];\n",
       "      } else if (window.comm_manager || ((window.Jupyter !== undefined) && (Jupyter.notebook.kernel != null))) {\n",
       "        var comm_manager = window.comm_manager || Jupyter.notebook.kernel.comm_manager;\n",
       "        var comm = comm_manager.new_comm(comm_id, {}, {}, {}, comm_id);\n",
       "        if (msg_handler) {\n",
       "          comm.on_msg(msg_handler);\n",
       "        }\n",
       "      } else if ((plot_id in window.PyViz.kernels) && (window.PyViz.kernels[plot_id])) {\n",
       "        var comm = window.PyViz.kernels[plot_id].connectToComm(comm_id);\n",
       "        comm.open();\n",
       "        if (msg_handler) {\n",
       "          comm.onMsg = msg_handler;\n",
       "        }\n",
       "      } else if (typeof google != 'undefined' && google.colab.kernel != null) {\n",
       "        var comm_promise = google.colab.kernel.comms.open(comm_id)\n",
       "        comm_promise.then((comm) => {\n",
       "          window.PyViz.comms[comm_id] = comm;\n",
       "          if (msg_handler) {\n",
       "            var messages = comm.messages[Symbol.asyncIterator]();\n",
       "            function processIteratorResult(result) {\n",
       "              var message = result.value;\n",
       "              var content = {data: message.data};\n",
       "              var metadata = message.metadata || {comm_id};\n",
       "              var msg = {content, metadata}\n",
       "              msg_handler(msg);\n",
       "              return messages.next().then(processIteratorResult);\n",
       "            }\n",
       "            return messages.next().then(processIteratorResult);\n",
       "          }\n",
       "        }) \n",
       "        var sendClosure = (data, metadata, buffers, disposeOnDone) => {\n",
       "          return comm_promise.then((comm) => {\n",
       "            comm.send(data, metadata, buffers, disposeOnDone);\n",
       "          });\n",
       "        };\n",
       "        var comm = {\n",
       "          send: sendClosure\n",
       "        };\n",
       "      }\n",
       "      window.PyViz.comms[comm_id] = comm;\n",
       "      return comm;\n",
       "    }\n",
       "    window.PyViz.comm_manager = new JupyterCommManager();\n",
       "    \n",
       "\n",
       "\n",
       "var JS_MIME_TYPE = 'application/javascript';\n",
       "var HTML_MIME_TYPE = 'text/html';\n",
       "var EXEC_MIME_TYPE = 'application/vnd.holoviews_exec.v0+json';\n",
       "var CLASS_NAME = 'output';\n",
       "\n",
       "/**\n",
       " * Render data to the DOM node\n",
       " */\n",
       "function render(props, node) {\n",
       "  var div = document.createElement(\"div\");\n",
       "  var script = document.createElement(\"script\");\n",
       "  node.appendChild(div);\n",
       "  node.appendChild(script);\n",
       "}\n",
       "\n",
       "/**\n",
       " * Handle when a new output is added\n",
       " */\n",
       "function handle_add_output(event, handle) {\n",
       "  var output_area = handle.output_area;\n",
       "  var output = handle.output;\n",
       "  if ((output.data == undefined) || (!output.data.hasOwnProperty(EXEC_MIME_TYPE))) {\n",
       "    return\n",
       "  }\n",
       "  var id = output.metadata[EXEC_MIME_TYPE][\"id\"];\n",
       "  var toinsert = output_area.element.find(\".\" + CLASS_NAME.split(' ')[0]);\n",
       "  if (id !== undefined) {\n",
       "    var nchildren = toinsert.length;\n",
       "    var html_node = toinsert[nchildren-1].children[0];\n",
       "    html_node.innerHTML = output.data[HTML_MIME_TYPE];\n",
       "    var scripts = [];\n",
       "    var nodelist = html_node.querySelectorAll(\"script\");\n",
       "    for (var i in nodelist) {\n",
       "      if (nodelist.hasOwnProperty(i)) {\n",
       "        scripts.push(nodelist[i])\n",
       "      }\n",
       "    }\n",
       "\n",
       "    scripts.forEach( function (oldScript) {\n",
       "      var newScript = document.createElement(\"script\");\n",
       "      var attrs = [];\n",
       "      var nodemap = oldScript.attributes;\n",
       "      for (var j in nodemap) {\n",
       "        if (nodemap.hasOwnProperty(j)) {\n",
       "          attrs.push(nodemap[j])\n",
       "        }\n",
       "      }\n",
       "      attrs.forEach(function(attr) { newScript.setAttribute(attr.name, attr.value) });\n",
       "      newScript.appendChild(document.createTextNode(oldScript.innerHTML));\n",
       "      oldScript.parentNode.replaceChild(newScript, oldScript);\n",
       "    });\n",
       "    if (JS_MIME_TYPE in output.data) {\n",
       "      toinsert[nchildren-1].children[1].textContent = output.data[JS_MIME_TYPE];\n",
       "    }\n",
       "    output_area._hv_plot_id = id;\n",
       "    if ((window.Bokeh !== undefined) && (id in Bokeh.index)) {\n",
       "      window.PyViz.plot_index[id] = Bokeh.index[id];\n",
       "    } else {\n",
       "      window.PyViz.plot_index[id] = null;\n",
       "    }\n",
       "  } else if (output.metadata[EXEC_MIME_TYPE][\"server_id\"] !== undefined) {\n",
       "    var bk_div = document.createElement(\"div\");\n",
       "    bk_div.innerHTML = output.data[HTML_MIME_TYPE];\n",
       "    var script_attrs = bk_div.children[0].attributes;\n",
       "    for (var i = 0; i < script_attrs.length; i++) {\n",
       "      toinsert[toinsert.length - 1].childNodes[1].setAttribute(script_attrs[i].name, script_attrs[i].value);\n",
       "    }\n",
       "    // store reference to server id on output_area\n",
       "    output_area._bokeh_server_id = output.metadata[EXEC_MIME_TYPE][\"server_id\"];\n",
       "  }\n",
       "}\n",
       "\n",
       "/**\n",
       " * Handle when an output is cleared or removed\n",
       " */\n",
       "function handle_clear_output(event, handle) {\n",
       "  var id = handle.cell.output_area._hv_plot_id;\n",
       "  var server_id = handle.cell.output_area._bokeh_server_id;\n",
       "  if (((id === undefined) || !(id in PyViz.plot_index)) && (server_id !== undefined)) { return; }\n",
       "  var comm = window.PyViz.comm_manager.get_client_comm(\"hv-extension-comm\", \"hv-extension-comm\", function () {});\n",
       "  if (server_id !== null) {\n",
       "    comm.send({event_type: 'server_delete', 'id': server_id});\n",
       "    return;\n",
       "  } else if (comm !== null) {\n",
       "    comm.send({event_type: 'delete', 'id': id});\n",
       "  }\n",
       "  delete PyViz.plot_index[id];\n",
       "  if ((window.Bokeh !== undefined) & (id in window.Bokeh.index)) {\n",
       "    var doc = window.Bokeh.index[id].model.document\n",
       "    doc.clear();\n",
       "    const i = window.Bokeh.documents.indexOf(doc);\n",
       "    if (i > -1) {\n",
       "      window.Bokeh.documents.splice(i, 1);\n",
       "    }\n",
       "  }\n",
       "}\n",
       "\n",
       "/**\n",
       " * Handle kernel restart event\n",
       " */\n",
       "function handle_kernel_cleanup(event, handle) {\n",
       "  delete PyViz.comms[\"hv-extension-comm\"];\n",
       "  window.PyViz.plot_index = {}\n",
       "}\n",
       "\n",
       "/**\n",
       " * Handle update_display_data messages\n",
       " */\n",
       "function handle_update_output(event, handle) {\n",
       "  handle_clear_output(event, {cell: {output_area: handle.output_area}})\n",
       "  handle_add_output(event, handle)\n",
       "}\n",
       "\n",
       "function register_renderer(events, OutputArea) {\n",
       "  function append_mime(data, metadata, element) {\n",
       "    // create a DOM node to render to\n",
       "    var toinsert = this.create_output_subarea(\n",
       "    metadata,\n",
       "    CLASS_NAME,\n",
       "    EXEC_MIME_TYPE\n",
       "    );\n",
       "    this.keyboard_manager.register_events(toinsert);\n",
       "    // Render to node\n",
       "    var props = {data: data, metadata: metadata[EXEC_MIME_TYPE]};\n",
       "    render(props, toinsert[0]);\n",
       "    element.append(toinsert);\n",
       "    return toinsert\n",
       "  }\n",
       "\n",
       "  events.on('output_added.OutputArea', handle_add_output);\n",
       "  events.on('output_updated.OutputArea', handle_update_output);\n",
       "  events.on('clear_output.CodeCell', handle_clear_output);\n",
       "  events.on('delete.Cell', handle_clear_output);\n",
       "  events.on('kernel_ready.Kernel', handle_kernel_cleanup);\n",
       "\n",
       "  OutputArea.prototype.register_mime_type(EXEC_MIME_TYPE, append_mime, {\n",
       "    safe: true,\n",
       "    index: 0\n",
       "  });\n",
       "}\n",
       "\n",
       "if (window.Jupyter !== undefined) {\n",
       "  try {\n",
       "    var events = require('base/js/events');\n",
       "    var OutputArea = require('notebook/js/outputarea').OutputArea;\n",
       "    if (OutputArea.prototype.mime_types().indexOf(EXEC_MIME_TYPE) == -1) {\n",
       "      register_renderer(events, OutputArea);\n",
       "    }\n",
       "  } catch(err) {\n",
       "  }\n",
       "}\n"
      ],
      "application/vnd.holoviews_load.v0+json": "\nif ((window.PyViz === undefined) || (window.PyViz instanceof HTMLElement)) {\n  window.PyViz = {comms: {}, comm_status:{}, kernels:{}, receivers: {}, plot_index: []}\n}\n\n\n    function JupyterCommManager() {\n    }\n\n    JupyterCommManager.prototype.register_target = function(plot_id, comm_id, msg_handler) {\n      if (window.comm_manager || ((window.Jupyter !== undefined) && (Jupyter.notebook.kernel != null))) {\n        var comm_manager = window.comm_manager || Jupyter.notebook.kernel.comm_manager;\n        comm_manager.register_target(comm_id, function(comm) {\n          comm.on_msg(msg_handler);\n        });\n      } else if ((plot_id in window.PyViz.kernels) && (window.PyViz.kernels[plot_id])) {\n        window.PyViz.kernels[plot_id].registerCommTarget(comm_id, function(comm) {\n          comm.onMsg = msg_handler;\n        });\n      } else if (typeof google != 'undefined' && google.colab.kernel != null) {\n        google.colab.kernel.comms.registerTarget(comm_id, (comm) => {\n          var messages = comm.messages[Symbol.asyncIterator]();\n          function processIteratorResult(result) {\n            var message = result.value;\n            console.log(message)\n            var content = {data: message.data, comm_id};\n            var buffers = []\n            for (var buffer of message.buffers || []) {\n              buffers.push(new DataView(buffer))\n            }\n            var metadata = message.metadata || {};\n            var msg = {content, buffers, metadata}\n            msg_handler(msg);\n            return messages.next().then(processIteratorResult);\n          }\n          return messages.next().then(processIteratorResult);\n        })\n      }\n    }\n\n    JupyterCommManager.prototype.get_client_comm = function(plot_id, comm_id, msg_handler) {\n      if (comm_id in window.PyViz.comms) {\n        return window.PyViz.comms[comm_id];\n      } else if (window.comm_manager || ((window.Jupyter !== undefined) && (Jupyter.notebook.kernel != null))) {\n        var comm_manager = window.comm_manager || Jupyter.notebook.kernel.comm_manager;\n        var comm = comm_manager.new_comm(comm_id, {}, {}, {}, comm_id);\n        if (msg_handler) {\n          comm.on_msg(msg_handler);\n        }\n      } else if ((plot_id in window.PyViz.kernels) && (window.PyViz.kernels[plot_id])) {\n        var comm = window.PyViz.kernels[plot_id].connectToComm(comm_id);\n        comm.open();\n        if (msg_handler) {\n          comm.onMsg = msg_handler;\n        }\n      } else if (typeof google != 'undefined' && google.colab.kernel != null) {\n        var comm_promise = google.colab.kernel.comms.open(comm_id)\n        comm_promise.then((comm) => {\n          window.PyViz.comms[comm_id] = comm;\n          if (msg_handler) {\n            var messages = comm.messages[Symbol.asyncIterator]();\n            function processIteratorResult(result) {\n              var message = result.value;\n              var content = {data: message.data};\n              var metadata = message.metadata || {comm_id};\n              var msg = {content, metadata}\n              msg_handler(msg);\n              return messages.next().then(processIteratorResult);\n            }\n            return messages.next().then(processIteratorResult);\n          }\n        }) \n        var sendClosure = (data, metadata, buffers, disposeOnDone) => {\n          return comm_promise.then((comm) => {\n            comm.send(data, metadata, buffers, disposeOnDone);\n          });\n        };\n        var comm = {\n          send: sendClosure\n        };\n      }\n      window.PyViz.comms[comm_id] = comm;\n      return comm;\n    }\n    window.PyViz.comm_manager = new JupyterCommManager();\n    \n\n\nvar JS_MIME_TYPE = 'application/javascript';\nvar HTML_MIME_TYPE = 'text/html';\nvar EXEC_MIME_TYPE = 'application/vnd.holoviews_exec.v0+json';\nvar CLASS_NAME = 'output';\n\n/**\n * Render data to the DOM node\n */\nfunction render(props, node) {\n  var div = document.createElement(\"div\");\n  var script = document.createElement(\"script\");\n  node.appendChild(div);\n  node.appendChild(script);\n}\n\n/**\n * Handle when a new output is added\n */\nfunction handle_add_output(event, handle) {\n  var output_area = handle.output_area;\n  var output = handle.output;\n  if ((output.data == undefined) || (!output.data.hasOwnProperty(EXEC_MIME_TYPE))) {\n    return\n  }\n  var id = output.metadata[EXEC_MIME_TYPE][\"id\"];\n  var toinsert = output_area.element.find(\".\" + CLASS_NAME.split(' ')[0]);\n  if (id !== undefined) {\n    var nchildren = toinsert.length;\n    var html_node = toinsert[nchildren-1].children[0];\n    html_node.innerHTML = output.data[HTML_MIME_TYPE];\n    var scripts = [];\n    var nodelist = html_node.querySelectorAll(\"script\");\n    for (var i in nodelist) {\n      if (nodelist.hasOwnProperty(i)) {\n        scripts.push(nodelist[i])\n      }\n    }\n\n    scripts.forEach( function (oldScript) {\n      var newScript = document.createElement(\"script\");\n      var attrs = [];\n      var nodemap = oldScript.attributes;\n      for (var j in nodemap) {\n        if (nodemap.hasOwnProperty(j)) {\n          attrs.push(nodemap[j])\n        }\n      }\n      attrs.forEach(function(attr) { newScript.setAttribute(attr.name, attr.value) });\n      newScript.appendChild(document.createTextNode(oldScript.innerHTML));\n      oldScript.parentNode.replaceChild(newScript, oldScript);\n    });\n    if (JS_MIME_TYPE in output.data) {\n      toinsert[nchildren-1].children[1].textContent = output.data[JS_MIME_TYPE];\n    }\n    output_area._hv_plot_id = id;\n    if ((window.Bokeh !== undefined) && (id in Bokeh.index)) {\n      window.PyViz.plot_index[id] = Bokeh.index[id];\n    } else {\n      window.PyViz.plot_index[id] = null;\n    }\n  } else if (output.metadata[EXEC_MIME_TYPE][\"server_id\"] !== undefined) {\n    var bk_div = document.createElement(\"div\");\n    bk_div.innerHTML = output.data[HTML_MIME_TYPE];\n    var script_attrs = bk_div.children[0].attributes;\n    for (var i = 0; i < script_attrs.length; i++) {\n      toinsert[toinsert.length - 1].childNodes[1].setAttribute(script_attrs[i].name, script_attrs[i].value);\n    }\n    // store reference to server id on output_area\n    output_area._bokeh_server_id = output.metadata[EXEC_MIME_TYPE][\"server_id\"];\n  }\n}\n\n/**\n * Handle when an output is cleared or removed\n */\nfunction handle_clear_output(event, handle) {\n  var id = handle.cell.output_area._hv_plot_id;\n  var server_id = handle.cell.output_area._bokeh_server_id;\n  if (((id === undefined) || !(id in PyViz.plot_index)) && (server_id !== undefined)) { return; }\n  var comm = window.PyViz.comm_manager.get_client_comm(\"hv-extension-comm\", \"hv-extension-comm\", function () {});\n  if (server_id !== null) {\n    comm.send({event_type: 'server_delete', 'id': server_id});\n    return;\n  } else if (comm !== null) {\n    comm.send({event_type: 'delete', 'id': id});\n  }\n  delete PyViz.plot_index[id];\n  if ((window.Bokeh !== undefined) & (id in window.Bokeh.index)) {\n    var doc = window.Bokeh.index[id].model.document\n    doc.clear();\n    const i = window.Bokeh.documents.indexOf(doc);\n    if (i > -1) {\n      window.Bokeh.documents.splice(i, 1);\n    }\n  }\n}\n\n/**\n * Handle kernel restart event\n */\nfunction handle_kernel_cleanup(event, handle) {\n  delete PyViz.comms[\"hv-extension-comm\"];\n  window.PyViz.plot_index = {}\n}\n\n/**\n * Handle update_display_data messages\n */\nfunction handle_update_output(event, handle) {\n  handle_clear_output(event, {cell: {output_area: handle.output_area}})\n  handle_add_output(event, handle)\n}\n\nfunction register_renderer(events, OutputArea) {\n  function append_mime(data, metadata, element) {\n    // create a DOM node to render to\n    var toinsert = this.create_output_subarea(\n    metadata,\n    CLASS_NAME,\n    EXEC_MIME_TYPE\n    );\n    this.keyboard_manager.register_events(toinsert);\n    // Render to node\n    var props = {data: data, metadata: metadata[EXEC_MIME_TYPE]};\n    render(props, toinsert[0]);\n    element.append(toinsert);\n    return toinsert\n  }\n\n  events.on('output_added.OutputArea', handle_add_output);\n  events.on('output_updated.OutputArea', handle_update_output);\n  events.on('clear_output.CodeCell', handle_clear_output);\n  events.on('delete.Cell', handle_clear_output);\n  events.on('kernel_ready.Kernel', handle_kernel_cleanup);\n\n  OutputArea.prototype.register_mime_type(EXEC_MIME_TYPE, append_mime, {\n    safe: true,\n    index: 0\n  });\n}\n\nif (window.Jupyter !== undefined) {\n  try {\n    var events = require('base/js/events');\n    var OutputArea = require('notebook/js/outputarea').OutputArea;\n    if (OutputArea.prototype.mime_types().indexOf(EXEC_MIME_TYPE) == -1) {\n      register_renderer(events, OutputArea);\n    }\n  } catch(err) {\n  }\n}\n"
     },
     "metadata": {},
     "output_type": "display_data"
    },
    {
     "data": {
      "text/html": [
       "<style>.bk-root, .bk-root .bk:before, .bk-root .bk:after {\n",
       "  font-family: var(--jp-ui-font-size1);\n",
       "  font-size: var(--jp-ui-font-size1);\n",
       "  color: var(--jp-ui-font-color1);\n",
       "}\n",
       "</style>"
      ]
     },
     "metadata": {},
     "output_type": "display_data"
    }
   ],
   "source": [
    "import pandas as pd\n",
    "import numpy as np\n",
    "import panel as pn\n",
    "pn.extension('tabulator')\n",
    "#import hvplot as hv\n",
    "import hvplot.pandas # For create interactive data frames\n",
    "from IPython.display import Image # For Dashboard preview"
   ]
  },
  {
   "cell_type": "code",
   "execution_count": 48,
   "metadata": {},
   "outputs": [],
   "source": [
    "# cache data to improve dashboard performance\n",
    "if 'data' not in pn.state.cache.keys():\n",
    "    helados_2020 = pd.read_csv(\"C:/Users/alexc/Desktop/Helados/2020modificadoV2.csv\", delimiter=';')\n",
    "    pn.state.cache['data'] = helados_2020.copy()\n",
    "else: \n",
    "    helados_2020 = pn.state.cache['data']"
   ]
  },
  {
   "cell_type": "markdown",
   "metadata": {
    "id": "lUKWCfQeRn_5"
   },
   "source": [
    "### 0b. Load files"
   ]
  },
  {
   "cell_type": "markdown",
   "metadata": {},
   "source": [
    "#### *- If you want to load from google drive:*"
   ]
  },
  {
   "cell_type": "code",
   "execution_count": 49,
   "metadata": {
    "colab": {
     "base_uri": "https://localhost:8080/"
    },
    "executionInfo": {
     "elapsed": 19657,
     "status": "ok",
     "timestamp": 1653144701610,
     "user": {
      "displayName": "Alexander Chavez",
      "userId": "10987698664425569638"
     },
     "user_tz": 180
    },
    "id": "66O4qjjhk3BR",
    "outputId": "140ddf58-6a4e-43ad-c655-12c5e2f9e8e6"
   },
   "outputs": [],
   "source": [
    "#from google.colab import drive \n",
    "#drive.mount('/content/drive') "
   ]
  },
  {
   "cell_type": "code",
   "execution_count": 50,
   "metadata": {
    "executionInfo": {
     "elapsed": 566,
     "status": "ok",
     "timestamp": 1653144706786,
     "user": {
      "displayName": "Alexander Chavez",
      "userId": "10987698664425569638"
     },
     "user_tz": 180
    },
    "id": "f5yUCKNdmjgq",
    "tags": []
   },
   "outputs": [],
   "source": [
    "#path = \"/content/drive/MyDrive/csv/2020modificado.csv\"\n",
    "#helados_2020 = pd.read_csv(path, delimiter=';')\n",
    "#helados_2020.describe"
   ]
  },
  {
   "cell_type": "markdown",
   "metadata": {},
   "source": [
    "#### *-I load it from local drive:*"
   ]
  },
  {
   "cell_type": "code",
   "execution_count": 51,
   "metadata": {},
   "outputs": [
    {
     "data": {
      "text/html": [
       "<div>\n",
       "<style scoped>\n",
       "    .dataframe tbody tr th:only-of-type {\n",
       "        vertical-align: middle;\n",
       "    }\n",
       "\n",
       "    .dataframe tbody tr th {\n",
       "        vertical-align: top;\n",
       "    }\n",
       "\n",
       "    .dataframe thead th {\n",
       "        text-align: right;\n",
       "    }\n",
       "</style>\n",
       "<table border=\"1\" class=\"dataframe\">\n",
       "  <thead>\n",
       "    <tr style=\"text-align: right;\">\n",
       "      <th></th>\n",
       "      <th>succodigo</th>\n",
       "      <th>turno</th>\n",
       "      <th>caja</th>\n",
       "      <th>venta</th>\n",
       "      <th>comprobante</th>\n",
       "      <th>vtaoperacion</th>\n",
       "      <th>clinombre</th>\n",
       "      <th>vtaestado</th>\n",
       "      <th>vtafecha</th>\n",
       "      <th>franja_turno</th>\n",
       "      <th>...</th>\n",
       "      <th>sucursal</th>\n",
       "      <th>desde</th>\n",
       "      <th>hasta</th>\n",
       "      <th>sucdescrip</th>\n",
       "      <th>desdeturno</th>\n",
       "      <th>hastaturno</th>\n",
       "      <th>desdecomanda</th>\n",
       "      <th>hastacomanda</th>\n",
       "      <th>filtrosobreventa</th>\n",
       "      <th>cliente</th>\n",
       "    </tr>\n",
       "  </thead>\n",
       "  <tbody>\n",
       "    <tr>\n",
       "      <th>0</th>\n",
       "      <td>Pilar III</td>\n",
       "      <td>1</td>\n",
       "      <td>1</td>\n",
       "      <td>0</td>\n",
       "      <td>NaN</td>\n",
       "      <td>VF</td>\n",
       "      <td>Consumidor Final</td>\n",
       "      <td>Anulado</td>\n",
       "      <td>3/12/2020 19:34</td>\n",
       "      <td>3</td>\n",
       "      <td>...</td>\n",
       "      <td>1</td>\n",
       "      <td>3/12/2020 00:00</td>\n",
       "      <td>31/12/2020 23:55</td>\n",
       "      <td>TODAS</td>\n",
       "      <td>NaN</td>\n",
       "      <td>NaN</td>\n",
       "      <td>NaN</td>\n",
       "      <td>NaN</td>\n",
       "      <td>NaN</td>\n",
       "      <td>1</td>\n",
       "    </tr>\n",
       "    <tr>\n",
       "      <th>1</th>\n",
       "      <td>Pilar III</td>\n",
       "      <td>1</td>\n",
       "      <td>1</td>\n",
       "      <td>1</td>\n",
       "      <td>NaN</td>\n",
       "      <td>VF</td>\n",
       "      <td>Consumidor Final</td>\n",
       "      <td>Normal</td>\n",
       "      <td>3/12/2020 22:20</td>\n",
       "      <td>3</td>\n",
       "      <td>...</td>\n",
       "      <td>1</td>\n",
       "      <td>3/12/2020 00:00</td>\n",
       "      <td>31/12/2020 23:55</td>\n",
       "      <td>TODAS</td>\n",
       "      <td>NaN</td>\n",
       "      <td>NaN</td>\n",
       "      <td>NaN</td>\n",
       "      <td>NaN</td>\n",
       "      <td>NaN</td>\n",
       "      <td>1</td>\n",
       "    </tr>\n",
       "    <tr>\n",
       "      <th>2</th>\n",
       "      <td>Pilar III</td>\n",
       "      <td>1</td>\n",
       "      <td>1</td>\n",
       "      <td>2</td>\n",
       "      <td>NaN</td>\n",
       "      <td>VF</td>\n",
       "      <td>Consumidor Final</td>\n",
       "      <td>Normal</td>\n",
       "      <td>3/12/2020 22:21</td>\n",
       "      <td>3</td>\n",
       "      <td>...</td>\n",
       "      <td>1</td>\n",
       "      <td>3/12/2020 00:00</td>\n",
       "      <td>31/12/2020 23:55</td>\n",
       "      <td>TODAS</td>\n",
       "      <td>NaN</td>\n",
       "      <td>NaN</td>\n",
       "      <td>NaN</td>\n",
       "      <td>NaN</td>\n",
       "      <td>NaN</td>\n",
       "      <td>1</td>\n",
       "    </tr>\n",
       "  </tbody>\n",
       "</table>\n",
       "<p>3 rows × 31 columns</p>\n",
       "</div>"
      ],
      "text/plain": [
       "   succodigo  turno  caja  venta comprobante vtaoperacion         clinombre  \\\n",
       "0  Pilar III      1     1      0         NaN           VF  Consumidor Final   \n",
       "1  Pilar III      1     1      1         NaN           VF  Consumidor Final   \n",
       "2  Pilar III      1     1      2         NaN           VF  Consumidor Final   \n",
       "\n",
       "  vtaestado         vtafecha  franja_turno  ...  sucursal            desde  \\\n",
       "0   Anulado  3/12/2020 19:34             3  ...         1  3/12/2020 00:00   \n",
       "1    Normal  3/12/2020 22:20             3  ...         1  3/12/2020 00:00   \n",
       "2    Normal  3/12/2020 22:21             3  ...         1  3/12/2020 00:00   \n",
       "\n",
       "              hasta sucdescrip  desdeturno hastaturno desdecomanda  \\\n",
       "0  31/12/2020 23:55      TODAS         NaN        NaN          NaN   \n",
       "1  31/12/2020 23:55      TODAS         NaN        NaN          NaN   \n",
       "2  31/12/2020 23:55      TODAS         NaN        NaN          NaN   \n",
       "\n",
       "   hastacomanda  filtrosobreventa  cliente  \n",
       "0           NaN               NaN        1  \n",
       "1           NaN               NaN        1  \n",
       "2           NaN               NaN        1  \n",
       "\n",
       "[3 rows x 31 columns]"
      ]
     },
     "execution_count": 51,
     "metadata": {},
     "output_type": "execute_result"
    }
   ],
   "source": [
    "helados_2020 = pd.read_csv(\"C:/Users/alexc/Desktop/Helados/2020modificadoV3.csv\", delimiter=';')\n",
    "helados_2020.head(3)"
   ]
  },
  {
   "cell_type": "markdown",
   "metadata": {},
   "source": [
    "### 0.c ...a bit of data preprocessing"
   ]
  },
  {
   "cell_type": "code",
   "execution_count": 52,
   "metadata": {
    "colab": {
     "base_uri": "https://localhost:8080/",
     "height": 206
    },
    "executionInfo": {
     "elapsed": 281,
     "status": "ok",
     "timestamp": 1653144732318,
     "user": {
      "displayName": "Alexander Chavez",
      "userId": "10987698664425569638"
     },
     "user_tz": 180
    },
    "id": "CIiukisp2GmX",
    "outputId": "85e28473-e99a-42be-90ae-4d985691e798"
   },
   "outputs": [
    {
     "data": {
      "text/html": [
       "<div>\n",
       "<style scoped>\n",
       "    .dataframe tbody tr th:only-of-type {\n",
       "        vertical-align: middle;\n",
       "    }\n",
       "\n",
       "    .dataframe tbody tr th {\n",
       "        vertical-align: top;\n",
       "    }\n",
       "\n",
       "    .dataframe thead th {\n",
       "        text-align: right;\n",
       "    }\n",
       "</style>\n",
       "<table border=\"1\" class=\"dataframe\">\n",
       "  <thead>\n",
       "    <tr style=\"text-align: right;\">\n",
       "      <th></th>\n",
       "      <th>turno</th>\n",
       "      <th>caja</th>\n",
       "      <th>vtaoperacion</th>\n",
       "      <th>vtafecha</th>\n",
       "      <th>franja_turno</th>\n",
       "      <th>dia_venta</th>\n",
       "      <th>delivery</th>\n",
       "      <th>articulo</th>\n",
       "      <th>descrip</th>\n",
       "      <th>descrip_alex</th>\n",
       "      <th>precio</th>\n",
       "      <th>cant</th>\n",
       "      <th>total</th>\n",
       "      <th>desde</th>\n",
       "      <th>hasta</th>\n",
       "    </tr>\n",
       "  </thead>\n",
       "  <tbody>\n",
       "    <tr>\n",
       "      <th>0</th>\n",
       "      <td>1</td>\n",
       "      <td>1</td>\n",
       "      <td>VF</td>\n",
       "      <td>3/12/2020 19:34</td>\n",
       "      <td>3</td>\n",
       "      <td>3</td>\n",
       "      <td>No</td>\n",
       "      <td>186</td>\n",
       "      <td>Baño de Chocolate</td>\n",
       "      <td>Mini postres</td>\n",
       "      <td>10</td>\n",
       "      <td>1</td>\n",
       "      <td>10</td>\n",
       "      <td>3/12/2020 00:00</td>\n",
       "      <td>31/12/2020 23:55</td>\n",
       "    </tr>\n",
       "    <tr>\n",
       "      <th>1</th>\n",
       "      <td>1</td>\n",
       "      <td>1</td>\n",
       "      <td>VF</td>\n",
       "      <td>3/12/2020 22:20</td>\n",
       "      <td>3</td>\n",
       "      <td>3</td>\n",
       "      <td>No</td>\n",
       "      <td>31</td>\n",
       "      <td>Pal.Limon x 1</td>\n",
       "      <td>Palitos</td>\n",
       "      <td>30</td>\n",
       "      <td>1</td>\n",
       "      <td>30</td>\n",
       "      <td>3/12/2020 00:00</td>\n",
       "      <td>31/12/2020 23:55</td>\n",
       "    </tr>\n",
       "    <tr>\n",
       "      <th>2</th>\n",
       "      <td>1</td>\n",
       "      <td>1</td>\n",
       "      <td>VF</td>\n",
       "      <td>3/12/2020 22:21</td>\n",
       "      <td>3</td>\n",
       "      <td>3</td>\n",
       "      <td>No</td>\n",
       "      <td>31</td>\n",
       "      <td>Pal.Limon x 1</td>\n",
       "      <td>Palitos</td>\n",
       "      <td>30</td>\n",
       "      <td>1</td>\n",
       "      <td>30</td>\n",
       "      <td>3/12/2020 00:00</td>\n",
       "      <td>31/12/2020 23:55</td>\n",
       "    </tr>\n",
       "  </tbody>\n",
       "</table>\n",
       "</div>"
      ],
      "text/plain": [
       "   turno  caja vtaoperacion         vtafecha  franja_turno  dia_venta  \\\n",
       "0      1     1           VF  3/12/2020 19:34             3          3   \n",
       "1      1     1           VF  3/12/2020 22:20             3          3   \n",
       "2      1     1           VF  3/12/2020 22:21             3          3   \n",
       "\n",
       "  delivery  articulo            descrip  descrip_alex  precio  cant  total  \\\n",
       "0       No       186  Baño de Chocolate  Mini postres      10     1     10   \n",
       "1       No        31      Pal.Limon x 1       Palitos      30     1     30   \n",
       "2       No        31      Pal.Limon x 1       Palitos      30     1     30   \n",
       "\n",
       "             desde             hasta  \n",
       "0  3/12/2020 00:00  31/12/2020 23:55  \n",
       "1  3/12/2020 00:00  31/12/2020 23:55  \n",
       "2  3/12/2020 00:00  31/12/2020 23:55  "
      ]
     },
     "execution_count": 52,
     "metadata": {},
     "output_type": "execute_result"
    }
   ],
   "source": [
    "# \"Drop/Delete indicated columns\"\n",
    "helados_2020 = helados_2020.drop(columns=\n",
    "                                 [\n",
    "                                  'succodigo',\n",
    "                                  #'turno',\n",
    "                                  #'caja',\n",
    "                                  'venta',\n",
    "                                  'comprobante',\n",
    "                                  #'vtaoperacion',\n",
    "                                  'clinombre',\n",
    "                                  'vtaestado',\n",
    "                                  #'vtafecha',\n",
    "                                  #'franja_turno',\n",
    "                                  #'dia_venta',\n",
    "                                  'usulogin',\n",
    "                                  'condvtapos',\n",
    "                                  #'delivery',\n",
    "                                  #'articulo',\n",
    "                                  #'descrip',\n",
    "                                  #'precio',\n",
    "                                  #'cant',\n",
    "                                  #'total',\n",
    "                                  'venta1',\n",
    "                                  'sucursal',\n",
    "                                  #'desde',\n",
    "                                  #'hasta',\n",
    "                                  'sucdescrip',\n",
    "                                  'desdeturno',\n",
    "                                  'hastaturno',\n",
    "                                  'desdecomanda',\n",
    "                                  'hastacomanda',\n",
    "                                  'filtrosobreventa',\n",
    "                                  'cliente'\n",
    "                                  ]) \n",
    "#helados_2020 = helados_2020.fillna(0) # Replace Na with 0\n",
    "#helados_2020 = data[data['subtitles'] != 0] # Delete all zero-rows.\n",
    "#data = data.assign(column_number=data.subtitles.index) # Extract index and Create new column_number\n",
    "helados_2020.head(3)"
   ]
  },
  {
   "cell_type": "code",
   "execution_count": 53,
   "metadata": {
    "executionInfo": {
     "elapsed": 291,
     "status": "ok",
     "timestamp": 1653145168629,
     "user": {
      "displayName": "Alexander Chavez",
      "userId": "10987698664425569638"
     },
     "user_tz": 180
    },
    "id": "4wIumMIPfCEN"
   },
   "outputs": [],
   "source": [
    "# Make df Pipeline Interactive\n",
    "i_helados_2020 = helados_2020.interactive()"
   ]
  },
  {
   "cell_type": "markdown",
   "metadata": {},
   "source": [
    "### 1. Total sales over time by description (Product list)"
   ]
  },
  {
   "cell_type": "code",
   "execution_count": 54,
   "metadata": {
    "colab": {
     "base_uri": "https://localhost:8080/",
     "height": 17
    },
    "executionInfo": {
     "elapsed": 265,
     "status": "ok",
     "timestamp": 1653145607018,
     "user": {
      "displayName": "Alexander Chavez",
      "userId": "10987698664425569638"
     },
     "user_tz": 180
    },
    "id": "q5We6Ml2Hv_Y",
    "outputId": "e9cc5c97-afc4-4710-b25d-f93251ed15ac"
   },
   "outputs": [
    {
     "data": {},
     "metadata": {},
     "output_type": "display_data"
    },
    {
     "data": {
      "application/vnd.holoviews_exec.v0+json": "",
      "text/html": [
       "<div id='32260'>\n",
       "\n",
       "\n",
       "\n",
       "\n",
       "\n",
       "  <div class=\"bk-root\" id=\"002dd497-5f38-4269-aae1-41d5cb345757\" data-root-id=\"32260\"></div>\n",
       "</div>\n",
       "<script type=\"application/javascript\">(function(root) {\n",
       "  function embed_document(root) {\n",
       "    var docs_json = {\"35c68b64-5ccd-48a6-a049-a3083be2ed67\":{\"defs\":[{\"extends\":null,\"module\":null,\"name\":\"ReactiveHTML1\",\"overrides\":[],\"properties\":[]},{\"extends\":null,\"module\":null,\"name\":\"FlexBox1\",\"overrides\":[],\"properties\":[{\"default\":\"flex-start\",\"kind\":null,\"name\":\"align_content\"},{\"default\":\"flex-start\",\"kind\":null,\"name\":\"align_items\"},{\"default\":\"row\",\"kind\":null,\"name\":\"flex_direction\"},{\"default\":\"wrap\",\"kind\":null,\"name\":\"flex_wrap\"},{\"default\":\"flex-start\",\"kind\":null,\"name\":\"justify_content\"}]},{\"extends\":null,\"module\":null,\"name\":\"GridStack1\",\"overrides\":[],\"properties\":[{\"default\":\"warn\",\"kind\":null,\"name\":\"mode\"},{\"default\":null,\"kind\":null,\"name\":\"ncols\"},{\"default\":null,\"kind\":null,\"name\":\"nrows\"},{\"default\":true,\"kind\":null,\"name\":\"allow_resize\"},{\"default\":true,\"kind\":null,\"name\":\"allow_drag\"},{\"default\":[],\"kind\":null,\"name\":\"state\"}]},{\"extends\":null,\"module\":null,\"name\":\"click1\",\"overrides\":[],\"properties\":[{\"default\":\"\",\"kind\":null,\"name\":\"terminal_output\"},{\"default\":\"\",\"kind\":null,\"name\":\"debug_name\"},{\"default\":0,\"kind\":null,\"name\":\"clears\"}]},{\"extends\":null,\"module\":null,\"name\":\"TemplateActions1\",\"overrides\":[],\"properties\":[{\"default\":0,\"kind\":null,\"name\":\"open_modal\"},{\"default\":0,\"kind\":null,\"name\":\"close_modal\"}]},{\"extends\":null,\"module\":null,\"name\":\"MaterialTemplateActions1\",\"overrides\":[],\"properties\":[{\"default\":0,\"kind\":null,\"name\":\"open_modal\"},{\"default\":0,\"kind\":null,\"name\":\"close_modal\"}]}],\"roots\":{\"references\":[{\"attributes\":{\"end\":30,\"margin\":[5,10,5,10],\"start\":1,\"title\":\"Diciembre 2020. D\\u00eda: \",\"value\":3},\"id\":\"32260\",\"type\":\"Slider\"},{\"attributes\":{\"client_comm_id\":\"7cb9f9cca3db4a08b2c7eb493af7accb\",\"comm_id\":\"8748a51de8bb4ddd91930d85a049db75\",\"plot_id\":\"32260\"},\"id\":\"32261\",\"type\":\"panel.models.comm_manager.CommManager\"}],\"root_ids\":[\"32260\",\"32261\"]},\"title\":\"Bokeh Application\",\"version\":\"2.4.1\"}};\n",
       "    var render_items = [{\"docid\":\"35c68b64-5ccd-48a6-a049-a3083be2ed67\",\"root_ids\":[\"32260\"],\"roots\":{\"32260\":\"002dd497-5f38-4269-aae1-41d5cb345757\"}}];\n",
       "    root.Bokeh.embed.embed_items_notebook(docs_json, render_items);\n",
       "  }\n",
       "  if (root.Bokeh !== undefined && root.Bokeh.Panel !== undefined && ( root['Tabulator'] !== undefined)) {\n",
       "    embed_document(root);\n",
       "  } else {\n",
       "    var attempts = 0;\n",
       "    var timer = setInterval(function(root) {\n",
       "      if (root.Bokeh !== undefined && root.Bokeh.Panel !== undefined && (root['Tabulator'] !== undefined)) {\n",
       "        clearInterval(timer);\n",
       "        embed_document(root);\n",
       "      } else if (document.readyState == \"complete\") {\n",
       "        attempts++;\n",
       "        if (attempts > 200) {\n",
       "          clearInterval(timer);\n",
       "          console.log(\"Bokeh: ERROR: Unable to run BokehJS code because BokehJS library is missing\");\n",
       "        }\n",
       "      }\n",
       "    }, 25, root)\n",
       "  }\n",
       "})(window);</script>"
      ],
      "text/plain": [
       "IntSlider(end=30, name='Diciembre 2020. Día: ', start=1, value=3)"
      ]
     },
     "execution_count": 54,
     "metadata": {
      "application/vnd.holoviews_exec.v0+json": {
       "id": "32260"
      }
     },
     "output_type": "execute_result"
    }
   ],
   "source": [
    "# Define Panel widgets\n",
    "Diciembre_slider = pn.widgets.IntSlider(name='Diciembre 2020. Día: ', start=1, end=30, step=1, value=3)\n",
    "Diciembre_slider"
   ]
  },
  {
   "cell_type": "code",
   "execution_count": 55,
   "metadata": {
    "id": "eCJbv4EPHwEs"
   },
   "outputs": [],
   "source": [
    "# Radio buttons for \"total\" measures\n",
    "yaxis_total = pn.widgets.RadioButtonGroup(\n",
    "    name='Eje Y', \n",
    "    options=['total', \n",
    "             'cant',\n",
    "            ],\n",
    "    button_type='success'\n",
    ")"
   ]
  },
  {
   "cell_type": "code",
   "execution_count": 56,
   "metadata": {
    "id": "8MnA30kzHwHF"
   },
   "outputs": [],
   "source": [
    "descripcion = ['Mini postres',\n",
    "                'Palitos',\n",
    "                'Bon Bon',\n",
    "                'Tentación',\n",
    "                'Top Cookie',\n",
    "                'Helado por kilo',\n",
    "                'Postres',\n",
    "                'Cremoso',\n",
    "                'Familiar',\n",
    "                'Almendrado',\n",
    "                'Comidas rápidas',\n",
    "                'Cafetería',\n",
    "                'Cups',\n",
    "                'Smoothie',\n",
    "                ]\n",
    "total_pipeline = (\n",
    "    i_helados_2020[\n",
    "        (i_helados_2020.dia_venta <= Diciembre_slider) &\n",
    "        (i_helados_2020.descrip_alex.isin(descripcion))\n",
    "    ]\n",
    "    .groupby(['descrip_alex', 'dia_venta'])[yaxis_total].sum()\n",
    "    .round(2) # Two decimals\n",
    "    .to_frame()\n",
    "    .reset_index()\n",
    "    .sort_values(by='dia_venta')  \n",
    "    .reset_index(drop=True)\n",
    ")"
   ]
  },
  {
   "cell_type": "code",
   "execution_count": 57,
   "metadata": {
    "id": "P-nSy11YHwJh",
    "tags": []
   },
   "outputs": [
    {
     "data": {},
     "metadata": {},
     "output_type": "display_data"
    },
    {
     "data": {
      "application/vnd.holoviews_exec.v0+json": "",
      "text/html": [
       "<div id='32262'>\n",
       "\n",
       "\n",
       "\n",
       "\n",
       "\n",
       "  <div class=\"bk-root\" id=\"b9b86cc4-94e8-4431-8404-1d8bd0278a49\" data-root-id=\"32262\"></div>\n",
       "</div>\n",
       "<script type=\"application/javascript\">(function(root) {\n",
       "  function embed_document(root) {\n",
       "    var docs_json = {\"c30eff92-2c49-4a35-bcad-53e0249a5c35\":{\"defs\":[{\"extends\":null,\"module\":null,\"name\":\"ReactiveHTML1\",\"overrides\":[],\"properties\":[]},{\"extends\":null,\"module\":null,\"name\":\"FlexBox1\",\"overrides\":[],\"properties\":[{\"default\":\"flex-start\",\"kind\":null,\"name\":\"align_content\"},{\"default\":\"flex-start\",\"kind\":null,\"name\":\"align_items\"},{\"default\":\"row\",\"kind\":null,\"name\":\"flex_direction\"},{\"default\":\"wrap\",\"kind\":null,\"name\":\"flex_wrap\"},{\"default\":\"flex-start\",\"kind\":null,\"name\":\"justify_content\"}]},{\"extends\":null,\"module\":null,\"name\":\"GridStack1\",\"overrides\":[],\"properties\":[{\"default\":\"warn\",\"kind\":null,\"name\":\"mode\"},{\"default\":null,\"kind\":null,\"name\":\"ncols\"},{\"default\":null,\"kind\":null,\"name\":\"nrows\"},{\"default\":true,\"kind\":null,\"name\":\"allow_resize\"},{\"default\":true,\"kind\":null,\"name\":\"allow_drag\"},{\"default\":[],\"kind\":null,\"name\":\"state\"}]},{\"extends\":null,\"module\":null,\"name\":\"click1\",\"overrides\":[],\"properties\":[{\"default\":\"\",\"kind\":null,\"name\":\"terminal_output\"},{\"default\":\"\",\"kind\":null,\"name\":\"debug_name\"},{\"default\":0,\"kind\":null,\"name\":\"clears\"}]},{\"extends\":null,\"module\":null,\"name\":\"TemplateActions1\",\"overrides\":[],\"properties\":[{\"default\":0,\"kind\":null,\"name\":\"open_modal\"},{\"default\":0,\"kind\":null,\"name\":\"close_modal\"}]},{\"extends\":null,\"module\":null,\"name\":\"MaterialTemplateActions1\",\"overrides\":[],\"properties\":[{\"default\":0,\"kind\":null,\"name\":\"open_modal\"},{\"default\":0,\"kind\":null,\"name\":\"close_modal\"}]}],\"roots\":{\"references\":[{\"attributes\":{\"children\":[{\"id\":\"32270\"}],\"margin\":[0,0,0,0],\"name\":\"Row77897\"},\"id\":\"32269\",\"type\":\"Row\"},{\"attributes\":{\"margin\":[5,5,5,5],\"name\":\"HSpacer77928\",\"sizing_mode\":\"stretch_width\"},\"id\":\"32268\",\"type\":\"Spacer\"},{\"attributes\":{\"client_comm_id\":\"c87a771ff4ea46789cf3b9540af41a8c\",\"comm_id\":\"160fc068d0eb413d9aff0cfdbfe5fae6\",\"plot_id\":\"32262\"},\"id\":\"32271\",\"type\":\"panel.models.comm_manager.CommManager\"},{\"attributes\":{\"end\":30,\"margin\":[5,10,5,10],\"start\":1,\"title\":\"Diciembre 2020. D\\u00eda: \",\"value\":3},\"id\":\"32266\",\"type\":\"Slider\"},{\"attributes\":{\"children\":[{\"id\":\"32264\"},{\"id\":\"32269\"}],\"margin\":[0,0,0,0],\"name\":\"Column77930\"},\"id\":\"32263\",\"type\":\"Column\"},{\"attributes\":{\"margin\":[5,5,5,5],\"name\":\"DataFrame77926\",\"text\":\"&lt;table border=&quot;0&quot; class=&quot;dataframe panel-df&quot;&gt;\\n  &lt;thead&gt;\\n    &lt;tr style=&quot;text-align: right;&quot;&gt;\\n      &lt;th&gt;&lt;/th&gt;\\n      &lt;th&gt;descrip_alex&lt;/th&gt;\\n      &lt;th&gt;dia_venta&lt;/th&gt;\\n      &lt;th&gt;total&lt;/th&gt;\\n    &lt;/tr&gt;\\n  &lt;/thead&gt;\\n  &lt;tbody&gt;\\n    &lt;tr&gt;\\n      &lt;th&gt;0&lt;/th&gt;\\n      &lt;td&gt;Mini postres&lt;/td&gt;\\n      &lt;td&gt;3&lt;/td&gt;\\n      &lt;td&gt;130&lt;/td&gt;\\n    &lt;/tr&gt;\\n    &lt;tr&gt;\\n      &lt;th&gt;1&lt;/th&gt;\\n      &lt;td&gt;Palitos&lt;/td&gt;\\n      &lt;td&gt;3&lt;/td&gt;\\n      &lt;td&gt;90&lt;/td&gt;\\n    &lt;/tr&gt;\\n  &lt;/tbody&gt;\\n&lt;/table&gt;\"},\"id\":\"32270\",\"type\":\"panel.models.markup.HTML\"},{\"attributes\":{\"active\":0,\"button_type\":\"success\",\"labels\":[\"total\",\"cant\"],\"margin\":[5,10,5,10]},\"id\":\"32267\",\"type\":\"RadioButtonGroup\"},{\"attributes\":{\"children\":[{\"id\":\"32266\"},{\"id\":\"32267\"}],\"margin\":[0,0,0,0],\"name\":\"Column77892\"},\"id\":\"32265\",\"type\":\"Column\"},{\"attributes\":{\"children\":[{\"id\":\"32263\"}],\"margin\":[0,0,0,0],\"name\":\"Row77931\"},\"id\":\"32262\",\"type\":\"Row\"},{\"attributes\":{\"children\":[{\"id\":\"32265\"},{\"id\":\"32268\"}],\"margin\":[0,0,0,0],\"name\":\"Row77929\"},\"id\":\"32264\",\"type\":\"Row\"}],\"root_ids\":[\"32262\",\"32271\"]},\"title\":\"Bokeh Application\",\"version\":\"2.4.1\"}};\n",
       "    var render_items = [{\"docid\":\"c30eff92-2c49-4a35-bcad-53e0249a5c35\",\"root_ids\":[\"32262\"],\"roots\":{\"32262\":\"b9b86cc4-94e8-4431-8404-1d8bd0278a49\"}}];\n",
       "    root.Bokeh.embed.embed_items_notebook(docs_json, render_items);\n",
       "  }\n",
       "  if (root.Bokeh !== undefined && root.Bokeh.Panel !== undefined && ( root['Tabulator'] !== undefined)) {\n",
       "    embed_document(root);\n",
       "  } else {\n",
       "    var attempts = 0;\n",
       "    var timer = setInterval(function(root) {\n",
       "      if (root.Bokeh !== undefined && root.Bokeh.Panel !== undefined && (root['Tabulator'] !== undefined)) {\n",
       "        clearInterval(timer);\n",
       "        embed_document(root);\n",
       "      } else if (document.readyState == \"complete\") {\n",
       "        attempts++;\n",
       "        if (attempts > 200) {\n",
       "          clearInterval(timer);\n",
       "          console.log(\"Bokeh: ERROR: Unable to run BokehJS code because BokehJS library is missing\");\n",
       "        }\n",
       "      }\n",
       "    }, 25, root)\n",
       "  }\n",
       "})(window);</script>"
      ],
      "text/plain": [
       "<hvplot.interactive.Interactive at 0x1a6c7980cd0>"
      ]
     },
     "execution_count": 57,
     "metadata": {
      "application/vnd.holoviews_exec.v0+json": {
       "id": "32262"
      }
     },
     "output_type": "execute_result"
    }
   ],
   "source": [
    "total_pipeline.head()"
   ]
  },
  {
   "cell_type": "markdown",
   "metadata": {
    "tags": []
   },
   "source": [
    "### 1a. Total sales over time by description plot"
   ]
  },
  {
   "cell_type": "code",
   "execution_count": 58,
   "metadata": {
    "id": "K2YIqzozHwL2"
   },
   "outputs": [
    {
     "data": {},
     "metadata": {},
     "output_type": "display_data"
    },
    {
     "data": {},
     "metadata": {},
     "output_type": "display_data"
    },
    {
     "data": {
      "application/vnd.holoviews_exec.v0+json": "",
      "text/html": [
       "<div id='32272'>\n",
       "\n",
       "\n",
       "\n",
       "\n",
       "\n",
       "  <div class=\"bk-root\" id=\"610611f8-6399-4db4-8a26-7564d1c47b1c\" data-root-id=\"32272\"></div>\n",
       "</div>\n",
       "<script type=\"application/javascript\">(function(root) {\n",
       "  function embed_document(root) {\n",
       "    var docs_json = {\"7b2683be-30f2-427a-91e6-ab253d76253a\":{\"defs\":[{\"extends\":null,\"module\":null,\"name\":\"ReactiveHTML1\",\"overrides\":[],\"properties\":[]},{\"extends\":null,\"module\":null,\"name\":\"FlexBox1\",\"overrides\":[],\"properties\":[{\"default\":\"flex-start\",\"kind\":null,\"name\":\"align_content\"},{\"default\":\"flex-start\",\"kind\":null,\"name\":\"align_items\"},{\"default\":\"row\",\"kind\":null,\"name\":\"flex_direction\"},{\"default\":\"wrap\",\"kind\":null,\"name\":\"flex_wrap\"},{\"default\":\"flex-start\",\"kind\":null,\"name\":\"justify_content\"}]},{\"extends\":null,\"module\":null,\"name\":\"GridStack1\",\"overrides\":[],\"properties\":[{\"default\":\"warn\",\"kind\":null,\"name\":\"mode\"},{\"default\":null,\"kind\":null,\"name\":\"ncols\"},{\"default\":null,\"kind\":null,\"name\":\"nrows\"},{\"default\":true,\"kind\":null,\"name\":\"allow_resize\"},{\"default\":true,\"kind\":null,\"name\":\"allow_drag\"},{\"default\":[],\"kind\":null,\"name\":\"state\"}]},{\"extends\":null,\"module\":null,\"name\":\"click1\",\"overrides\":[],\"properties\":[{\"default\":\"\",\"kind\":null,\"name\":\"terminal_output\"},{\"default\":\"\",\"kind\":null,\"name\":\"debug_name\"},{\"default\":0,\"kind\":null,\"name\":\"clears\"}]},{\"extends\":null,\"module\":null,\"name\":\"TemplateActions1\",\"overrides\":[],\"properties\":[{\"default\":0,\"kind\":null,\"name\":\"open_modal\"},{\"default\":0,\"kind\":null,\"name\":\"close_modal\"}]},{\"extends\":null,\"module\":null,\"name\":\"MaterialTemplateActions1\",\"overrides\":[],\"properties\":[{\"default\":0,\"kind\":null,\"name\":\"open_modal\"},{\"default\":0,\"kind\":null,\"name\":\"close_modal\"}]}],\"roots\":{\"references\":[{\"attributes\":{\"active\":0,\"button_type\":\"success\",\"labels\":[\"total\",\"cant\"],\"margin\":[5,10,5,10]},\"id\":\"32277\",\"type\":\"RadioButtonGroup\"},{\"attributes\":{\"line_color\":\"#30a2da\",\"line_width\":2,\"x\":{\"field\":\"dia_venta\"},\"y\":{\"field\":\"total\"}},\"id\":\"32323\",\"type\":\"Line\"},{\"attributes\":{\"line_alpha\":0.2,\"line_color\":\"#30a2da\",\"line_width\":2,\"x\":{\"field\":\"dia_venta\"},\"y\":{\"field\":\"total\"}},\"id\":\"32325\",\"type\":\"Line\"},{\"attributes\":{},\"id\":\"32294\",\"type\":\"BasicTicker\"},{\"attributes\":{\"line_alpha\":0.1,\"line_color\":\"#fc4f30\",\"line_width\":2,\"x\":{\"field\":\"dia_venta\"},\"y\":{\"field\":\"total\"}},\"id\":\"32345\",\"type\":\"Line\"},{\"attributes\":{\"end\":4.0,\"reset_end\":4.0,\"reset_start\":2.0,\"start\":2.0,\"tags\":[[[\"dia_venta\",\"dia_venta\",null]]]},\"id\":\"32280\",\"type\":\"Range1d\"},{\"attributes\":{\"click_policy\":\"mute\",\"coordinates\":null,\"group\":null,\"items\":[{\"id\":\"32339\"},{\"id\":\"32361\"}],\"location\":[0,0],\"orientation\":\"horizontal\",\"title\":\"descrip_alex\"},\"id\":\"32338\",\"type\":\"Legend\"},{\"attributes\":{},\"id\":\"32302\",\"type\":\"PanTool\"},{\"attributes\":{},\"id\":\"32358\",\"type\":\"UnionRenderers\"},{\"attributes\":{\"below\":[{\"id\":\"32293\"},{\"id\":\"32338\"}],\"center\":[{\"id\":\"32296\"},{\"id\":\"32300\"}],\"height\":300,\"left\":[{\"id\":\"32297\"}],\"margin\":[5,5,5,5],\"min_border_bottom\":10,\"min_border_left\":10,\"min_border_right\":10,\"min_border_top\":10,\"renderers\":[{\"id\":\"32326\"},{\"id\":\"32347\"}],\"sizing_mode\":\"fixed\",\"title\":{\"id\":\"32285\"},\"toolbar\":{\"id\":\"32307\"},\"width\":700,\"x_range\":{\"id\":\"32280\"},\"x_scale\":{\"id\":\"32289\"},\"y_range\":{\"id\":\"32281\"},\"y_scale\":{\"id\":\"32291\"}},\"id\":\"32284\",\"subtype\":\"Figure\",\"type\":\"Plot\"},{\"attributes\":{\"data\":{\"descrip_alex\":[\"Palitos\"],\"dia_venta\":[3],\"total\":[90]},\"selected\":{\"id\":\"32342\"},\"selection_policy\":{\"id\":\"32358\"}},\"id\":\"32341\",\"type\":\"ColumnDataSource\"},{\"attributes\":{\"end\":134.0,\"reset_end\":134.0,\"reset_start\":86.0,\"start\":86.0,\"tags\":[[[\"total\",\"total\",null]]]},\"id\":\"32281\",\"type\":\"Range1d\"},{\"attributes\":{\"coordinates\":null,\"group\":null,\"text\":\"Ventas a lo largo del mes\",\"text_color\":\"black\",\"text_font_size\":\"12pt\"},\"id\":\"32285\",\"type\":\"Title\"},{\"attributes\":{\"children\":[{\"id\":\"32274\"},{\"id\":\"32279\"}],\"margin\":[0,0,0,0],\"name\":\"Column78349\"},\"id\":\"32273\",\"type\":\"Column\"},{\"attributes\":{},\"id\":\"32303\",\"type\":\"WheelZoomTool\"},{\"attributes\":{\"children\":[{\"id\":\"32273\"}],\"margin\":[0,0,0,0],\"name\":\"Row78350\"},\"id\":\"32272\",\"type\":\"Row\"},{\"attributes\":{},\"id\":\"32289\",\"type\":\"LinearScale\"},{\"attributes\":{},\"id\":\"32305\",\"type\":\"ResetTool\"},{\"attributes\":{},\"id\":\"32318\",\"type\":\"BasicTickFormatter\"},{\"attributes\":{\"label\":{\"value\":\"Palitos\"},\"renderers\":[{\"id\":\"32347\"}]},\"id\":\"32361\",\"type\":\"LegendItem\"},{\"attributes\":{},\"id\":\"32321\",\"type\":\"Selection\"},{\"attributes\":{},\"id\":\"32298\",\"type\":\"BasicTicker\"},{\"attributes\":{\"tools\":[{\"id\":\"32282\"},{\"id\":\"32301\"},{\"id\":\"32302\"},{\"id\":\"32303\"},{\"id\":\"32304\"},{\"id\":\"32305\"}]},\"id\":\"32307\",\"type\":\"Toolbar\"},{\"attributes\":{\"line_color\":\"#fc4f30\",\"line_width\":2,\"x\":{\"field\":\"dia_venta\"},\"y\":{\"field\":\"total\"}},\"id\":\"32362\",\"type\":\"Line\"},{\"attributes\":{\"line_alpha\":0.2,\"line_color\":\"#fc4f30\",\"line_width\":2,\"x\":{\"field\":\"dia_venta\"},\"y\":{\"field\":\"total\"}},\"id\":\"32346\",\"type\":\"Line\"},{\"attributes\":{},\"id\":\"32335\",\"type\":\"UnionRenderers\"},{\"attributes\":{\"overlay\":{\"id\":\"32306\"}},\"id\":\"32304\",\"type\":\"BoxZoomTool\"},{\"attributes\":{\"source\":{\"id\":\"32341\"}},\"id\":\"32348\",\"type\":\"CDSView\"},{\"attributes\":{\"data\":{\"descrip_alex\":[\"Mini postres\"],\"dia_venta\":[3],\"total\":[130]},\"selected\":{\"id\":\"32321\"},\"selection_policy\":{\"id\":\"32335\"}},\"id\":\"32320\",\"type\":\"ColumnDataSource\"},{\"attributes\":{\"coordinates\":null,\"data_source\":{\"id\":\"32341\"},\"glyph\":{\"id\":\"32344\"},\"group\":null,\"hover_glyph\":null,\"muted_glyph\":{\"id\":\"32346\"},\"nonselection_glyph\":{\"id\":\"32345\"},\"selection_glyph\":{\"id\":\"32362\"},\"view\":{\"id\":\"32348\"}},\"id\":\"32347\",\"type\":\"GlyphRenderer\"},{\"attributes\":{},\"id\":\"32319\",\"type\":\"AllLabels\"},{\"attributes\":{},\"id\":\"32342\",\"type\":\"Selection\"},{\"attributes\":{\"bottom_units\":\"screen\",\"coordinates\":null,\"fill_alpha\":0.5,\"fill_color\":\"lightgrey\",\"group\":null,\"left_units\":\"screen\",\"level\":\"overlay\",\"line_alpha\":1.0,\"line_color\":\"black\",\"line_dash\":[4,4],\"line_width\":2,\"right_units\":\"screen\",\"syncable\":false,\"top_units\":\"screen\"},\"id\":\"32306\",\"type\":\"BoxAnnotation\"},{\"attributes\":{\"axis\":{\"id\":\"32293\"},\"coordinates\":null,\"grid_line_color\":null,\"group\":null,\"ticker\":null},\"id\":\"32296\",\"type\":\"Grid\"},{\"attributes\":{\"line_color\":\"#30a2da\",\"line_width\":2,\"x\":{\"field\":\"dia_venta\"},\"y\":{\"field\":\"total\"}},\"id\":\"32340\",\"type\":\"Line\"},{\"attributes\":{\"line_alpha\":0.1,\"line_color\":\"#30a2da\",\"line_width\":2,\"x\":{\"field\":\"dia_venta\"},\"y\":{\"field\":\"total\"}},\"id\":\"32324\",\"type\":\"Line\"},{\"attributes\":{\"label\":{\"value\":\"Mini postres\"},\"renderers\":[{\"id\":\"32326\"}]},\"id\":\"32339\",\"type\":\"LegendItem\"},{\"attributes\":{\"end\":30,\"margin\":[5,10,5,10],\"start\":1,\"title\":\"Diciembre 2020. D\\u00eda: \",\"value\":3},\"id\":\"32276\",\"type\":\"Slider\"},{\"attributes\":{\"source\":{\"id\":\"32320\"}},\"id\":\"32327\",\"type\":\"CDSView\"},{\"attributes\":{\"line_color\":\"#fc4f30\",\"line_width\":2,\"x\":{\"field\":\"dia_venta\"},\"y\":{\"field\":\"total\"}},\"id\":\"32344\",\"type\":\"Line\"},{\"attributes\":{\"children\":[{\"id\":\"32276\"},{\"id\":\"32277\"}],\"margin\":[0,0,0,0],\"name\":\"Column78149\"},\"id\":\"32275\",\"type\":\"Column\"},{\"attributes\":{\"margin\":[5,5,5,5],\"name\":\"HSpacer78347\",\"sizing_mode\":\"stretch_width\"},\"id\":\"32278\",\"type\":\"Spacer\"},{\"attributes\":{\"coordinates\":null,\"data_source\":{\"id\":\"32320\"},\"glyph\":{\"id\":\"32323\"},\"group\":null,\"hover_glyph\":null,\"muted_glyph\":{\"id\":\"32325\"},\"nonselection_glyph\":{\"id\":\"32324\"},\"selection_glyph\":{\"id\":\"32340\"},\"view\":{\"id\":\"32327\"}},\"id\":\"32326\",\"type\":\"GlyphRenderer\"},{\"attributes\":{},\"id\":\"32315\",\"type\":\"BasicTickFormatter\"},{\"attributes\":{\"client_comm_id\":\"f017895897314260b7b7052ed523eeba\",\"comm_id\":\"40e337c09edd4a619678f277bf4e429a\",\"plot_id\":\"32272\"},\"id\":\"32507\",\"type\":\"panel.models.comm_manager.CommManager\"},{\"attributes\":{\"children\":[{\"id\":\"32284\"}],\"margin\":[0,0,0,0],\"name\":\"Row78154\"},\"id\":\"32279\",\"type\":\"Row\"},{\"attributes\":{},\"id\":\"32316\",\"type\":\"AllLabels\"},{\"attributes\":{\"axis_label\":\"dia_venta\",\"coordinates\":null,\"formatter\":{\"id\":\"32315\"},\"group\":null,\"major_label_policy\":{\"id\":\"32316\"},\"ticker\":{\"id\":\"32294\"}},\"id\":\"32293\",\"type\":\"LinearAxis\"},{\"attributes\":{},\"id\":\"32301\",\"type\":\"SaveTool\"},{\"attributes\":{\"axis\":{\"id\":\"32297\"},\"coordinates\":null,\"dimension\":1,\"grid_line_color\":null,\"group\":null,\"ticker\":null},\"id\":\"32300\",\"type\":\"Grid\"},{\"attributes\":{\"children\":[{\"id\":\"32275\"},{\"id\":\"32278\"}],\"margin\":[0,0,0,0],\"name\":\"Row78348\"},\"id\":\"32274\",\"type\":\"Row\"},{\"attributes\":{},\"id\":\"32291\",\"type\":\"LinearScale\"},{\"attributes\":{\"callback\":null,\"renderers\":[{\"id\":\"32326\"},{\"id\":\"32347\"}],\"tags\":[\"hv_created\"],\"tooltips\":[[\"descrip_alex\",\"@{descrip_alex}\"],[\"dia_venta\",\"@{dia_venta}\"],[\"total\",\"@{total}\"]]},\"id\":\"32282\",\"type\":\"HoverTool\"},{\"attributes\":{\"axis_label\":\"total\",\"coordinates\":null,\"formatter\":{\"id\":\"32318\"},\"group\":null,\"major_label_policy\":{\"id\":\"32319\"},\"ticker\":{\"id\":\"32298\"}},\"id\":\"32297\",\"type\":\"LinearAxis\"}],\"root_ids\":[\"32272\",\"32507\"]},\"title\":\"Bokeh Application\",\"version\":\"2.4.1\"}};\n",
       "    var render_items = [{\"docid\":\"7b2683be-30f2-427a-91e6-ab253d76253a\",\"root_ids\":[\"32272\"],\"roots\":{\"32272\":\"610611f8-6399-4db4-8a26-7564d1c47b1c\"}}];\n",
       "    root.Bokeh.embed.embed_items_notebook(docs_json, render_items);\n",
       "  }\n",
       "  if (root.Bokeh !== undefined && root.Bokeh.Panel !== undefined && ( root['Tabulator'] !== undefined)) {\n",
       "    embed_document(root);\n",
       "  } else {\n",
       "    var attempts = 0;\n",
       "    var timer = setInterval(function(root) {\n",
       "      if (root.Bokeh !== undefined && root.Bokeh.Panel !== undefined && (root['Tabulator'] !== undefined)) {\n",
       "        clearInterval(timer);\n",
       "        embed_document(root);\n",
       "      } else if (document.readyState == \"complete\") {\n",
       "        attempts++;\n",
       "        if (attempts > 200) {\n",
       "          clearInterval(timer);\n",
       "          console.log(\"Bokeh: ERROR: Unable to run BokehJS code because BokehJS library is missing\");\n",
       "        }\n",
       "      }\n",
       "    }, 25, root)\n",
       "  }\n",
       "})(window);</script>"
      ],
      "text/plain": [
       "<hvplot.interactive.Interactive at 0x1a6c850b250>"
      ]
     },
     "execution_count": 58,
     "metadata": {
      "application/vnd.holoviews_exec.v0+json": {
       "id": "32272"
      }
     },
     "output_type": "execute_result"
    }
   ],
   "source": [
    "total_plot = total_pipeline.hvplot(x = 'dia_venta', \n",
    "                                   by='descrip_alex', \n",
    "                                   y=yaxis_total,\n",
    "                                   line_width=2, \n",
    "                                   title=\"Ventas a lo largo del mes\",\n",
    "                                   kind='line',\n",
    "                                   legend='bottom')\n",
    "total_plot"
   ]
  },
  {
   "cell_type": "markdown",
   "metadata": {
    "id": "sYcOb7umHwOU"
   },
   "source": [
    "### 1b. Total sales over time by description table"
   ]
  },
  {
   "cell_type": "code",
   "execution_count": 59,
   "metadata": {
    "id": "x2G9TQ7SHwQ8"
   },
   "outputs": [
    {
     "data": {},
     "metadata": {},
     "output_type": "display_data"
    },
    {
     "data": {
      "application/vnd.holoviews_exec.v0+json": "",
      "text/html": [
       "<div id='32568'>\n",
       "\n",
       "\n",
       "\n",
       "\n",
       "\n",
       "  <div class=\"bk-root\" id=\"63e707dc-46d8-49d2-a4dc-2e6b1cd86fff\" data-root-id=\"32568\"></div>\n",
       "</div>\n",
       "<script type=\"application/javascript\">(function(root) {\n",
       "  function embed_document(root) {\n",
       "    var docs_json = {\"f8232bc2-6fd0-4dfd-bf8f-62334b155d8c\":{\"defs\":[{\"extends\":null,\"module\":null,\"name\":\"ReactiveHTML1\",\"overrides\":[],\"properties\":[]},{\"extends\":null,\"module\":null,\"name\":\"FlexBox1\",\"overrides\":[],\"properties\":[{\"default\":\"flex-start\",\"kind\":null,\"name\":\"align_content\"},{\"default\":\"flex-start\",\"kind\":null,\"name\":\"align_items\"},{\"default\":\"row\",\"kind\":null,\"name\":\"flex_direction\"},{\"default\":\"wrap\",\"kind\":null,\"name\":\"flex_wrap\"},{\"default\":\"flex-start\",\"kind\":null,\"name\":\"justify_content\"}]},{\"extends\":null,\"module\":null,\"name\":\"GridStack1\",\"overrides\":[],\"properties\":[{\"default\":\"warn\",\"kind\":null,\"name\":\"mode\"},{\"default\":null,\"kind\":null,\"name\":\"ncols\"},{\"default\":null,\"kind\":null,\"name\":\"nrows\"},{\"default\":true,\"kind\":null,\"name\":\"allow_resize\"},{\"default\":true,\"kind\":null,\"name\":\"allow_drag\"},{\"default\":[],\"kind\":null,\"name\":\"state\"}]},{\"extends\":null,\"module\":null,\"name\":\"click1\",\"overrides\":[],\"properties\":[{\"default\":\"\",\"kind\":null,\"name\":\"terminal_output\"},{\"default\":\"\",\"kind\":null,\"name\":\"debug_name\"},{\"default\":0,\"kind\":null,\"name\":\"clears\"}]},{\"extends\":null,\"module\":null,\"name\":\"TemplateActions1\",\"overrides\":[],\"properties\":[{\"default\":0,\"kind\":null,\"name\":\"open_modal\"},{\"default\":0,\"kind\":null,\"name\":\"close_modal\"}]},{\"extends\":null,\"module\":null,\"name\":\"MaterialTemplateActions1\",\"overrides\":[],\"properties\":[{\"default\":0,\"kind\":null,\"name\":\"open_modal\"},{\"default\":0,\"kind\":null,\"name\":\"close_modal\"}]}],\"roots\":{\"references\":[{\"attributes\":{\"children\":[{\"id\":\"32572\"},{\"id\":\"32573\"}],\"margin\":[0,0,0,0],\"name\":\"Column78779\"},\"id\":\"32571\",\"type\":\"Column\"},{\"attributes\":{\"client_comm_id\":\"17288efc6e8b49a7a8f2d59a5172aa8b\",\"comm_id\":\"5da5635f62754b948902bc5e42bb9028\",\"plot_id\":\"32568\"},\"id\":\"32607\",\"type\":\"panel.models.comm_manager.CommManager\"},{\"attributes\":{\"children\":[{\"id\":\"32570\"},{\"id\":\"32575\"}],\"margin\":[0,0,0,0],\"name\":\"Column78816\"},\"id\":\"32569\",\"type\":\"Column\"},{\"attributes\":{\"data\":{\"descrip_alex\":[\"Mini postres\",\"Palitos\"],\"dia_venta\":[3,3],\"index\":[0,1],\"total\":[130,90]},\"selected\":{\"id\":\"32577\"},\"selection_policy\":{\"id\":\"32601\"}},\"id\":\"32576\",\"type\":\"ColumnDataSource\"},{\"attributes\":{\"editor\":{\"id\":\"32595\"},\"field\":\"total\",\"formatter\":{\"id\":\"32594\"},\"title\":\"total\",\"width\":0},\"id\":\"32596\",\"type\":\"TableColumn\"},{\"attributes\":{\"children\":[{\"id\":\"32599\"}],\"margin\":[0,0,0,0],\"name\":\"Row78784\"},\"id\":\"32575\",\"type\":\"Row\"},{\"attributes\":{},\"id\":\"32601\",\"type\":\"UnionRenderers\"},{\"attributes\":{\"text_align\":\"center\"},\"id\":\"32589\",\"type\":\"NumberFormatter\"},{\"attributes\":{},\"id\":\"32595\",\"type\":\"IntEditor\"},{\"attributes\":{\"children\":[{\"id\":\"32571\"},{\"id\":\"32574\"}],\"margin\":[0,0,0,0],\"name\":\"Row78815\"},\"id\":\"32570\",\"type\":\"Row\"},{\"attributes\":{\"text_align\":\"center\"},\"id\":\"32594\",\"type\":\"NumberFormatter\"},{\"attributes\":{},\"id\":\"32590\",\"type\":\"IntEditor\"},{\"attributes\":{\"children\":[{\"id\":\"32569\"}],\"margin\":[0,0,0,0],\"name\":\"Row78817\"},\"id\":\"32568\",\"type\":\"Row\"},{\"attributes\":{\"editor\":{\"id\":\"32580\"},\"field\":\"index\",\"formatter\":{\"id\":\"32578\"},\"title\":\"index\",\"width\":0},\"id\":\"32581\",\"type\":\"TableColumn\"},{\"attributes\":{\"active\":0,\"button_type\":\"success\",\"labels\":[\"total\",\"cant\"],\"margin\":[5,10,5,10]},\"id\":\"32573\",\"type\":\"RadioButtonGroup\"},{\"attributes\":{\"end\":30,\"margin\":[5,10,5,10],\"start\":1,\"title\":\"Diciembre 2020. D\\u00eda: \",\"value\":3},\"id\":\"32572\",\"type\":\"Slider\"},{\"attributes\":{},\"id\":\"32585\",\"type\":\"StringEditor\"},{\"attributes\":{},\"id\":\"32580\",\"type\":\"CellEditor\"},{\"attributes\":{\"columns\":[{\"id\":\"32581\"},{\"id\":\"32586\"},{\"id\":\"32591\"},{\"id\":\"32596\"}],\"configuration\":{\"columns\":[{\"field\":\"index\",\"headerHozAlign\":\"center\",\"hozAlign\":\"center\"},{\"field\":\"descrip_alex\",\"headerHozAlign\":\"center\",\"hozAlign\":\"center\"},{\"field\":\"dia_venta\",\"headerHozAlign\":\"center\",\"hozAlign\":\"center\"},{\"field\":\"total\",\"headerHozAlign\":\"center\",\"hozAlign\":\"center\"}],\"dataTree\":false,\"selectable\":true},\"indexes\":[\"index\"],\"layout\":\"fit_data_stretch\",\"margin\":[5,10,5,10],\"max_page\":1,\"name\":\"\",\"page\":1,\"page_size\":10,\"pagination\":\"remote\",\"select_mode\":true,\"selectable_rows\":null,\"source\":{\"id\":\"32576\"},\"styles\":{\"data\":{},\"id\":\"7aaca85ee2254de0b6f5499b1b971ff6\"},\"subscribed_events\":[\"table-edit\",\"cell-click\"]},\"id\":\"32599\",\"type\":\"panel.models.tabulator.DataTabulator\"},{\"attributes\":{\"margin\":[5,5,5,5],\"name\":\"HSpacer78814\",\"sizing_mode\":\"stretch_width\"},\"id\":\"32574\",\"type\":\"Spacer\"},{\"attributes\":{\"text_align\":\"center\"},\"id\":\"32578\",\"type\":\"NumberFormatter\"},{\"attributes\":{\"indices\":[]},\"id\":\"32577\",\"type\":\"Selection\"},{\"attributes\":{\"text_align\":\"center\"},\"id\":\"32584\",\"type\":\"StringFormatter\"},{\"attributes\":{\"editor\":{\"id\":\"32585\"},\"field\":\"descrip_alex\",\"formatter\":{\"id\":\"32584\"},\"title\":\"descrip_alex\",\"width\":0},\"id\":\"32586\",\"type\":\"TableColumn\"},{\"attributes\":{\"editor\":{\"id\":\"32590\"},\"field\":\"dia_venta\",\"formatter\":{\"id\":\"32589\"},\"title\":\"dia_venta\",\"width\":0},\"id\":\"32591\",\"type\":\"TableColumn\"}],\"root_ids\":[\"32568\",\"32607\"]},\"title\":\"Bokeh Application\",\"version\":\"2.4.1\"}};\n",
       "    var render_items = [{\"docid\":\"f8232bc2-6fd0-4dfd-bf8f-62334b155d8c\",\"root_ids\":[\"32568\"],\"roots\":{\"32568\":\"63e707dc-46d8-49d2-a4dc-2e6b1cd86fff\"}}];\n",
       "    root.Bokeh.embed.embed_items_notebook(docs_json, render_items);\n",
       "  }\n",
       "  if (root.Bokeh !== undefined && root.Bokeh.Panel !== undefined && ( root['Tabulator'] !== undefined)) {\n",
       "    embed_document(root);\n",
       "  } else {\n",
       "    var attempts = 0;\n",
       "    var timer = setInterval(function(root) {\n",
       "      if (root.Bokeh !== undefined && root.Bokeh.Panel !== undefined && (root['Tabulator'] !== undefined)) {\n",
       "        clearInterval(timer);\n",
       "        embed_document(root);\n",
       "      } else if (document.readyState == \"complete\") {\n",
       "        attempts++;\n",
       "        if (attempts > 200) {\n",
       "          clearInterval(timer);\n",
       "          console.log(\"Bokeh: ERROR: Unable to run BokehJS code because BokehJS library is missing\");\n",
       "        }\n",
       "      }\n",
       "    }, 25, root)\n",
       "  }\n",
       "})(window);</script>"
      ],
      "text/plain": [
       "<hvplot.interactive.Interactive at 0x1a6c7980790>"
      ]
     },
     "execution_count": 59,
     "metadata": {
      "application/vnd.holoviews_exec.v0+json": {
       "id": "32568"
      }
     },
     "output_type": "execute_result"
    }
   ],
   "source": [
    "total_table = total_pipeline.pipe(pn.widgets.Tabulator, \n",
    "                                  pagination='remote', \n",
    "                                  page_size = 10, \n",
    "                                  #sizing_mode='stretch_width',\n",
    "                                  layout='fit_data_stretch', \n",
    "                                  header_align='center', \n",
    "                                  #title=\"Alex\",\n",
    "                                  text_align='center') \n",
    "total_table"
   ]
  },
  {
   "cell_type": "markdown",
   "metadata": {
    "id": "-JU1-WZbHwTh"
   },
   "source": [
    "### 1c. Total sales vs. quantity for products scatterplot"
   ]
  },
  {
   "cell_type": "code",
   "execution_count": 60,
   "metadata": {
    "id": "TSD4baqKHwWI"
   },
   "outputs": [],
   "source": [
    "#First, I built the pipeline.\n",
    "total_vs_cantidad_scatterplot_pipeline = (\n",
    "    i_helados_2020[\n",
    "        (i_helados_2020.dia_venta == Diciembre_slider) &\n",
    "        (i_helados_2020.descrip_alex.isin(descripcion))\n",
    "    ]\n",
    "    .groupby(['descrip_alex', 'dia_venta', 'cant'])['total'].sum()\n",
    "    .round(2) # Two decimals\n",
    "    .to_frame()\n",
    "    .reset_index()\n",
    "    .sort_values(by='dia_venta')  \n",
    "    .reset_index(drop=True)\n",
    ")"
   ]
  },
  {
   "cell_type": "code",
   "execution_count": 61,
   "metadata": {
    "id": "VBYAMmS8HwYW",
    "tags": []
   },
   "outputs": [
    {
     "data": {},
     "metadata": {},
     "output_type": "display_data"
    },
    {
     "data": {
      "application/vnd.holoviews_exec.v0+json": "",
      "text/html": [
       "<div id='32618'>\n",
       "\n",
       "\n",
       "\n",
       "\n",
       "\n",
       "  <div class=\"bk-root\" id=\"871467f7-11cf-49b0-af3a-bcfdcd68449e\" data-root-id=\"32618\"></div>\n",
       "</div>\n",
       "<script type=\"application/javascript\">(function(root) {\n",
       "  function embed_document(root) {\n",
       "    var docs_json = {\"2a351b78-97cf-445a-8a18-25b6e2757b2f\":{\"defs\":[{\"extends\":null,\"module\":null,\"name\":\"ReactiveHTML1\",\"overrides\":[],\"properties\":[]},{\"extends\":null,\"module\":null,\"name\":\"FlexBox1\",\"overrides\":[],\"properties\":[{\"default\":\"flex-start\",\"kind\":null,\"name\":\"align_content\"},{\"default\":\"flex-start\",\"kind\":null,\"name\":\"align_items\"},{\"default\":\"row\",\"kind\":null,\"name\":\"flex_direction\"},{\"default\":\"wrap\",\"kind\":null,\"name\":\"flex_wrap\"},{\"default\":\"flex-start\",\"kind\":null,\"name\":\"justify_content\"}]},{\"extends\":null,\"module\":null,\"name\":\"GridStack1\",\"overrides\":[],\"properties\":[{\"default\":\"warn\",\"kind\":null,\"name\":\"mode\"},{\"default\":null,\"kind\":null,\"name\":\"ncols\"},{\"default\":null,\"kind\":null,\"name\":\"nrows\"},{\"default\":true,\"kind\":null,\"name\":\"allow_resize\"},{\"default\":true,\"kind\":null,\"name\":\"allow_drag\"},{\"default\":[],\"kind\":null,\"name\":\"state\"}]},{\"extends\":null,\"module\":null,\"name\":\"click1\",\"overrides\":[],\"properties\":[{\"default\":\"\",\"kind\":null,\"name\":\"terminal_output\"},{\"default\":\"\",\"kind\":null,\"name\":\"debug_name\"},{\"default\":0,\"kind\":null,\"name\":\"clears\"}]},{\"extends\":null,\"module\":null,\"name\":\"TemplateActions1\",\"overrides\":[],\"properties\":[{\"default\":0,\"kind\":null,\"name\":\"open_modal\"},{\"default\":0,\"kind\":null,\"name\":\"close_modal\"}]},{\"extends\":null,\"module\":null,\"name\":\"MaterialTemplateActions1\",\"overrides\":[],\"properties\":[{\"default\":0,\"kind\":null,\"name\":\"open_modal\"},{\"default\":0,\"kind\":null,\"name\":\"close_modal\"}]}],\"roots\":{\"references\":[{\"attributes\":{\"margin\":[5,5,5,5],\"name\":\"DataFrame79833\",\"text\":\"&lt;table border=&quot;0&quot; class=&quot;dataframe panel-df&quot;&gt;\\n  &lt;thead&gt;\\n    &lt;tr style=&quot;text-align: right;&quot;&gt;\\n      &lt;th&gt;&lt;/th&gt;\\n      &lt;th&gt;descrip_alex&lt;/th&gt;\\n      &lt;th&gt;dia_venta&lt;/th&gt;\\n      &lt;th&gt;cant&lt;/th&gt;\\n      &lt;th&gt;total&lt;/th&gt;\\n    &lt;/tr&gt;\\n  &lt;/thead&gt;\\n  &lt;tbody&gt;\\n    &lt;tr&gt;\\n      &lt;th&gt;0&lt;/th&gt;\\n      &lt;td&gt;Mini postres&lt;/td&gt;\\n      &lt;td&gt;3&lt;/td&gt;\\n      &lt;td&gt;1&lt;/td&gt;\\n      &lt;td&gt;130&lt;/td&gt;\\n    &lt;/tr&gt;\\n    &lt;tr&gt;\\n      &lt;th&gt;1&lt;/th&gt;\\n      &lt;td&gt;Palitos&lt;/td&gt;\\n      &lt;td&gt;3&lt;/td&gt;\\n      &lt;td&gt;1&lt;/td&gt;\\n      &lt;td&gt;90&lt;/td&gt;\\n    &lt;/tr&gt;\\n  &lt;/tbody&gt;\\n&lt;/table&gt;\"},\"id\":\"32625\",\"type\":\"panel.models.markup.HTML\"},{\"attributes\":{\"end\":30,\"margin\":[5,10,5,10],\"start\":1,\"title\":\"Diciembre 2020. D\\u00eda: \",\"value\":3},\"id\":\"32622\",\"type\":\"Slider\"},{\"attributes\":{\"client_comm_id\":\"69985a11045d4cd289686f6d58b8cf47\",\"comm_id\":\"0304eefba49f44e1963368ce45073080\",\"plot_id\":\"32618\"},\"id\":\"32626\",\"type\":\"panel.models.comm_manager.CommManager\"},{\"attributes\":{\"children\":[{\"id\":\"32620\"},{\"id\":\"32624\"}],\"margin\":[0,0,0,0],\"name\":\"Column79837\"},\"id\":\"32619\",\"type\":\"Column\"},{\"attributes\":{\"children\":[{\"id\":\"32625\"}],\"margin\":[0,0,0,0],\"name\":\"Row79804\"},\"id\":\"32624\",\"type\":\"Row\"},{\"attributes\":{\"children\":[{\"id\":\"32619\"}],\"margin\":[0,0,0,0],\"name\":\"Row79838\"},\"id\":\"32618\",\"type\":\"Row\"},{\"attributes\":{\"children\":[{\"id\":\"32621\"},{\"id\":\"32623\"}],\"margin\":[0,0,0,0],\"name\":\"Row79836\"},\"id\":\"32620\",\"type\":\"Row\"},{\"attributes\":{\"children\":[{\"id\":\"32622\"}],\"margin\":[0,0,0,0],\"name\":\"Column79799\"},\"id\":\"32621\",\"type\":\"Column\"},{\"attributes\":{\"margin\":[5,5,5,5],\"name\":\"HSpacer79835\",\"sizing_mode\":\"stretch_width\"},\"id\":\"32623\",\"type\":\"Spacer\"}],\"root_ids\":[\"32618\",\"32626\"]},\"title\":\"Bokeh Application\",\"version\":\"2.4.1\"}};\n",
       "    var render_items = [{\"docid\":\"2a351b78-97cf-445a-8a18-25b6e2757b2f\",\"root_ids\":[\"32618\"],\"roots\":{\"32618\":\"871467f7-11cf-49b0-af3a-bcfdcd68449e\"}}];\n",
       "    root.Bokeh.embed.embed_items_notebook(docs_json, render_items);\n",
       "  }\n",
       "  if (root.Bokeh !== undefined && root.Bokeh.Panel !== undefined && ( root['Tabulator'] !== undefined)) {\n",
       "    embed_document(root);\n",
       "  } else {\n",
       "    var attempts = 0;\n",
       "    var timer = setInterval(function(root) {\n",
       "      if (root.Bokeh !== undefined && root.Bokeh.Panel !== undefined && (root['Tabulator'] !== undefined)) {\n",
       "        clearInterval(timer);\n",
       "        embed_document(root);\n",
       "      } else if (document.readyState == \"complete\") {\n",
       "        attempts++;\n",
       "        if (attempts > 200) {\n",
       "          clearInterval(timer);\n",
       "          console.log(\"Bokeh: ERROR: Unable to run BokehJS code because BokehJS library is missing\");\n",
       "        }\n",
       "      }\n",
       "    }, 25, root)\n",
       "  }\n",
       "})(window);</script>"
      ],
      "text/plain": [
       "<hvplot.interactive.Interactive at 0x1a6c79806a0>"
      ]
     },
     "execution_count": 61,
     "metadata": {
      "application/vnd.holoviews_exec.v0+json": {
       "id": "32618"
      }
     },
     "output_type": "execute_result"
    }
   ],
   "source": [
    "total_vs_cantidad_scatterplot_pipeline.head(3)"
   ]
  },
  {
   "cell_type": "code",
   "execution_count": 62,
   "metadata": {
    "id": "lRkxhnxmHwbE",
    "tags": []
   },
   "outputs": [
    {
     "data": {},
     "metadata": {},
     "output_type": "display_data"
    },
    {
     "data": {},
     "metadata": {},
     "output_type": "display_data"
    },
    {
     "data": {
      "application/vnd.holoviews_exec.v0+json": "",
      "text/html": [
       "<div id='32627'>\n",
       "\n",
       "\n",
       "\n",
       "\n",
       "\n",
       "  <div class=\"bk-root\" id=\"7bf97ffe-b8e5-4b16-9856-068c59eb7af8\" data-root-id=\"32627\"></div>\n",
       "</div>\n",
       "<script type=\"application/javascript\">(function(root) {\n",
       "  function embed_document(root) {\n",
       "    var docs_json = {\"3a3c30bc-934c-4e34-937f-023039282ba2\":{\"defs\":[{\"extends\":null,\"module\":null,\"name\":\"ReactiveHTML1\",\"overrides\":[],\"properties\":[]},{\"extends\":null,\"module\":null,\"name\":\"FlexBox1\",\"overrides\":[],\"properties\":[{\"default\":\"flex-start\",\"kind\":null,\"name\":\"align_content\"},{\"default\":\"flex-start\",\"kind\":null,\"name\":\"align_items\"},{\"default\":\"row\",\"kind\":null,\"name\":\"flex_direction\"},{\"default\":\"wrap\",\"kind\":null,\"name\":\"flex_wrap\"},{\"default\":\"flex-start\",\"kind\":null,\"name\":\"justify_content\"}]},{\"extends\":null,\"module\":null,\"name\":\"GridStack1\",\"overrides\":[],\"properties\":[{\"default\":\"warn\",\"kind\":null,\"name\":\"mode\"},{\"default\":null,\"kind\":null,\"name\":\"ncols\"},{\"default\":null,\"kind\":null,\"name\":\"nrows\"},{\"default\":true,\"kind\":null,\"name\":\"allow_resize\"},{\"default\":true,\"kind\":null,\"name\":\"allow_drag\"},{\"default\":[],\"kind\":null,\"name\":\"state\"}]},{\"extends\":null,\"module\":null,\"name\":\"click1\",\"overrides\":[],\"properties\":[{\"default\":\"\",\"kind\":null,\"name\":\"terminal_output\"},{\"default\":\"\",\"kind\":null,\"name\":\"debug_name\"},{\"default\":0,\"kind\":null,\"name\":\"clears\"}]},{\"extends\":null,\"module\":null,\"name\":\"TemplateActions1\",\"overrides\":[],\"properties\":[{\"default\":0,\"kind\":null,\"name\":\"open_modal\"},{\"default\":0,\"kind\":null,\"name\":\"close_modal\"}]},{\"extends\":null,\"module\":null,\"name\":\"MaterialTemplateActions1\",\"overrides\":[],\"properties\":[{\"default\":0,\"kind\":null,\"name\":\"open_modal\"},{\"default\":0,\"kind\":null,\"name\":\"close_modal\"}]}],\"roots\":{\"references\":[{\"attributes\":{\"fill_alpha\":{\"value\":0.7},\"fill_color\":{\"value\":\"#30a2da\"},\"hatch_alpha\":{\"value\":0.7},\"hatch_color\":{\"value\":\"#30a2da\"},\"line_alpha\":{\"value\":0.7},\"line_color\":{\"value\":\"#30a2da\"},\"size\":{\"value\":8.94427190999916},\"x\":{\"field\":\"cant\"},\"y\":{\"field\":\"total\"}},\"id\":\"32677\",\"type\":\"Scatter\"},{\"attributes\":{\"children\":[{\"id\":\"32638\"}],\"margin\":[0,0,0,0],\"name\":\"Row80062\"},\"id\":\"32633\",\"type\":\"Row\"},{\"attributes\":{\"fill_alpha\":{\"value\":0.2},\"fill_color\":{\"value\":\"#fc4f30\"},\"hatch_alpha\":{\"value\":0.2},\"hatch_color\":{\"value\":\"#fc4f30\"},\"line_alpha\":{\"value\":0.2},\"line_color\":{\"value\":\"#fc4f30\"},\"size\":{\"value\":8.94427190999916},\"x\":{\"field\":\"cant\"},\"y\":{\"field\":\"total\"}},\"id\":\"32700\",\"type\":\"Scatter\"},{\"attributes\":{\"label\":{\"value\":\"Palitos\"},\"renderers\":[{\"id\":\"32701\"}]},\"id\":\"32715\",\"type\":\"LegendItem\"},{\"attributes\":{\"fill_alpha\":{\"value\":0.7},\"fill_color\":{\"value\":\"#fc4f30\"},\"hatch_alpha\":{\"value\":0.7},\"hatch_color\":{\"value\":\"#fc4f30\"},\"line_alpha\":{\"value\":0.7},\"line_color\":{\"value\":\"#fc4f30\"},\"size\":{\"value\":8.94427190999916},\"x\":{\"field\":\"cant\"},\"y\":{\"field\":\"total\"}},\"id\":\"32698\",\"type\":\"Scatter\"},{\"attributes\":{},\"id\":\"32657\",\"type\":\"WheelZoomTool\"},{\"attributes\":{},\"id\":\"32675\",\"type\":\"Selection\"},{\"attributes\":{\"children\":[{\"id\":\"32630\"},{\"id\":\"32632\"}],\"margin\":[0,0,0,0],\"name\":\"Row80257\"},\"id\":\"32629\",\"type\":\"Row\"},{\"attributes\":{\"end\":134.0,\"reset_end\":134.0,\"reset_start\":86.0,\"start\":86.0,\"tags\":[[[\"total\",\"total\",null]]]},\"id\":\"32635\",\"type\":\"Range1d\"},{\"attributes\":{},\"id\":\"32643\",\"type\":\"LinearScale\"},{\"attributes\":{},\"id\":\"32659\",\"type\":\"ResetTool\"},{\"attributes\":{\"children\":[{\"id\":\"32628\"}],\"margin\":[0,0,0,0],\"name\":\"Row80259\"},\"id\":\"32627\",\"type\":\"Row\"},{\"attributes\":{},\"id\":\"32645\",\"type\":\"LinearScale\"},{\"attributes\":{\"tools\":[{\"id\":\"32636\"},{\"id\":\"32655\"},{\"id\":\"32656\"},{\"id\":\"32657\"},{\"id\":\"32658\"},{\"id\":\"32659\"}]},\"id\":\"32661\",\"type\":\"Toolbar\"},{\"attributes\":{\"source\":{\"id\":\"32695\"}},\"id\":\"32702\",\"type\":\"CDSView\"},{\"attributes\":{\"fill_alpha\":{\"value\":0.7},\"fill_color\":{\"value\":\"#fc4f30\"},\"hatch_alpha\":{\"value\":0.1},\"hatch_color\":{\"value\":\"#fc4f30\"},\"line_alpha\":{\"value\":0.7},\"line_color\":{\"value\":\"#fc4f30\"},\"size\":{\"value\":8.94427190999916},\"x\":{\"field\":\"cant\"},\"y\":{\"field\":\"total\"}},\"id\":\"32699\",\"type\":\"Scatter\"},{\"attributes\":{\"angle\":{\"value\":0.0},\"fill_alpha\":{\"value\":0.7},\"fill_color\":{\"value\":\"#fc4f30\"},\"hatch_alpha\":{\"value\":0.7},\"hatch_color\":{\"value\":\"#fc4f30\"},\"hatch_scale\":{\"value\":12.0},\"hatch_weight\":{\"value\":1.0},\"line_alpha\":{\"value\":0.7},\"line_cap\":{\"value\":\"butt\"},\"line_color\":{\"value\":\"#fc4f30\"},\"line_dash\":{\"value\":[]},\"line_dash_offset\":{\"value\":0},\"line_join\":{\"value\":\"bevel\"},\"line_width\":{\"value\":1},\"marker\":{\"value\":\"circle\"},\"size\":{\"value\":8.94427190999916},\"x\":{\"field\":\"cant\"},\"y\":{\"field\":\"total\"}},\"id\":\"32716\",\"type\":\"Scatter\"},{\"attributes\":{\"overlay\":{\"id\":\"32660\"}},\"id\":\"32658\",\"type\":\"BoxZoomTool\"},{\"attributes\":{\"coordinates\":null,\"data_source\":{\"id\":\"32674\"},\"glyph\":{\"id\":\"32677\"},\"group\":null,\"hover_glyph\":null,\"muted_glyph\":{\"id\":\"32679\"},\"nonselection_glyph\":{\"id\":\"32678\"},\"selection_glyph\":{\"id\":\"32694\"},\"view\":{\"id\":\"32681\"}},\"id\":\"32680\",\"type\":\"GlyphRenderer\"},{\"attributes\":{\"data\":{\"cant\":[1],\"descrip_alex\":[\"Mini postres\"],\"total\":[130]},\"selected\":{\"id\":\"32675\"},\"selection_policy\":{\"id\":\"32689\"}},\"id\":\"32674\",\"type\":\"ColumnDataSource\"},{\"attributes\":{},\"id\":\"32712\",\"type\":\"UnionRenderers\"},{\"attributes\":{\"click_policy\":\"mute\",\"coordinates\":null,\"group\":null,\"items\":[{\"id\":\"32693\"},{\"id\":\"32715\"}],\"location\":[0,0],\"title\":\"descrip_alex\"},\"id\":\"32692\",\"type\":\"Legend\"},{\"attributes\":{\"axis\":{\"id\":\"32651\"},\"coordinates\":null,\"dimension\":1,\"grid_line_color\":null,\"group\":null,\"ticker\":null},\"id\":\"32654\",\"type\":\"Grid\"},{\"attributes\":{\"children\":[{\"id\":\"32629\"},{\"id\":\"32633\"}],\"margin\":[0,0,0,0],\"name\":\"Column80258\"},\"id\":\"32628\",\"type\":\"Column\"},{\"attributes\":{\"fill_alpha\":{\"value\":0.2},\"fill_color\":{\"value\":\"#30a2da\"},\"hatch_alpha\":{\"value\":0.2},\"hatch_color\":{\"value\":\"#30a2da\"},\"line_alpha\":{\"value\":0.2},\"line_color\":{\"value\":\"#30a2da\"},\"size\":{\"value\":8.94427190999916},\"x\":{\"field\":\"cant\"},\"y\":{\"field\":\"total\"}},\"id\":\"32679\",\"type\":\"Scatter\"},{\"attributes\":{},\"id\":\"32673\",\"type\":\"AllLabels\"},{\"attributes\":{\"label\":{\"value\":\"Mini postres\"},\"renderers\":[{\"id\":\"32680\"}]},\"id\":\"32693\",\"type\":\"LegendItem\"},{\"attributes\":{},\"id\":\"32696\",\"type\":\"Selection\"},{\"attributes\":{\"end\":30,\"margin\":[5,10,5,10],\"start\":1,\"title\":\"Diciembre 2020. D\\u00eda: \",\"value\":3},\"id\":\"32631\",\"type\":\"Slider\"},{\"attributes\":{},\"id\":\"32669\",\"type\":\"BasicTickFormatter\"},{\"attributes\":{},\"id\":\"32656\",\"type\":\"PanTool\"},{\"attributes\":{\"bottom_units\":\"screen\",\"coordinates\":null,\"fill_alpha\":0.5,\"fill_color\":\"lightgrey\",\"group\":null,\"left_units\":\"screen\",\"level\":\"overlay\",\"line_alpha\":1.0,\"line_color\":\"black\",\"line_dash\":[4,4],\"line_width\":2,\"right_units\":\"screen\",\"syncable\":false,\"top_units\":\"screen\"},\"id\":\"32660\",\"type\":\"BoxAnnotation\"},{\"attributes\":{\"margin\":[5,5,5,5],\"name\":\"HSpacer80256\",\"sizing_mode\":\"stretch_width\"},\"id\":\"32632\",\"type\":\"Spacer\"},{\"attributes\":{\"coordinates\":null,\"data_source\":{\"id\":\"32695\"},\"glyph\":{\"id\":\"32698\"},\"group\":null,\"hover_glyph\":null,\"muted_glyph\":{\"id\":\"32700\"},\"nonselection_glyph\":{\"id\":\"32699\"},\"selection_glyph\":{\"id\":\"32716\"},\"view\":{\"id\":\"32702\"}},\"id\":\"32701\",\"type\":\"GlyphRenderer\"},{\"attributes\":{},\"id\":\"32672\",\"type\":\"BasicTickFormatter\"},{\"attributes\":{\"axis_label\":\"cant\",\"coordinates\":null,\"formatter\":{\"id\":\"32669\"},\"group\":null,\"major_label_policy\":{\"id\":\"32670\"},\"ticker\":{\"id\":\"32648\"}},\"id\":\"32647\",\"type\":\"LinearAxis\"},{\"attributes\":{\"source\":{\"id\":\"32674\"}},\"id\":\"32681\",\"type\":\"CDSView\"},{\"attributes\":{\"client_comm_id\":\"b1ec750fa4c54298a231c06bb20bccf5\",\"comm_id\":\"8b2e8fdae939414f846bb9034c368615\",\"plot_id\":\"32627\"},\"id\":\"32861\",\"type\":\"panel.models.comm_manager.CommManager\"},{\"attributes\":{\"below\":[{\"id\":\"32647\"}],\"center\":[{\"id\":\"32650\"},{\"id\":\"32654\"}],\"height\":500,\"left\":[{\"id\":\"32651\"}],\"margin\":[5,5,5,5],\"min_border_bottom\":10,\"min_border_left\":10,\"min_border_right\":10,\"min_border_top\":10,\"renderers\":[{\"id\":\"32680\"},{\"id\":\"32701\"}],\"right\":[{\"id\":\"32692\"}],\"sizing_mode\":\"fixed\",\"title\":{\"id\":\"32639\"},\"toolbar\":{\"id\":\"32661\"},\"width\":1000,\"x_range\":{\"id\":\"32634\"},\"x_scale\":{\"id\":\"32643\"},\"y_range\":{\"id\":\"32635\"},\"y_scale\":{\"id\":\"32645\"}},\"id\":\"32638\",\"subtype\":\"Figure\",\"type\":\"Plot\"},{\"attributes\":{},\"id\":\"32655\",\"type\":\"SaveTool\"},{\"attributes\":{\"children\":[{\"id\":\"32631\"}],\"margin\":[0,0,0,0],\"name\":\"Column80057\"},\"id\":\"32630\",\"type\":\"Column\"},{\"attributes\":{\"axis\":{\"id\":\"32647\"},\"coordinates\":null,\"grid_line_color\":null,\"group\":null,\"ticker\":null},\"id\":\"32650\",\"type\":\"Grid\"},{\"attributes\":{\"fill_alpha\":{\"value\":0.7},\"fill_color\":{\"value\":\"#30a2da\"},\"hatch_alpha\":{\"value\":0.1},\"hatch_color\":{\"value\":\"#30a2da\"},\"line_alpha\":{\"value\":0.7},\"line_color\":{\"value\":\"#30a2da\"},\"size\":{\"value\":8.94427190999916},\"x\":{\"field\":\"cant\"},\"y\":{\"field\":\"total\"}},\"id\":\"32678\",\"type\":\"Scatter\"},{\"attributes\":{\"coordinates\":null,\"group\":null,\"text\":\"Cantidades y total acumulado de productos\",\"text_color\":\"black\",\"text_font_size\":\"12pt\"},\"id\":\"32639\",\"type\":\"Title\"},{\"attributes\":{\"callback\":null,\"renderers\":[{\"id\":\"32680\"},{\"id\":\"32701\"}],\"tags\":[\"hv_created\"],\"tooltips\":[[\"descrip_alex\",\"@{descrip_alex}\"],[\"cant\",\"@{cant}\"],[\"total\",\"@{total}\"]]},\"id\":\"32636\",\"type\":\"HoverTool\"},{\"attributes\":{},\"id\":\"32648\",\"type\":\"BasicTicker\"},{\"attributes\":{},\"id\":\"32689\",\"type\":\"UnionRenderers\"},{\"attributes\":{},\"id\":\"32652\",\"type\":\"BasicTicker\"},{\"attributes\":{\"axis_label\":\"total\",\"coordinates\":null,\"formatter\":{\"id\":\"32672\"},\"group\":null,\"major_label_policy\":{\"id\":\"32673\"},\"ticker\":{\"id\":\"32652\"}},\"id\":\"32651\",\"type\":\"LinearAxis\"},{\"attributes\":{},\"id\":\"32670\",\"type\":\"AllLabels\"},{\"attributes\":{\"data\":{\"cant\":[1],\"descrip_alex\":[\"Palitos\"],\"total\":[90]},\"selected\":{\"id\":\"32696\"},\"selection_policy\":{\"id\":\"32712\"}},\"id\":\"32695\",\"type\":\"ColumnDataSource\"},{\"attributes\":{\"end\":2.1,\"reset_end\":2.1,\"reset_start\":-0.1,\"start\":-0.1,\"tags\":[[[\"cant\",\"cant\",null]]]},\"id\":\"32634\",\"type\":\"Range1d\"},{\"attributes\":{\"angle\":{\"value\":0.0},\"fill_alpha\":{\"value\":0.7},\"fill_color\":{\"value\":\"#30a2da\"},\"hatch_alpha\":{\"value\":0.7},\"hatch_color\":{\"value\":\"#30a2da\"},\"hatch_scale\":{\"value\":12.0},\"hatch_weight\":{\"value\":1.0},\"line_alpha\":{\"value\":0.7},\"line_cap\":{\"value\":\"butt\"},\"line_color\":{\"value\":\"#30a2da\"},\"line_dash\":{\"value\":[]},\"line_dash_offset\":{\"value\":0},\"line_join\":{\"value\":\"bevel\"},\"line_width\":{\"value\":1},\"marker\":{\"value\":\"circle\"},\"size\":{\"value\":8.94427190999916},\"x\":{\"field\":\"cant\"},\"y\":{\"field\":\"total\"}},\"id\":\"32694\",\"type\":\"Scatter\"}],\"root_ids\":[\"32627\",\"32861\"]},\"title\":\"Bokeh Application\",\"version\":\"2.4.1\"}};\n",
       "    var render_items = [{\"docid\":\"3a3c30bc-934c-4e34-937f-023039282ba2\",\"root_ids\":[\"32627\"],\"roots\":{\"32627\":\"7bf97ffe-b8e5-4b16-9856-068c59eb7af8\"}}];\n",
       "    root.Bokeh.embed.embed_items_notebook(docs_json, render_items);\n",
       "  }\n",
       "  if (root.Bokeh !== undefined && root.Bokeh.Panel !== undefined && ( root['Tabulator'] !== undefined)) {\n",
       "    embed_document(root);\n",
       "  } else {\n",
       "    var attempts = 0;\n",
       "    var timer = setInterval(function(root) {\n",
       "      if (root.Bokeh !== undefined && root.Bokeh.Panel !== undefined && (root['Tabulator'] !== undefined)) {\n",
       "        clearInterval(timer);\n",
       "        embed_document(root);\n",
       "      } else if (document.readyState == \"complete\") {\n",
       "        attempts++;\n",
       "        if (attempts > 200) {\n",
       "          clearInterval(timer);\n",
       "          console.log(\"Bokeh: ERROR: Unable to run BokehJS code because BokehJS library is missing\");\n",
       "        }\n",
       "      }\n",
       "    }, 25, root)\n",
       "  }\n",
       "})(window);</script>"
      ],
      "text/plain": [
       "<hvplot.interactive.Interactive at 0x1a6c78d41c0>"
      ]
     },
     "execution_count": 62,
     "metadata": {
      "application/vnd.holoviews_exec.v0+json": {
       "id": "32627"
      }
     },
     "output_type": "execute_result"
    }
   ],
   "source": [
    "#And finally, I built the scatterplot\n",
    "total_vs_cantidad_scatterplot = total_vs_cantidad_scatterplot_pipeline.hvplot(x='cant', \n",
    "                                                                y='total', \n",
    "                                                                by='descrip_alex', \n",
    "                                                                size=80, \n",
    "                                                                kind=\"scatter\", \n",
    "                                                                alpha=0.7,\n",
    "                                                                legend='right',\n",
    "                                                                height=500, \n",
    "                                                                width=1000,\n",
    "                                                                title=\"Cantidades y total acumulado de productos\",\n",
    "                                                                )\n",
    "total_vs_cantidad_scatterplot"
   ]
  },
  {
   "cell_type": "markdown",
   "metadata": {
    "id": "Q0705Q-P2GrO"
   },
   "source": [
    "### 1d. Bar chart \"Total & Cant daily\" sales by descripcion"
   ]
  },
  {
   "cell_type": "code",
   "execution_count": 63,
   "metadata": {
    "tags": []
   },
   "outputs": [],
   "source": [
    "yaxis_total_barra = pn.widgets.RadioButtonGroup(\n",
    "    name='Eje Y', \n",
    "    options=['total', \n",
    "             'cant'\n",
    "            ], \n",
    "    button_type='success'\n",
    ")\n",
    "\n",
    "solo_dos_productos = ['Helado por kilo', 'Comidas rápidas', 'Cafetería']\n",
    "\n",
    "total_source_bar_pipeline = (\n",
    "    i_helados_2020[\n",
    "               (i_helados_2020.dia_venta == Diciembre_slider) &\n",
    "               (i_helados_2020.descrip_alex.isin(solo_dos_productos))       \n",
    "    ]\n",
    "    .groupby(['dia_venta', 'descrip_alex'])[yaxis_total_barra].sum()\n",
    "    .to_frame()\n",
    "    .round(0) # Two decimals\n",
    "    .reset_index()\n",
    "    .sort_values(by='dia_venta')  \n",
    "    .reset_index(drop=True)\n",
    ")"
   ]
  },
  {
   "cell_type": "code",
   "execution_count": 64,
   "metadata": {
    "tags": []
   },
   "outputs": [
    {
     "data": {},
     "metadata": {},
     "output_type": "display_data"
    },
    {
     "data": {},
     "metadata": {},
     "output_type": "display_data"
    },
    {
     "data": {
      "application/vnd.holoviews_exec.v0+json": "",
      "text/html": [
       "<div id='32922'>\n",
       "\n",
       "\n",
       "\n",
       "\n",
       "\n",
       "  <div class=\"bk-root\" id=\"73fc6554-3732-4cd1-a9ad-4fc8046321ef\" data-root-id=\"32922\"></div>\n",
       "</div>\n",
       "<script type=\"application/javascript\">(function(root) {\n",
       "  function embed_document(root) {\n",
       "    var docs_json = {\"92aa0ade-3ece-4acb-b114-5f9ad05e442e\":{\"defs\":[{\"extends\":null,\"module\":null,\"name\":\"ReactiveHTML1\",\"overrides\":[],\"properties\":[]},{\"extends\":null,\"module\":null,\"name\":\"FlexBox1\",\"overrides\":[],\"properties\":[{\"default\":\"flex-start\",\"kind\":null,\"name\":\"align_content\"},{\"default\":\"flex-start\",\"kind\":null,\"name\":\"align_items\"},{\"default\":\"row\",\"kind\":null,\"name\":\"flex_direction\"},{\"default\":\"wrap\",\"kind\":null,\"name\":\"flex_wrap\"},{\"default\":\"flex-start\",\"kind\":null,\"name\":\"justify_content\"}]},{\"extends\":null,\"module\":null,\"name\":\"GridStack1\",\"overrides\":[],\"properties\":[{\"default\":\"warn\",\"kind\":null,\"name\":\"mode\"},{\"default\":null,\"kind\":null,\"name\":\"ncols\"},{\"default\":null,\"kind\":null,\"name\":\"nrows\"},{\"default\":true,\"kind\":null,\"name\":\"allow_resize\"},{\"default\":true,\"kind\":null,\"name\":\"allow_drag\"},{\"default\":[],\"kind\":null,\"name\":\"state\"}]},{\"extends\":null,\"module\":null,\"name\":\"click1\",\"overrides\":[],\"properties\":[{\"default\":\"\",\"kind\":null,\"name\":\"terminal_output\"},{\"default\":\"\",\"kind\":null,\"name\":\"debug_name\"},{\"default\":0,\"kind\":null,\"name\":\"clears\"}]},{\"extends\":null,\"module\":null,\"name\":\"TemplateActions1\",\"overrides\":[],\"properties\":[{\"default\":0,\"kind\":null,\"name\":\"open_modal\"},{\"default\":0,\"kind\":null,\"name\":\"close_modal\"}]},{\"extends\":null,\"module\":null,\"name\":\"MaterialTemplateActions1\",\"overrides\":[],\"properties\":[{\"default\":0,\"kind\":null,\"name\":\"open_modal\"},{\"default\":0,\"kind\":null,\"name\":\"close_modal\"}]}],\"roots\":{\"references\":[{\"attributes\":{\"data\":{\"descrip_alex\":{\"__ndarray__\":\"\",\"dtype\":\"float64\",\"order\":\"little\",\"shape\":[0]},\"total\":[]},\"selected\":{\"id\":\"32963\"},\"selection_policy\":{\"id\":\"32984\"}},\"id\":\"32962\",\"type\":\"ColumnDataSource\"},{\"attributes\":{},\"id\":\"32972\",\"type\":\"CategoricalTickFormatter\"},{\"attributes\":{\"children\":[{\"id\":\"32925\"},{\"id\":\"32928\"}],\"margin\":[0,0,0,0],\"name\":\"Row81857\"},\"id\":\"32924\",\"type\":\"Row\"},{\"attributes\":{\"end\":30,\"margin\":[5,10,5,10],\"start\":1,\"title\":\"Diciembre 2020. D\\u00eda: \",\"value\":3},\"id\":\"32926\",\"type\":\"Slider\"},{\"attributes\":{\"tags\":[[[\"descrip_alex\",\"descrip_alex\",null]]]},\"id\":\"32930\",\"type\":\"FactorRange\"},{\"attributes\":{\"client_comm_id\":\"046db2dfd8d44fcdb84d7f983924131a\",\"comm_id\":\"00f075500c9346e58aa63d5ade232403\",\"plot_id\":\"32922\"},\"id\":\"33027\",\"type\":\"panel.models.comm_manager.CommManager\"},{\"attributes\":{},\"id\":\"32953\",\"type\":\"ResetTool\"},{\"attributes\":{},\"id\":\"32940\",\"type\":\"LinearScale\"},{\"attributes\":{},\"id\":\"32973\",\"type\":\"AllLabels\"},{\"attributes\":{\"children\":[{\"id\":\"32923\"}],\"margin\":[0,0,0,0],\"name\":\"Row81859\"},\"id\":\"32922\",\"type\":\"Row\"},{\"attributes\":{\"bottom_units\":\"screen\",\"coordinates\":null,\"fill_alpha\":0.5,\"fill_color\":\"lightgrey\",\"group\":null,\"left_units\":\"screen\",\"level\":\"overlay\",\"line_alpha\":1.0,\"line_color\":\"black\",\"line_dash\":[4,4],\"line_width\":2,\"right_units\":\"screen\",\"syncable\":false,\"top_units\":\"screen\"},\"id\":\"32954\",\"type\":\"BoxAnnotation\"},{\"attributes\":{\"children\":[{\"id\":\"32926\"},{\"id\":\"32927\"}],\"margin\":[0,0,0,0],\"name\":\"Column81686\"},\"id\":\"32925\",\"type\":\"Column\"},{\"attributes\":{},\"id\":\"32984\",\"type\":\"UnionRenderers\"},{\"attributes\":{\"bottom\":{\"value\":0},\"fill_alpha\":{\"value\":1.0},\"fill_color\":{\"value\":\"#30a2da\"},\"hatch_alpha\":{\"value\":1.0},\"hatch_color\":{\"value\":\"#30a2da\"},\"hatch_scale\":{\"value\":12.0},\"hatch_weight\":{\"value\":1.0},\"line_alpha\":{\"value\":1.0},\"line_cap\":{\"value\":\"butt\"},\"line_color\":{\"value\":\"black\"},\"line_dash\":{\"value\":[]},\"line_dash_offset\":{\"value\":0},\"line_join\":{\"value\":\"bevel\"},\"line_width\":{\"value\":1},\"top\":{\"field\":\"total\"},\"width\":{\"value\":0.8},\"x\":{\"field\":\"descrip_alex\"}},\"id\":\"32970\",\"type\":\"VBar\"},{\"attributes\":{},\"id\":\"32950\",\"type\":\"PanTool\"},{\"attributes\":{\"coordinates\":null,\"group\":null,\"text\":\"Productos a monitorear diariamente\",\"text_color\":\"black\",\"text_font_size\":\"12pt\"},\"id\":\"32934\",\"type\":\"Title\"},{\"attributes\":{\"fill_alpha\":{\"value\":0.1},\"fill_color\":{\"value\":\"#30a2da\"},\"hatch_alpha\":{\"value\":0.1},\"hatch_color\":{\"value\":\"#30a2da\"},\"line_alpha\":{\"value\":0.1},\"top\":{\"field\":\"total\"},\"width\":{\"value\":0.8},\"x\":{\"field\":\"descrip_alex\"}},\"id\":\"32966\",\"type\":\"VBar\"},{\"attributes\":{\"below\":[{\"id\":\"32942\"}],\"center\":[{\"id\":\"32944\"},{\"id\":\"32948\"}],\"height\":300,\"left\":[{\"id\":\"32945\"}],\"margin\":[5,5,5,5],\"min_border_bottom\":10,\"min_border_left\":10,\"min_border_right\":10,\"min_border_top\":10,\"renderers\":[{\"id\":\"32968\"}],\"sizing_mode\":\"fixed\",\"title\":{\"id\":\"32934\"},\"toolbar\":{\"id\":\"32955\"},\"width\":700,\"x_range\":{\"id\":\"32930\"},\"x_scale\":{\"id\":\"32938\"},\"y_range\":{\"id\":\"32931\"},\"y_scale\":{\"id\":\"32940\"}},\"id\":\"32933\",\"subtype\":\"Figure\",\"type\":\"Plot\"},{\"attributes\":{\"children\":[{\"id\":\"32933\"}],\"margin\":[0,0,0,0],\"name\":\"Row81691\"},\"id\":\"32929\",\"type\":\"Row\"},{\"attributes\":{},\"id\":\"32946\",\"type\":\"BasicTicker\"},{\"attributes\":{\"axis_label\":\"descrip_alex\",\"coordinates\":null,\"formatter\":{\"id\":\"32972\"},\"group\":null,\"major_label_policy\":{\"id\":\"32973\"},\"ticker\":{\"id\":\"32943\"}},\"id\":\"32942\",\"type\":\"CategoricalAxis\"},{\"attributes\":{\"end\":0.5,\"reset_end\":0.5,\"reset_start\":-0.5,\"start\":-0.5,\"tags\":[[[\"total\",\"total\",null]]]},\"id\":\"32931\",\"type\":\"Range1d\"},{\"attributes\":{\"axis\":{\"id\":\"32945\"},\"coordinates\":null,\"dimension\":1,\"grid_line_color\":null,\"group\":null,\"ticker\":null},\"id\":\"32948\",\"type\":\"Grid\"},{\"attributes\":{},\"id\":\"32951\",\"type\":\"WheelZoomTool\"},{\"attributes\":{\"fill_alpha\":{\"value\":0.2},\"fill_color\":{\"value\":\"#30a2da\"},\"hatch_alpha\":{\"value\":0.2},\"hatch_color\":{\"value\":\"#30a2da\"},\"line_alpha\":{\"value\":0.2},\"top\":{\"field\":\"total\"},\"width\":{\"value\":0.8},\"x\":{\"field\":\"descrip_alex\"}},\"id\":\"32967\",\"type\":\"VBar\"},{\"attributes\":{},\"id\":\"32949\",\"type\":\"SaveTool\"},{\"attributes\":{\"coordinates\":null,\"data_source\":{\"id\":\"32962\"},\"glyph\":{\"id\":\"32965\"},\"group\":null,\"hover_glyph\":null,\"muted_glyph\":{\"id\":\"32967\"},\"nonselection_glyph\":{\"id\":\"32966\"},\"selection_glyph\":{\"id\":\"32970\"},\"view\":{\"id\":\"32969\"}},\"id\":\"32968\",\"type\":\"GlyphRenderer\"},{\"attributes\":{\"axis\":{\"id\":\"32942\"},\"coordinates\":null,\"grid_line_color\":null,\"group\":null,\"ticker\":null},\"id\":\"32944\",\"type\":\"Grid\"},{\"attributes\":{},\"id\":\"32976\",\"type\":\"AllLabels\"},{\"attributes\":{\"margin\":[5,5,5,5],\"name\":\"HSpacer81856\",\"sizing_mode\":\"stretch_width\"},\"id\":\"32928\",\"type\":\"Spacer\"},{\"attributes\":{\"axis_label\":\"total\",\"coordinates\":null,\"formatter\":{\"id\":\"32975\"},\"group\":null,\"major_label_policy\":{\"id\":\"32976\"},\"ticker\":{\"id\":\"32946\"}},\"id\":\"32945\",\"type\":\"LinearAxis\"},{\"attributes\":{\"fill_color\":{\"value\":\"#30a2da\"},\"hatch_color\":{\"value\":\"#30a2da\"},\"top\":{\"field\":\"total\"},\"width\":{\"value\":0.8},\"x\":{\"field\":\"descrip_alex\"}},\"id\":\"32965\",\"type\":\"VBar\"},{\"attributes\":{},\"id\":\"32938\",\"type\":\"CategoricalScale\"},{\"attributes\":{\"source\":{\"id\":\"32962\"}},\"id\":\"32969\",\"type\":\"CDSView\"},{\"attributes\":{\"callback\":null,\"renderers\":[{\"id\":\"32968\"}],\"tags\":[\"hv_created\"],\"tooltips\":[[\"descrip_alex\",\"@{descrip_alex}\"],[\"total\",\"@{total}\"]]},\"id\":\"32932\",\"type\":\"HoverTool\"},{\"attributes\":{\"overlay\":{\"id\":\"32954\"}},\"id\":\"32952\",\"type\":\"BoxZoomTool\"},{\"attributes\":{},\"id\":\"32963\",\"type\":\"Selection\"},{\"attributes\":{\"active\":0,\"button_type\":\"success\",\"labels\":[\"total\",\"cant\"],\"margin\":[5,10,5,10]},\"id\":\"32927\",\"type\":\"RadioButtonGroup\"},{\"attributes\":{},\"id\":\"32943\",\"type\":\"CategoricalTicker\"},{\"attributes\":{\"tools\":[{\"id\":\"32932\"},{\"id\":\"32949\"},{\"id\":\"32950\"},{\"id\":\"32951\"},{\"id\":\"32952\"},{\"id\":\"32953\"}]},\"id\":\"32955\",\"type\":\"Toolbar\"},{\"attributes\":{\"children\":[{\"id\":\"32924\"},{\"id\":\"32929\"}],\"margin\":[0,0,0,0],\"name\":\"Column81858\"},\"id\":\"32923\",\"type\":\"Column\"},{\"attributes\":{},\"id\":\"32975\",\"type\":\"BasicTickFormatter\"}],\"root_ids\":[\"32922\",\"33027\"]},\"title\":\"Bokeh Application\",\"version\":\"2.4.1\"}};\n",
       "    var render_items = [{\"docid\":\"92aa0ade-3ece-4acb-b114-5f9ad05e442e\",\"root_ids\":[\"32922\"],\"roots\":{\"32922\":\"73fc6554-3732-4cd1-a9ad-4fc8046321ef\"}}];\n",
       "    root.Bokeh.embed.embed_items_notebook(docs_json, render_items);\n",
       "  }\n",
       "  if (root.Bokeh !== undefined && root.Bokeh.Panel !== undefined && ( root['Tabulator'] !== undefined)) {\n",
       "    embed_document(root);\n",
       "  } else {\n",
       "    var attempts = 0;\n",
       "    var timer = setInterval(function(root) {\n",
       "      if (root.Bokeh !== undefined && root.Bokeh.Panel !== undefined && (root['Tabulator'] !== undefined)) {\n",
       "        clearInterval(timer);\n",
       "        embed_document(root);\n",
       "      } else if (document.readyState == \"complete\") {\n",
       "        attempts++;\n",
       "        if (attempts > 200) {\n",
       "          clearInterval(timer);\n",
       "          console.log(\"Bokeh: ERROR: Unable to run BokehJS code because BokehJS library is missing\");\n",
       "        }\n",
       "      }\n",
       "    }, 25, root)\n",
       "  }\n",
       "})(window);</script>"
      ],
      "text/plain": [
       "<hvplot.interactive.Interactive at 0x1a6c67ed5e0>"
      ]
     },
     "execution_count": 64,
     "metadata": {
      "application/vnd.holoviews_exec.v0+json": {
       "id": "32922"
      }
     },
     "output_type": "execute_result"
    }
   ],
   "source": [
    "total_bar_plot = total_source_bar_pipeline.hvplot(kind='bar', \n",
    "                                                     x='descrip_alex', \n",
    "                                                     y=yaxis_total_barra, \n",
    "                                                     #y='descrip_alex', \n",
    "                                                     #x=yaxis_total_barra, \n",
    "                                                     title='Productos a monitorear diariamente')\n",
    "total_bar_plot"
   ]
  },
  {
   "cell_type": "markdown",
   "metadata": {},
   "source": [
    "### 2. Dashboard "
   ]
  },
  {
   "cell_type": "code",
   "execution_count": 65,
   "metadata": {},
   "outputs": [],
   "source": [
    "#Image(filename='C:/Users/alexc/Desktop/Helados/Tablero.jpg')"
   ]
  },
  {
   "cell_type": "code",
   "execution_count": 66,
   "metadata": {},
   "outputs": [
    {
     "name": "stdout",
     "output_type": "stream",
     "text": [
      "Launching server at http://localhost:52028\n"
     ]
    }
   ],
   "source": [
    "#Layout using Template\n",
    "template = pn.template.FastListTemplate(\n",
    "    title='Heladería de la esquina', \n",
    "#    sidebar=[\n",
    "#             pn.pane.Markdown(\"# Ventas y movimientos\"), \n",
    "#             pn.pane.Markdown(\"#### Tablero de control de los datos mas relevantes.\"), \n",
    "#             pn.pane.PNG('C:/Users/alexc/Desktop/Helados/Icecream.png', sizing_mode='scale_both'),\n",
    "#             Diciembre_slider\n",
    "#            ],\n",
    "    main=[\n",
    "          Diciembre_slider,\n",
    "          pn.Row(pn.Column(yaxis_total, total_plot.panel(width=800,height=500), margin=(0,25), width=1000, height=550, scroll=True)), \n",
    "          pn.Row(total_table.panel(width=500), margin=(0,25)),                            \n",
    "          pn.Row(total_vs_cantidad_scatterplot.panel(width=800,height=500), margin=(0,25)), \n",
    "          pn.Row(pn.Column(yaxis_total_barra,total_bar_plot.panel(width=1000)))],\n",
    "    accent_base_color=\"#88d8b0\",\n",
    "    header_background=\"#88d8b0\",\n",
    ")\n",
    "template.show()\n",
    "template.servable();"
   ]
  },
  {
   "cell_type": "markdown",
   "metadata": {},
   "source": [
    "#### *Now, I´m going to the terminal and use the command panel serve, followed by InfoVis_Helados.ipynb*"
   ]
  }
 ],
 "metadata": {
  "colab": {
   "authorship_tag": "ABX9TyOEWnnwL+z4XlVg07g1CuCd",
   "collapsed_sections": [],
   "name": "InfoVis_Helados.ipynb",
   "provenance": [
    {
     "file_id": "1VKvnv5oRbA8ZnSavcNuFWyEJXaOq9aaF",
     "timestamp": 1653065594807
    }
   ]
  },
  "kernelspec": {
   "display_name": "Python 3 (ipykernel)",
   "language": "python",
   "name": "python3"
  },
  "language_info": {
   "codemirror_mode": {
    "name": "ipython",
    "version": 3
   },
   "file_extension": ".py",
   "mimetype": "text/x-python",
   "name": "python",
   "nbconvert_exporter": "python",
   "pygments_lexer": "ipython3",
   "version": "3.9.7"
  }
 },
 "nbformat": 4,
 "nbformat_minor": 4
}
