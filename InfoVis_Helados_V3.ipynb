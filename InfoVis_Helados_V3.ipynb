{
 "cells": [
  {
   "cell_type": "markdown",
   "metadata": {
    "id": "VVl6AC06PcT0"
   },
   "source": [
    "# **Information visualization class** \n",
    "#### *Data visualitation in an ice cream shop*"
   ]
  },
  {
   "cell_type": "markdown",
   "metadata": {},
   "source": [
    "*Panel is an open-source Python library that lets you create custom interactive web apps \n",
    "and dashboards by connecting user-defined widgets to plots, images, tables, or text.: https://panel.holoviz.org/*"
   ]
  },
  {
   "cell_type": "markdown",
   "metadata": {
    "id": "fHkkfhCgQ1ms"
   },
   "source": [
    "### 0a. Install and import libraries"
   ]
  },
  {
   "cell_type": "code",
   "execution_count": 435,
   "metadata": {
    "id": "ICUgfDvCNWBL",
    "tags": []
   },
   "outputs": [],
   "source": [
    "#pip install hvplot "
   ]
  },
  {
   "cell_type": "code",
   "execution_count": 436,
   "metadata": {
    "id": "-A5lx34iNrkE",
    "tags": []
   },
   "outputs": [],
   "source": [
    "#pip install panel"
   ]
  },
  {
   "cell_type": "code",
   "execution_count": 437,
   "metadata": {
    "id": "srhOZHERNR6F",
    "tags": []
   },
   "outputs": [
    {
     "data": {
      "application/javascript": [
       "\n",
       "(function(root) {\n",
       "  function now() {\n",
       "    return new Date();\n",
       "  }\n",
       "\n",
       "  var force = true;\n",
       "\n",
       "  if (typeof root._bokeh_onload_callbacks === \"undefined\" || force === true) {\n",
       "    root._bokeh_onload_callbacks = [];\n",
       "    root._bokeh_is_loading = undefined;\n",
       "  }\n",
       "\n",
       "  if (typeof (root._bokeh_timeout) === \"undefined\" || force === true) {\n",
       "    root._bokeh_timeout = Date.now() + 5000;\n",
       "    root._bokeh_failed_load = false;\n",
       "  }\n",
       "\n",
       "  function run_callbacks() {\n",
       "    try {\n",
       "      root._bokeh_onload_callbacks.forEach(function(callback) {\n",
       "        if (callback != null)\n",
       "          callback();\n",
       "      });\n",
       "    } finally {\n",
       "      delete root._bokeh_onload_callbacks\n",
       "    }\n",
       "    console.debug(\"Bokeh: all callbacks have finished\");\n",
       "  }\n",
       "\n",
       "  function load_libs(css_urls, js_urls, js_modules, callback) {\n",
       "    if (css_urls == null) css_urls = [];\n",
       "    if (js_urls == null) js_urls = [];\n",
       "    if (js_modules == null) js_modules = [];\n",
       "\n",
       "    root._bokeh_onload_callbacks.push(callback);\n",
       "    if (root._bokeh_is_loading > 0) {\n",
       "      console.debug(\"Bokeh: BokehJS is being loaded, scheduling callback at\", now());\n",
       "      return null;\n",
       "    }\n",
       "    if (js_urls.length === 0 && js_modules.length === 0) {\n",
       "      run_callbacks();\n",
       "      return null;\n",
       "    }\n",
       "    console.debug(\"Bokeh: BokehJS not loaded, scheduling load and callback at\", now());\n",
       "\n",
       "    function on_load() {\n",
       "      root._bokeh_is_loading--;\n",
       "      if (root._bokeh_is_loading === 0) {\n",
       "        console.debug(\"Bokeh: all BokehJS libraries/stylesheets loaded\");\n",
       "        run_callbacks()\n",
       "      }\n",
       "    }\n",
       "\n",
       "    function on_error() {\n",
       "      console.error(\"failed to load \" + url);\n",
       "    }\n",
       "\n",
       "    for (var i = 0; i < css_urls.length; i++) {\n",
       "      var url = css_urls[i];\n",
       "      const element = document.createElement(\"link\");\n",
       "      element.onload = on_load;\n",
       "      element.onerror = on_error;\n",
       "      element.rel = \"stylesheet\";\n",
       "      element.type = \"text/css\";\n",
       "      element.href = url;\n",
       "      console.debug(\"Bokeh: injecting link tag for BokehJS stylesheet: \", url);\n",
       "      document.body.appendChild(element);\n",
       "    }\n",
       "\n",
       "    var skip = [];\n",
       "    if (window.requirejs) {\n",
       "      window.requirejs.config({'packages': {}, 'paths': {'tabulator': 'https://unpkg.com/tabulator-tables@4.9.3/dist/js/tabulator', 'moment': 'https://cdn.jsdelivr.net/npm/luxon/build/global/luxon.min', 'gridstack': 'https://cdn.jsdelivr.net/npm/gridstack@4.2.5/dist/gridstack-h5'}, 'shim': {'gridstack': {'exports': 'GridStack'}}});\n",
       "      \n",
       "      require([\"tabulator\"], function(Tabulator) {\n",
       "\t\n",
       "\twindow.Tabulator = Tabulator\n",
       "\t\n",
       "\ton_load()\n",
       "      })\n",
       "      \n",
       "      require([\"moment\"], function(moment) {\n",
       "\t\n",
       "\twindow.moment = moment\n",
       "\t\n",
       "\ton_load()\n",
       "      })\n",
       "      \n",
       "      require([\"gridstack\"], function(GridStack) {\n",
       "\t\n",
       "\twindow.GridStack = GridStack\n",
       "\t\n",
       "\ton_load()\n",
       "      })\n",
       "      \n",
       "      root._bokeh_is_loading = css_urls.length + 3;\n",
       "    } else {\n",
       "      root._bokeh_is_loading = css_urls.length + js_urls.length + js_modules.length;\n",
       "    }\n",
       "    if (((window['Tabulator'] !== undefined) && (!(window['Tabulator'] instanceof HTMLElement))) || window.requirejs) {\n",
       "      var urls = ['https://unpkg.com/tabulator-tables@4.9.3/dist/js/tabulator.js'];\n",
       "      for (var i = 0; i < urls.length; i++) {\n",
       "        skip.push(urls[i])\n",
       "      }\n",
       "    }\n",
       "    if (((window['moment'] !== undefined) && (!(window['moment'] instanceof HTMLElement))) || window.requirejs) {\n",
       "      var urls = ['https://cdn.jsdelivr.net/npm/luxon/build/global/luxon.min.js'];\n",
       "      for (var i = 0; i < urls.length; i++) {\n",
       "        skip.push(urls[i])\n",
       "      }\n",
       "    }\n",
       "    if (((window['GridStack'] !== undefined) && (!(window['GridStack'] instanceof HTMLElement))) || window.requirejs) {\n",
       "      var urls = ['https://cdn.jsdelivr.net/npm/gridstack@4.2.5/dist/gridstack-h5.js'];\n",
       "      for (var i = 0; i < urls.length; i++) {\n",
       "        skip.push(urls[i])\n",
       "      }\n",
       "    }\n",
       "    for (var i = 0; i < js_urls.length; i++) {\n",
       "      var url = js_urls[i];\n",
       "      if (skip.indexOf(url) >= 0) {\n",
       "\tif (!window.requirejs) {\n",
       "\t  on_load();\n",
       "\t}\n",
       "\tcontinue;\n",
       "      }\n",
       "      var element = document.createElement('script');\n",
       "      element.onload = on_load;\n",
       "      element.onerror = on_error;\n",
       "      element.async = false;\n",
       "      element.src = url;\n",
       "      console.debug(\"Bokeh: injecting script tag for BokehJS library: \", url);\n",
       "      document.head.appendChild(element);\n",
       "    }\n",
       "    for (var i = 0; i < js_modules.length; i++) {\n",
       "      var url = js_modules[i];\n",
       "      if (skip.indexOf(url) >= 0) {\n",
       "\tif (!window.requirejs) {\n",
       "\t  on_load();\n",
       "\t}\n",
       "\tcontinue;\n",
       "      }\n",
       "      var element = document.createElement('script');\n",
       "      element.onload = on_load;\n",
       "      element.onerror = on_error;\n",
       "      element.async = false;\n",
       "      element.src = url;\n",
       "      element.type = \"module\";\n",
       "      console.debug(\"Bokeh: injecting script tag for BokehJS library: \", url);\n",
       "      document.head.appendChild(element);\n",
       "    }\n",
       "    if (!js_urls.length && !js_modules.length) {\n",
       "      on_load()\n",
       "    }\n",
       "  };\n",
       "\n",
       "  function inject_raw_css(css) {\n",
       "    const element = document.createElement(\"style\");\n",
       "    element.appendChild(document.createTextNode(css));\n",
       "    document.body.appendChild(element);\n",
       "  }\n",
       "\n",
       "  var js_urls = [\"https://unpkg.com/tabulator-tables@4.9.3/dist/js/tabulator.js\", \"https://cdn.jsdelivr.net/npm/luxon/build/global/luxon.min.js\", \"https://cdn.bokeh.org/bokeh/release/bokeh-2.4.1.min.js\", \"https://cdn.bokeh.org/bokeh/release/bokeh-gl-2.4.1.min.js\", \"https://cdn.bokeh.org/bokeh/release/bokeh-widgets-2.4.1.min.js\", \"https://cdn.bokeh.org/bokeh/release/bokeh-tables-2.4.1.min.js\", \"https://cdn.bokeh.org/bokeh/release/bokeh-mathjax-2.4.1.min.js\", \"https://unpkg.com/@holoviz/panel@0.13.0/dist/panel.min.js\"];\n",
       "  var js_modules = [];\n",
       "  var css_urls = [\"https://unpkg.com/tabulator-tables@4.9.3/dist/css/tabulator_simple.min.css\", \"https://unpkg.com/@holoviz/panel@0.13.0/dist/css/alerts.css\", \"https://unpkg.com/@holoviz/panel@0.13.0/dist/css/card.css\", \"https://unpkg.com/@holoviz/panel@0.13.0/dist/css/dataframe.css\", \"https://unpkg.com/@holoviz/panel@0.13.0/dist/css/debugger.css\", \"https://unpkg.com/@holoviz/panel@0.13.0/dist/css/json.css\", \"https://unpkg.com/@holoviz/panel@0.13.0/dist/css/loading.css\", \"https://unpkg.com/@holoviz/panel@0.13.0/dist/css/markdown.css\", \"https://unpkg.com/@holoviz/panel@0.13.0/dist/css/widgets.css\"];\n",
       "  var inline_js = [\n",
       "    function(Bokeh) {\n",
       "      inject_raw_css(\"\\n    .bk.pn-loading.arcs:before {\\n      background-image: url(\\\"data:image/svg+xml;base64,PHN2ZyB4bWxucz0iaHR0cDovL3d3dy53My5vcmcvMjAwMC9zdmciIHhtbG5zOnhsaW5rPSJodHRwOi8vd3d3LnczLm9yZy8xOTk5L3hsaW5rIiBzdHlsZT0ibWFyZ2luOiBhdXRvOyBiYWNrZ3JvdW5kOiBub25lOyBkaXNwbGF5OiBibG9jazsgc2hhcGUtcmVuZGVyaW5nOiBhdXRvOyIgdmlld0JveD0iMCAwIDEwMCAxMDAiIHByZXNlcnZlQXNwZWN0UmF0aW89InhNaWRZTWlkIj4gIDxjaXJjbGUgY3g9IjUwIiBjeT0iNTAiIHI9IjMyIiBzdHJva2Utd2lkdGg9IjgiIHN0cm9rZT0iI2MzYzNjMyIgc3Ryb2tlLWRhc2hhcnJheT0iNTAuMjY1NDgyNDU3NDM2NjkgNTAuMjY1NDgyNDU3NDM2NjkiIGZpbGw9Im5vbmUiIHN0cm9rZS1saW5lY2FwPSJyb3VuZCI+ICAgIDxhbmltYXRlVHJhbnNmb3JtIGF0dHJpYnV0ZU5hbWU9InRyYW5zZm9ybSIgdHlwZT0icm90YXRlIiByZXBlYXRDb3VudD0iaW5kZWZpbml0ZSIgZHVyPSIxcyIga2V5VGltZXM9IjA7MSIgdmFsdWVzPSIwIDUwIDUwOzM2MCA1MCA1MCI+PC9hbmltYXRlVHJhbnNmb3JtPiAgPC9jaXJjbGU+PC9zdmc+\\\");\\n      background-size: auto calc(min(50%, 400px));\\n    }\\n    \");\n",
       "    },\n",
       "    function(Bokeh) {\n",
       "      Bokeh.set_log_level(\"info\");\n",
       "    },\n",
       "    function(Bokeh) {} // ensure no trailing comma for IE\n",
       "  ];\n",
       "\n",
       "  function run_inline_js() {\n",
       "    if ((root.Bokeh !== undefined) || (force === true)) {\n",
       "      for (var i = 0; i < inline_js.length; i++) {\n",
       "        inline_js[i].call(root, root.Bokeh);\n",
       "      }} else if (Date.now() < root._bokeh_timeout) {\n",
       "      setTimeout(run_inline_js, 100);\n",
       "    } else if (!root._bokeh_failed_load) {\n",
       "      console.log(\"Bokeh: BokehJS failed to load within specified timeout.\");\n",
       "      root._bokeh_failed_load = true;\n",
       "    }\n",
       "  }\n",
       "\n",
       "  if (root._bokeh_is_loading === 0) {\n",
       "    console.debug(\"Bokeh: BokehJS loaded, going straight to plotting\");\n",
       "    run_inline_js();\n",
       "  } else {\n",
       "    load_libs(css_urls, js_urls, js_modules, function() {\n",
       "      console.debug(\"Bokeh: BokehJS plotting callback run at\", now());\n",
       "      run_inline_js();\n",
       "    });\n",
       "  }\n",
       "}(window));"
      ],
      "application/vnd.holoviews_load.v0+json": "\n(function(root) {\n  function now() {\n    return new Date();\n  }\n\n  var force = true;\n\n  if (typeof root._bokeh_onload_callbacks === \"undefined\" || force === true) {\n    root._bokeh_onload_callbacks = [];\n    root._bokeh_is_loading = undefined;\n  }\n\n  if (typeof (root._bokeh_timeout) === \"undefined\" || force === true) {\n    root._bokeh_timeout = Date.now() + 5000;\n    root._bokeh_failed_load = false;\n  }\n\n  function run_callbacks() {\n    try {\n      root._bokeh_onload_callbacks.forEach(function(callback) {\n        if (callback != null)\n          callback();\n      });\n    } finally {\n      delete root._bokeh_onload_callbacks\n    }\n    console.debug(\"Bokeh: all callbacks have finished\");\n  }\n\n  function load_libs(css_urls, js_urls, js_modules, callback) {\n    if (css_urls == null) css_urls = [];\n    if (js_urls == null) js_urls = [];\n    if (js_modules == null) js_modules = [];\n\n    root._bokeh_onload_callbacks.push(callback);\n    if (root._bokeh_is_loading > 0) {\n      console.debug(\"Bokeh: BokehJS is being loaded, scheduling callback at\", now());\n      return null;\n    }\n    if (js_urls.length === 0 && js_modules.length === 0) {\n      run_callbacks();\n      return null;\n    }\n    console.debug(\"Bokeh: BokehJS not loaded, scheduling load and callback at\", now());\n\n    function on_load() {\n      root._bokeh_is_loading--;\n      if (root._bokeh_is_loading === 0) {\n        console.debug(\"Bokeh: all BokehJS libraries/stylesheets loaded\");\n        run_callbacks()\n      }\n    }\n\n    function on_error() {\n      console.error(\"failed to load \" + url);\n    }\n\n    for (var i = 0; i < css_urls.length; i++) {\n      var url = css_urls[i];\n      const element = document.createElement(\"link\");\n      element.onload = on_load;\n      element.onerror = on_error;\n      element.rel = \"stylesheet\";\n      element.type = \"text/css\";\n      element.href = url;\n      console.debug(\"Bokeh: injecting link tag for BokehJS stylesheet: \", url);\n      document.body.appendChild(element);\n    }\n\n    var skip = [];\n    if (window.requirejs) {\n      window.requirejs.config({'packages': {}, 'paths': {'tabulator': 'https://unpkg.com/tabulator-tables@4.9.3/dist/js/tabulator', 'moment': 'https://cdn.jsdelivr.net/npm/luxon/build/global/luxon.min', 'gridstack': 'https://cdn.jsdelivr.net/npm/gridstack@4.2.5/dist/gridstack-h5'}, 'shim': {'gridstack': {'exports': 'GridStack'}}});\n      \n      require([\"tabulator\"], function(Tabulator) {\n\t\n\twindow.Tabulator = Tabulator\n\t\n\ton_load()\n      })\n      \n      require([\"moment\"], function(moment) {\n\t\n\twindow.moment = moment\n\t\n\ton_load()\n      })\n      \n      require([\"gridstack\"], function(GridStack) {\n\t\n\twindow.GridStack = GridStack\n\t\n\ton_load()\n      })\n      \n      root._bokeh_is_loading = css_urls.length + 3;\n    } else {\n      root._bokeh_is_loading = css_urls.length + js_urls.length + js_modules.length;\n    }\n    if (((window['Tabulator'] !== undefined) && (!(window['Tabulator'] instanceof HTMLElement))) || window.requirejs) {\n      var urls = ['https://unpkg.com/tabulator-tables@4.9.3/dist/js/tabulator.js'];\n      for (var i = 0; i < urls.length; i++) {\n        skip.push(urls[i])\n      }\n    }\n    if (((window['moment'] !== undefined) && (!(window['moment'] instanceof HTMLElement))) || window.requirejs) {\n      var urls = ['https://cdn.jsdelivr.net/npm/luxon/build/global/luxon.min.js'];\n      for (var i = 0; i < urls.length; i++) {\n        skip.push(urls[i])\n      }\n    }\n    if (((window['GridStack'] !== undefined) && (!(window['GridStack'] instanceof HTMLElement))) || window.requirejs) {\n      var urls = ['https://cdn.jsdelivr.net/npm/gridstack@4.2.5/dist/gridstack-h5.js'];\n      for (var i = 0; i < urls.length; i++) {\n        skip.push(urls[i])\n      }\n    }\n    for (var i = 0; i < js_urls.length; i++) {\n      var url = js_urls[i];\n      if (skip.indexOf(url) >= 0) {\n\tif (!window.requirejs) {\n\t  on_load();\n\t}\n\tcontinue;\n      }\n      var element = document.createElement('script');\n      element.onload = on_load;\n      element.onerror = on_error;\n      element.async = false;\n      element.src = url;\n      console.debug(\"Bokeh: injecting script tag for BokehJS library: \", url);\n      document.head.appendChild(element);\n    }\n    for (var i = 0; i < js_modules.length; i++) {\n      var url = js_modules[i];\n      if (skip.indexOf(url) >= 0) {\n\tif (!window.requirejs) {\n\t  on_load();\n\t}\n\tcontinue;\n      }\n      var element = document.createElement('script');\n      element.onload = on_load;\n      element.onerror = on_error;\n      element.async = false;\n      element.src = url;\n      element.type = \"module\";\n      console.debug(\"Bokeh: injecting script tag for BokehJS library: \", url);\n      document.head.appendChild(element);\n    }\n    if (!js_urls.length && !js_modules.length) {\n      on_load()\n    }\n  };\n\n  function inject_raw_css(css) {\n    const element = document.createElement(\"style\");\n    element.appendChild(document.createTextNode(css));\n    document.body.appendChild(element);\n  }\n\n  var js_urls = [\"https://unpkg.com/tabulator-tables@4.9.3/dist/js/tabulator.js\", \"https://cdn.jsdelivr.net/npm/luxon/build/global/luxon.min.js\", \"https://cdn.bokeh.org/bokeh/release/bokeh-2.4.1.min.js\", \"https://cdn.bokeh.org/bokeh/release/bokeh-gl-2.4.1.min.js\", \"https://cdn.bokeh.org/bokeh/release/bokeh-widgets-2.4.1.min.js\", \"https://cdn.bokeh.org/bokeh/release/bokeh-tables-2.4.1.min.js\", \"https://cdn.bokeh.org/bokeh/release/bokeh-mathjax-2.4.1.min.js\", \"https://unpkg.com/@holoviz/panel@0.13.0/dist/panel.min.js\"];\n  var js_modules = [];\n  var css_urls = [\"https://unpkg.com/tabulator-tables@4.9.3/dist/css/tabulator_simple.min.css\", \"https://unpkg.com/@holoviz/panel@0.13.0/dist/css/alerts.css\", \"https://unpkg.com/@holoviz/panel@0.13.0/dist/css/card.css\", \"https://unpkg.com/@holoviz/panel@0.13.0/dist/css/dataframe.css\", \"https://unpkg.com/@holoviz/panel@0.13.0/dist/css/debugger.css\", \"https://unpkg.com/@holoviz/panel@0.13.0/dist/css/json.css\", \"https://unpkg.com/@holoviz/panel@0.13.0/dist/css/loading.css\", \"https://unpkg.com/@holoviz/panel@0.13.0/dist/css/markdown.css\", \"https://unpkg.com/@holoviz/panel@0.13.0/dist/css/widgets.css\"];\n  var inline_js = [\n    function(Bokeh) {\n      inject_raw_css(\"\\n    .bk.pn-loading.arcs:before {\\n      background-image: url(\\\"data:image/svg+xml;base64,PHN2ZyB4bWxucz0iaHR0cDovL3d3dy53My5vcmcvMjAwMC9zdmciIHhtbG5zOnhsaW5rPSJodHRwOi8vd3d3LnczLm9yZy8xOTk5L3hsaW5rIiBzdHlsZT0ibWFyZ2luOiBhdXRvOyBiYWNrZ3JvdW5kOiBub25lOyBkaXNwbGF5OiBibG9jazsgc2hhcGUtcmVuZGVyaW5nOiBhdXRvOyIgdmlld0JveD0iMCAwIDEwMCAxMDAiIHByZXNlcnZlQXNwZWN0UmF0aW89InhNaWRZTWlkIj4gIDxjaXJjbGUgY3g9IjUwIiBjeT0iNTAiIHI9IjMyIiBzdHJva2Utd2lkdGg9IjgiIHN0cm9rZT0iI2MzYzNjMyIgc3Ryb2tlLWRhc2hhcnJheT0iNTAuMjY1NDgyNDU3NDM2NjkgNTAuMjY1NDgyNDU3NDM2NjkiIGZpbGw9Im5vbmUiIHN0cm9rZS1saW5lY2FwPSJyb3VuZCI+ICAgIDxhbmltYXRlVHJhbnNmb3JtIGF0dHJpYnV0ZU5hbWU9InRyYW5zZm9ybSIgdHlwZT0icm90YXRlIiByZXBlYXRDb3VudD0iaW5kZWZpbml0ZSIgZHVyPSIxcyIga2V5VGltZXM9IjA7MSIgdmFsdWVzPSIwIDUwIDUwOzM2MCA1MCA1MCI+PC9hbmltYXRlVHJhbnNmb3JtPiAgPC9jaXJjbGU+PC9zdmc+\\\");\\n      background-size: auto calc(min(50%, 400px));\\n    }\\n    \");\n    },\n    function(Bokeh) {\n      Bokeh.set_log_level(\"info\");\n    },\n    function(Bokeh) {} // ensure no trailing comma for IE\n  ];\n\n  function run_inline_js() {\n    if ((root.Bokeh !== undefined) || (force === true)) {\n      for (var i = 0; i < inline_js.length; i++) {\n        inline_js[i].call(root, root.Bokeh);\n      }} else if (Date.now() < root._bokeh_timeout) {\n      setTimeout(run_inline_js, 100);\n    } else if (!root._bokeh_failed_load) {\n      console.log(\"Bokeh: BokehJS failed to load within specified timeout.\");\n      root._bokeh_failed_load = true;\n    }\n  }\n\n  if (root._bokeh_is_loading === 0) {\n    console.debug(\"Bokeh: BokehJS loaded, going straight to plotting\");\n    run_inline_js();\n  } else {\n    load_libs(css_urls, js_urls, js_modules, function() {\n      console.debug(\"Bokeh: BokehJS plotting callback run at\", now());\n      run_inline_js();\n    });\n  }\n}(window));"
     },
     "metadata": {},
     "output_type": "display_data"
    },
    {
     "data": {
      "application/javascript": [
       "\n",
       "if ((window.PyViz === undefined) || (window.PyViz instanceof HTMLElement)) {\n",
       "  window.PyViz = {comms: {}, comm_status:{}, kernels:{}, receivers: {}, plot_index: []}\n",
       "}\n",
       "\n",
       "\n",
       "    function JupyterCommManager() {\n",
       "    }\n",
       "\n",
       "    JupyterCommManager.prototype.register_target = function(plot_id, comm_id, msg_handler) {\n",
       "      if (window.comm_manager || ((window.Jupyter !== undefined) && (Jupyter.notebook.kernel != null))) {\n",
       "        var comm_manager = window.comm_manager || Jupyter.notebook.kernel.comm_manager;\n",
       "        comm_manager.register_target(comm_id, function(comm) {\n",
       "          comm.on_msg(msg_handler);\n",
       "        });\n",
       "      } else if ((plot_id in window.PyViz.kernels) && (window.PyViz.kernels[plot_id])) {\n",
       "        window.PyViz.kernels[plot_id].registerCommTarget(comm_id, function(comm) {\n",
       "          comm.onMsg = msg_handler;\n",
       "        });\n",
       "      } else if (typeof google != 'undefined' && google.colab.kernel != null) {\n",
       "        google.colab.kernel.comms.registerTarget(comm_id, (comm) => {\n",
       "          var messages = comm.messages[Symbol.asyncIterator]();\n",
       "          function processIteratorResult(result) {\n",
       "            var message = result.value;\n",
       "            console.log(message)\n",
       "            var content = {data: message.data, comm_id};\n",
       "            var buffers = []\n",
       "            for (var buffer of message.buffers || []) {\n",
       "              buffers.push(new DataView(buffer))\n",
       "            }\n",
       "            var metadata = message.metadata || {};\n",
       "            var msg = {content, buffers, metadata}\n",
       "            msg_handler(msg);\n",
       "            return messages.next().then(processIteratorResult);\n",
       "          }\n",
       "          return messages.next().then(processIteratorResult);\n",
       "        })\n",
       "      }\n",
       "    }\n",
       "\n",
       "    JupyterCommManager.prototype.get_client_comm = function(plot_id, comm_id, msg_handler) {\n",
       "      if (comm_id in window.PyViz.comms) {\n",
       "        return window.PyViz.comms[comm_id];\n",
       "      } else if (window.comm_manager || ((window.Jupyter !== undefined) && (Jupyter.notebook.kernel != null))) {\n",
       "        var comm_manager = window.comm_manager || Jupyter.notebook.kernel.comm_manager;\n",
       "        var comm = comm_manager.new_comm(comm_id, {}, {}, {}, comm_id);\n",
       "        if (msg_handler) {\n",
       "          comm.on_msg(msg_handler);\n",
       "        }\n",
       "      } else if ((plot_id in window.PyViz.kernels) && (window.PyViz.kernels[plot_id])) {\n",
       "        var comm = window.PyViz.kernels[plot_id].connectToComm(comm_id);\n",
       "        comm.open();\n",
       "        if (msg_handler) {\n",
       "          comm.onMsg = msg_handler;\n",
       "        }\n",
       "      } else if (typeof google != 'undefined' && google.colab.kernel != null) {\n",
       "        var comm_promise = google.colab.kernel.comms.open(comm_id)\n",
       "        comm_promise.then((comm) => {\n",
       "          window.PyViz.comms[comm_id] = comm;\n",
       "          if (msg_handler) {\n",
       "            var messages = comm.messages[Symbol.asyncIterator]();\n",
       "            function processIteratorResult(result) {\n",
       "              var message = result.value;\n",
       "              var content = {data: message.data};\n",
       "              var metadata = message.metadata || {comm_id};\n",
       "              var msg = {content, metadata}\n",
       "              msg_handler(msg);\n",
       "              return messages.next().then(processIteratorResult);\n",
       "            }\n",
       "            return messages.next().then(processIteratorResult);\n",
       "          }\n",
       "        }) \n",
       "        var sendClosure = (data, metadata, buffers, disposeOnDone) => {\n",
       "          return comm_promise.then((comm) => {\n",
       "            comm.send(data, metadata, buffers, disposeOnDone);\n",
       "          });\n",
       "        };\n",
       "        var comm = {\n",
       "          send: sendClosure\n",
       "        };\n",
       "      }\n",
       "      window.PyViz.comms[comm_id] = comm;\n",
       "      return comm;\n",
       "    }\n",
       "    window.PyViz.comm_manager = new JupyterCommManager();\n",
       "    \n",
       "\n",
       "\n",
       "var JS_MIME_TYPE = 'application/javascript';\n",
       "var HTML_MIME_TYPE = 'text/html';\n",
       "var EXEC_MIME_TYPE = 'application/vnd.holoviews_exec.v0+json';\n",
       "var CLASS_NAME = 'output';\n",
       "\n",
       "/**\n",
       " * Render data to the DOM node\n",
       " */\n",
       "function render(props, node) {\n",
       "  var div = document.createElement(\"div\");\n",
       "  var script = document.createElement(\"script\");\n",
       "  node.appendChild(div);\n",
       "  node.appendChild(script);\n",
       "}\n",
       "\n",
       "/**\n",
       " * Handle when a new output is added\n",
       " */\n",
       "function handle_add_output(event, handle) {\n",
       "  var output_area = handle.output_area;\n",
       "  var output = handle.output;\n",
       "  if ((output.data == undefined) || (!output.data.hasOwnProperty(EXEC_MIME_TYPE))) {\n",
       "    return\n",
       "  }\n",
       "  var id = output.metadata[EXEC_MIME_TYPE][\"id\"];\n",
       "  var toinsert = output_area.element.find(\".\" + CLASS_NAME.split(' ')[0]);\n",
       "  if (id !== undefined) {\n",
       "    var nchildren = toinsert.length;\n",
       "    var html_node = toinsert[nchildren-1].children[0];\n",
       "    html_node.innerHTML = output.data[HTML_MIME_TYPE];\n",
       "    var scripts = [];\n",
       "    var nodelist = html_node.querySelectorAll(\"script\");\n",
       "    for (var i in nodelist) {\n",
       "      if (nodelist.hasOwnProperty(i)) {\n",
       "        scripts.push(nodelist[i])\n",
       "      }\n",
       "    }\n",
       "\n",
       "    scripts.forEach( function (oldScript) {\n",
       "      var newScript = document.createElement(\"script\");\n",
       "      var attrs = [];\n",
       "      var nodemap = oldScript.attributes;\n",
       "      for (var j in nodemap) {\n",
       "        if (nodemap.hasOwnProperty(j)) {\n",
       "          attrs.push(nodemap[j])\n",
       "        }\n",
       "      }\n",
       "      attrs.forEach(function(attr) { newScript.setAttribute(attr.name, attr.value) });\n",
       "      newScript.appendChild(document.createTextNode(oldScript.innerHTML));\n",
       "      oldScript.parentNode.replaceChild(newScript, oldScript);\n",
       "    });\n",
       "    if (JS_MIME_TYPE in output.data) {\n",
       "      toinsert[nchildren-1].children[1].textContent = output.data[JS_MIME_TYPE];\n",
       "    }\n",
       "    output_area._hv_plot_id = id;\n",
       "    if ((window.Bokeh !== undefined) && (id in Bokeh.index)) {\n",
       "      window.PyViz.plot_index[id] = Bokeh.index[id];\n",
       "    } else {\n",
       "      window.PyViz.plot_index[id] = null;\n",
       "    }\n",
       "  } else if (output.metadata[EXEC_MIME_TYPE][\"server_id\"] !== undefined) {\n",
       "    var bk_div = document.createElement(\"div\");\n",
       "    bk_div.innerHTML = output.data[HTML_MIME_TYPE];\n",
       "    var script_attrs = bk_div.children[0].attributes;\n",
       "    for (var i = 0; i < script_attrs.length; i++) {\n",
       "      toinsert[toinsert.length - 1].childNodes[1].setAttribute(script_attrs[i].name, script_attrs[i].value);\n",
       "    }\n",
       "    // store reference to server id on output_area\n",
       "    output_area._bokeh_server_id = output.metadata[EXEC_MIME_TYPE][\"server_id\"];\n",
       "  }\n",
       "}\n",
       "\n",
       "/**\n",
       " * Handle when an output is cleared or removed\n",
       " */\n",
       "function handle_clear_output(event, handle) {\n",
       "  var id = handle.cell.output_area._hv_plot_id;\n",
       "  var server_id = handle.cell.output_area._bokeh_server_id;\n",
       "  if (((id === undefined) || !(id in PyViz.plot_index)) && (server_id !== undefined)) { return; }\n",
       "  var comm = window.PyViz.comm_manager.get_client_comm(\"hv-extension-comm\", \"hv-extension-comm\", function () {});\n",
       "  if (server_id !== null) {\n",
       "    comm.send({event_type: 'server_delete', 'id': server_id});\n",
       "    return;\n",
       "  } else if (comm !== null) {\n",
       "    comm.send({event_type: 'delete', 'id': id});\n",
       "  }\n",
       "  delete PyViz.plot_index[id];\n",
       "  if ((window.Bokeh !== undefined) & (id in window.Bokeh.index)) {\n",
       "    var doc = window.Bokeh.index[id].model.document\n",
       "    doc.clear();\n",
       "    const i = window.Bokeh.documents.indexOf(doc);\n",
       "    if (i > -1) {\n",
       "      window.Bokeh.documents.splice(i, 1);\n",
       "    }\n",
       "  }\n",
       "}\n",
       "\n",
       "/**\n",
       " * Handle kernel restart event\n",
       " */\n",
       "function handle_kernel_cleanup(event, handle) {\n",
       "  delete PyViz.comms[\"hv-extension-comm\"];\n",
       "  window.PyViz.plot_index = {}\n",
       "}\n",
       "\n",
       "/**\n",
       " * Handle update_display_data messages\n",
       " */\n",
       "function handle_update_output(event, handle) {\n",
       "  handle_clear_output(event, {cell: {output_area: handle.output_area}})\n",
       "  handle_add_output(event, handle)\n",
       "}\n",
       "\n",
       "function register_renderer(events, OutputArea) {\n",
       "  function append_mime(data, metadata, element) {\n",
       "    // create a DOM node to render to\n",
       "    var toinsert = this.create_output_subarea(\n",
       "    metadata,\n",
       "    CLASS_NAME,\n",
       "    EXEC_MIME_TYPE\n",
       "    );\n",
       "    this.keyboard_manager.register_events(toinsert);\n",
       "    // Render to node\n",
       "    var props = {data: data, metadata: metadata[EXEC_MIME_TYPE]};\n",
       "    render(props, toinsert[0]);\n",
       "    element.append(toinsert);\n",
       "    return toinsert\n",
       "  }\n",
       "\n",
       "  events.on('output_added.OutputArea', handle_add_output);\n",
       "  events.on('output_updated.OutputArea', handle_update_output);\n",
       "  events.on('clear_output.CodeCell', handle_clear_output);\n",
       "  events.on('delete.Cell', handle_clear_output);\n",
       "  events.on('kernel_ready.Kernel', handle_kernel_cleanup);\n",
       "\n",
       "  OutputArea.prototype.register_mime_type(EXEC_MIME_TYPE, append_mime, {\n",
       "    safe: true,\n",
       "    index: 0\n",
       "  });\n",
       "}\n",
       "\n",
       "if (window.Jupyter !== undefined) {\n",
       "  try {\n",
       "    var events = require('base/js/events');\n",
       "    var OutputArea = require('notebook/js/outputarea').OutputArea;\n",
       "    if (OutputArea.prototype.mime_types().indexOf(EXEC_MIME_TYPE) == -1) {\n",
       "      register_renderer(events, OutputArea);\n",
       "    }\n",
       "  } catch(err) {\n",
       "  }\n",
       "}\n"
      ],
      "application/vnd.holoviews_load.v0+json": "\nif ((window.PyViz === undefined) || (window.PyViz instanceof HTMLElement)) {\n  window.PyViz = {comms: {}, comm_status:{}, kernels:{}, receivers: {}, plot_index: []}\n}\n\n\n    function JupyterCommManager() {\n    }\n\n    JupyterCommManager.prototype.register_target = function(plot_id, comm_id, msg_handler) {\n      if (window.comm_manager || ((window.Jupyter !== undefined) && (Jupyter.notebook.kernel != null))) {\n        var comm_manager = window.comm_manager || Jupyter.notebook.kernel.comm_manager;\n        comm_manager.register_target(comm_id, function(comm) {\n          comm.on_msg(msg_handler);\n        });\n      } else if ((plot_id in window.PyViz.kernels) && (window.PyViz.kernels[plot_id])) {\n        window.PyViz.kernels[plot_id].registerCommTarget(comm_id, function(comm) {\n          comm.onMsg = msg_handler;\n        });\n      } else if (typeof google != 'undefined' && google.colab.kernel != null) {\n        google.colab.kernel.comms.registerTarget(comm_id, (comm) => {\n          var messages = comm.messages[Symbol.asyncIterator]();\n          function processIteratorResult(result) {\n            var message = result.value;\n            console.log(message)\n            var content = {data: message.data, comm_id};\n            var buffers = []\n            for (var buffer of message.buffers || []) {\n              buffers.push(new DataView(buffer))\n            }\n            var metadata = message.metadata || {};\n            var msg = {content, buffers, metadata}\n            msg_handler(msg);\n            return messages.next().then(processIteratorResult);\n          }\n          return messages.next().then(processIteratorResult);\n        })\n      }\n    }\n\n    JupyterCommManager.prototype.get_client_comm = function(plot_id, comm_id, msg_handler) {\n      if (comm_id in window.PyViz.comms) {\n        return window.PyViz.comms[comm_id];\n      } else if (window.comm_manager || ((window.Jupyter !== undefined) && (Jupyter.notebook.kernel != null))) {\n        var comm_manager = window.comm_manager || Jupyter.notebook.kernel.comm_manager;\n        var comm = comm_manager.new_comm(comm_id, {}, {}, {}, comm_id);\n        if (msg_handler) {\n          comm.on_msg(msg_handler);\n        }\n      } else if ((plot_id in window.PyViz.kernels) && (window.PyViz.kernels[plot_id])) {\n        var comm = window.PyViz.kernels[plot_id].connectToComm(comm_id);\n        comm.open();\n        if (msg_handler) {\n          comm.onMsg = msg_handler;\n        }\n      } else if (typeof google != 'undefined' && google.colab.kernel != null) {\n        var comm_promise = google.colab.kernel.comms.open(comm_id)\n        comm_promise.then((comm) => {\n          window.PyViz.comms[comm_id] = comm;\n          if (msg_handler) {\n            var messages = comm.messages[Symbol.asyncIterator]();\n            function processIteratorResult(result) {\n              var message = result.value;\n              var content = {data: message.data};\n              var metadata = message.metadata || {comm_id};\n              var msg = {content, metadata}\n              msg_handler(msg);\n              return messages.next().then(processIteratorResult);\n            }\n            return messages.next().then(processIteratorResult);\n          }\n        }) \n        var sendClosure = (data, metadata, buffers, disposeOnDone) => {\n          return comm_promise.then((comm) => {\n            comm.send(data, metadata, buffers, disposeOnDone);\n          });\n        };\n        var comm = {\n          send: sendClosure\n        };\n      }\n      window.PyViz.comms[comm_id] = comm;\n      return comm;\n    }\n    window.PyViz.comm_manager = new JupyterCommManager();\n    \n\n\nvar JS_MIME_TYPE = 'application/javascript';\nvar HTML_MIME_TYPE = 'text/html';\nvar EXEC_MIME_TYPE = 'application/vnd.holoviews_exec.v0+json';\nvar CLASS_NAME = 'output';\n\n/**\n * Render data to the DOM node\n */\nfunction render(props, node) {\n  var div = document.createElement(\"div\");\n  var script = document.createElement(\"script\");\n  node.appendChild(div);\n  node.appendChild(script);\n}\n\n/**\n * Handle when a new output is added\n */\nfunction handle_add_output(event, handle) {\n  var output_area = handle.output_area;\n  var output = handle.output;\n  if ((output.data == undefined) || (!output.data.hasOwnProperty(EXEC_MIME_TYPE))) {\n    return\n  }\n  var id = output.metadata[EXEC_MIME_TYPE][\"id\"];\n  var toinsert = output_area.element.find(\".\" + CLASS_NAME.split(' ')[0]);\n  if (id !== undefined) {\n    var nchildren = toinsert.length;\n    var html_node = toinsert[nchildren-1].children[0];\n    html_node.innerHTML = output.data[HTML_MIME_TYPE];\n    var scripts = [];\n    var nodelist = html_node.querySelectorAll(\"script\");\n    for (var i in nodelist) {\n      if (nodelist.hasOwnProperty(i)) {\n        scripts.push(nodelist[i])\n      }\n    }\n\n    scripts.forEach( function (oldScript) {\n      var newScript = document.createElement(\"script\");\n      var attrs = [];\n      var nodemap = oldScript.attributes;\n      for (var j in nodemap) {\n        if (nodemap.hasOwnProperty(j)) {\n          attrs.push(nodemap[j])\n        }\n      }\n      attrs.forEach(function(attr) { newScript.setAttribute(attr.name, attr.value) });\n      newScript.appendChild(document.createTextNode(oldScript.innerHTML));\n      oldScript.parentNode.replaceChild(newScript, oldScript);\n    });\n    if (JS_MIME_TYPE in output.data) {\n      toinsert[nchildren-1].children[1].textContent = output.data[JS_MIME_TYPE];\n    }\n    output_area._hv_plot_id = id;\n    if ((window.Bokeh !== undefined) && (id in Bokeh.index)) {\n      window.PyViz.plot_index[id] = Bokeh.index[id];\n    } else {\n      window.PyViz.plot_index[id] = null;\n    }\n  } else if (output.metadata[EXEC_MIME_TYPE][\"server_id\"] !== undefined) {\n    var bk_div = document.createElement(\"div\");\n    bk_div.innerHTML = output.data[HTML_MIME_TYPE];\n    var script_attrs = bk_div.children[0].attributes;\n    for (var i = 0; i < script_attrs.length; i++) {\n      toinsert[toinsert.length - 1].childNodes[1].setAttribute(script_attrs[i].name, script_attrs[i].value);\n    }\n    // store reference to server id on output_area\n    output_area._bokeh_server_id = output.metadata[EXEC_MIME_TYPE][\"server_id\"];\n  }\n}\n\n/**\n * Handle when an output is cleared or removed\n */\nfunction handle_clear_output(event, handle) {\n  var id = handle.cell.output_area._hv_plot_id;\n  var server_id = handle.cell.output_area._bokeh_server_id;\n  if (((id === undefined) || !(id in PyViz.plot_index)) && (server_id !== undefined)) { return; }\n  var comm = window.PyViz.comm_manager.get_client_comm(\"hv-extension-comm\", \"hv-extension-comm\", function () {});\n  if (server_id !== null) {\n    comm.send({event_type: 'server_delete', 'id': server_id});\n    return;\n  } else if (comm !== null) {\n    comm.send({event_type: 'delete', 'id': id});\n  }\n  delete PyViz.plot_index[id];\n  if ((window.Bokeh !== undefined) & (id in window.Bokeh.index)) {\n    var doc = window.Bokeh.index[id].model.document\n    doc.clear();\n    const i = window.Bokeh.documents.indexOf(doc);\n    if (i > -1) {\n      window.Bokeh.documents.splice(i, 1);\n    }\n  }\n}\n\n/**\n * Handle kernel restart event\n */\nfunction handle_kernel_cleanup(event, handle) {\n  delete PyViz.comms[\"hv-extension-comm\"];\n  window.PyViz.plot_index = {}\n}\n\n/**\n * Handle update_display_data messages\n */\nfunction handle_update_output(event, handle) {\n  handle_clear_output(event, {cell: {output_area: handle.output_area}})\n  handle_add_output(event, handle)\n}\n\nfunction register_renderer(events, OutputArea) {\n  function append_mime(data, metadata, element) {\n    // create a DOM node to render to\n    var toinsert = this.create_output_subarea(\n    metadata,\n    CLASS_NAME,\n    EXEC_MIME_TYPE\n    );\n    this.keyboard_manager.register_events(toinsert);\n    // Render to node\n    var props = {data: data, metadata: metadata[EXEC_MIME_TYPE]};\n    render(props, toinsert[0]);\n    element.append(toinsert);\n    return toinsert\n  }\n\n  events.on('output_added.OutputArea', handle_add_output);\n  events.on('output_updated.OutputArea', handle_update_output);\n  events.on('clear_output.CodeCell', handle_clear_output);\n  events.on('delete.Cell', handle_clear_output);\n  events.on('kernel_ready.Kernel', handle_kernel_cleanup);\n\n  OutputArea.prototype.register_mime_type(EXEC_MIME_TYPE, append_mime, {\n    safe: true,\n    index: 0\n  });\n}\n\nif (window.Jupyter !== undefined) {\n  try {\n    var events = require('base/js/events');\n    var OutputArea = require('notebook/js/outputarea').OutputArea;\n    if (OutputArea.prototype.mime_types().indexOf(EXEC_MIME_TYPE) == -1) {\n      register_renderer(events, OutputArea);\n    }\n  } catch(err) {\n  }\n}\n"
     },
     "metadata": {},
     "output_type": "display_data"
    },
    {
     "data": {
      "text/html": [
       "<style>.bk-root, .bk-root .bk:before, .bk-root .bk:after {\n",
       "  font-family: var(--jp-ui-font-size1);\n",
       "  font-size: var(--jp-ui-font-size1);\n",
       "  color: var(--jp-ui-font-color1);\n",
       "}\n",
       "</style>"
      ]
     },
     "metadata": {},
     "output_type": "display_data"
    }
   ],
   "source": [
    "import pandas as pd\n",
    "import numpy as np\n",
    "import panel as pn\n",
    "pn.extension('tabulator')\n",
    "#import hvplot as hv\n",
    "import hvplot.pandas # For create interactive data frames\n",
    "from IPython.display import Image # For Dashboard preview"
   ]
  },
  {
   "cell_type": "code",
   "execution_count": 438,
   "metadata": {},
   "outputs": [],
   "source": [
    "# cache data to improve dashboard performance\n",
    "if 'data' not in pn.state.cache.keys():\n",
    "    helados_2020 = pd.read_csv(\"C:/Users/alexc/Desktop/Helados/2020modificadoV2.csv\", delimiter=';')\n",
    "    pn.state.cache['data'] = helados_2020.copy()\n",
    "else: \n",
    "    helados_2020 = pn.state.cache['data']"
   ]
  },
  {
   "cell_type": "markdown",
   "metadata": {
    "id": "lUKWCfQeRn_5"
   },
   "source": [
    "### 0b. Load files"
   ]
  },
  {
   "cell_type": "markdown",
   "metadata": {},
   "source": [
    "#### *- If you want to load from google drive:*"
   ]
  },
  {
   "cell_type": "code",
   "execution_count": 439,
   "metadata": {
    "colab": {
     "base_uri": "https://localhost:8080/"
    },
    "executionInfo": {
     "elapsed": 19657,
     "status": "ok",
     "timestamp": 1653144701610,
     "user": {
      "displayName": "Alexander Chavez",
      "userId": "10987698664425569638"
     },
     "user_tz": 180
    },
    "id": "66O4qjjhk3BR",
    "outputId": "140ddf58-6a4e-43ad-c655-12c5e2f9e8e6"
   },
   "outputs": [],
   "source": [
    "#from google.colab import drive \n",
    "#drive.mount('/content/drive') "
   ]
  },
  {
   "cell_type": "code",
   "execution_count": 440,
   "metadata": {
    "executionInfo": {
     "elapsed": 566,
     "status": "ok",
     "timestamp": 1653144706786,
     "user": {
      "displayName": "Alexander Chavez",
      "userId": "10987698664425569638"
     },
     "user_tz": 180
    },
    "id": "f5yUCKNdmjgq",
    "tags": []
   },
   "outputs": [],
   "source": [
    "#path = \"/content/drive/MyDrive/csv/2020modificado.csv\"\n",
    "#helados_2020 = pd.read_csv(path, delimiter=';')\n",
    "#helados_2020.describe"
   ]
  },
  {
   "cell_type": "markdown",
   "metadata": {
    "tags": []
   },
   "source": [
    "#### *- If you want to load from GitHub:*"
   ]
  },
  {
   "cell_type": "code",
   "execution_count": 441,
   "metadata": {},
   "outputs": [],
   "source": [
    "#helados_2020 = pd.read_csv(\"https://github.com/alexchavez1980/infovis/blob/main/2020modificadoV3.csv\", delimiter=';')\n",
    "#helados_2020.head(3)"
   ]
  },
  {
   "cell_type": "markdown",
   "metadata": {},
   "source": [
    "#### *-I load it from local drive:*"
   ]
  },
  {
   "cell_type": "code",
   "execution_count": 442,
   "metadata": {},
   "outputs": [
    {
     "data": {
      "text/html": [
       "<div>\n",
       "<style scoped>\n",
       "    .dataframe tbody tr th:only-of-type {\n",
       "        vertical-align: middle;\n",
       "    }\n",
       "\n",
       "    .dataframe tbody tr th {\n",
       "        vertical-align: top;\n",
       "    }\n",
       "\n",
       "    .dataframe thead th {\n",
       "        text-align: right;\n",
       "    }\n",
       "</style>\n",
       "<table border=\"1\" class=\"dataframe\">\n",
       "  <thead>\n",
       "    <tr style=\"text-align: right;\">\n",
       "      <th></th>\n",
       "      <th>succodigo</th>\n",
       "      <th>turno</th>\n",
       "      <th>caja</th>\n",
       "      <th>venta</th>\n",
       "      <th>comprobante</th>\n",
       "      <th>vtaoperacion</th>\n",
       "      <th>clinombre</th>\n",
       "      <th>vtaestado</th>\n",
       "      <th>vtafecha</th>\n",
       "      <th>franja_turno</th>\n",
       "      <th>...</th>\n",
       "      <th>sucursal</th>\n",
       "      <th>desde</th>\n",
       "      <th>hasta</th>\n",
       "      <th>sucdescrip</th>\n",
       "      <th>desdeturno</th>\n",
       "      <th>hastaturno</th>\n",
       "      <th>desdecomanda</th>\n",
       "      <th>hastacomanda</th>\n",
       "      <th>filtrosobreventa</th>\n",
       "      <th>cliente</th>\n",
       "    </tr>\n",
       "  </thead>\n",
       "  <tbody>\n",
       "    <tr>\n",
       "      <th>0</th>\n",
       "      <td>Pilar III</td>\n",
       "      <td>1</td>\n",
       "      <td>1</td>\n",
       "      <td>0</td>\n",
       "      <td>NaN</td>\n",
       "      <td>VF</td>\n",
       "      <td>Consumidor Final</td>\n",
       "      <td>Anulado</td>\n",
       "      <td>3/12/2020 19:34</td>\n",
       "      <td>3</td>\n",
       "      <td>...</td>\n",
       "      <td>1</td>\n",
       "      <td>3/12/2020 00:00</td>\n",
       "      <td>31/12/2020 23:55</td>\n",
       "      <td>TODAS</td>\n",
       "      <td>NaN</td>\n",
       "      <td>NaN</td>\n",
       "      <td>NaN</td>\n",
       "      <td>NaN</td>\n",
       "      <td>NaN</td>\n",
       "      <td>1</td>\n",
       "    </tr>\n",
       "    <tr>\n",
       "      <th>1</th>\n",
       "      <td>Pilar III</td>\n",
       "      <td>1</td>\n",
       "      <td>1</td>\n",
       "      <td>1</td>\n",
       "      <td>NaN</td>\n",
       "      <td>VF</td>\n",
       "      <td>Consumidor Final</td>\n",
       "      <td>Normal</td>\n",
       "      <td>3/12/2020 22:20</td>\n",
       "      <td>3</td>\n",
       "      <td>...</td>\n",
       "      <td>1</td>\n",
       "      <td>3/12/2020 00:00</td>\n",
       "      <td>31/12/2020 23:55</td>\n",
       "      <td>TODAS</td>\n",
       "      <td>NaN</td>\n",
       "      <td>NaN</td>\n",
       "      <td>NaN</td>\n",
       "      <td>NaN</td>\n",
       "      <td>NaN</td>\n",
       "      <td>1</td>\n",
       "    </tr>\n",
       "    <tr>\n",
       "      <th>2</th>\n",
       "      <td>Pilar III</td>\n",
       "      <td>1</td>\n",
       "      <td>1</td>\n",
       "      <td>2</td>\n",
       "      <td>NaN</td>\n",
       "      <td>VF</td>\n",
       "      <td>Consumidor Final</td>\n",
       "      <td>Normal</td>\n",
       "      <td>3/12/2020 22:21</td>\n",
       "      <td>3</td>\n",
       "      <td>...</td>\n",
       "      <td>1</td>\n",
       "      <td>3/12/2020 00:00</td>\n",
       "      <td>31/12/2020 23:55</td>\n",
       "      <td>TODAS</td>\n",
       "      <td>NaN</td>\n",
       "      <td>NaN</td>\n",
       "      <td>NaN</td>\n",
       "      <td>NaN</td>\n",
       "      <td>NaN</td>\n",
       "      <td>1</td>\n",
       "    </tr>\n",
       "  </tbody>\n",
       "</table>\n",
       "<p>3 rows × 31 columns</p>\n",
       "</div>"
      ],
      "text/plain": [
       "   succodigo  turno  caja  venta comprobante vtaoperacion         clinombre  \\\n",
       "0  Pilar III      1     1      0         NaN           VF  Consumidor Final   \n",
       "1  Pilar III      1     1      1         NaN           VF  Consumidor Final   \n",
       "2  Pilar III      1     1      2         NaN           VF  Consumidor Final   \n",
       "\n",
       "  vtaestado         vtafecha  franja_turno  ...  sucursal            desde  \\\n",
       "0   Anulado  3/12/2020 19:34             3  ...         1  3/12/2020 00:00   \n",
       "1    Normal  3/12/2020 22:20             3  ...         1  3/12/2020 00:00   \n",
       "2    Normal  3/12/2020 22:21             3  ...         1  3/12/2020 00:00   \n",
       "\n",
       "              hasta sucdescrip  desdeturno hastaturno desdecomanda  \\\n",
       "0  31/12/2020 23:55      TODAS         NaN        NaN          NaN   \n",
       "1  31/12/2020 23:55      TODAS         NaN        NaN          NaN   \n",
       "2  31/12/2020 23:55      TODAS         NaN        NaN          NaN   \n",
       "\n",
       "   hastacomanda  filtrosobreventa  cliente  \n",
       "0           NaN               NaN        1  \n",
       "1           NaN               NaN        1  \n",
       "2           NaN               NaN        1  \n",
       "\n",
       "[3 rows x 31 columns]"
      ]
     },
     "execution_count": 442,
     "metadata": {},
     "output_type": "execute_result"
    }
   ],
   "source": [
    "helados_2020 = pd.read_csv(\"C:/Users/alexc/Desktop/Helados/2020modificadoV3.csv\", delimiter=';')\n",
    "helados_2020.head(3)"
   ]
  },
  {
   "cell_type": "markdown",
   "metadata": {},
   "source": [
    "### 0.c ...a bit of data preprocessing"
   ]
  },
  {
   "cell_type": "code",
   "execution_count": 443,
   "metadata": {
    "colab": {
     "base_uri": "https://localhost:8080/",
     "height": 206
    },
    "executionInfo": {
     "elapsed": 281,
     "status": "ok",
     "timestamp": 1653144732318,
     "user": {
      "displayName": "Alexander Chavez",
      "userId": "10987698664425569638"
     },
     "user_tz": 180
    },
    "id": "CIiukisp2GmX",
    "outputId": "85e28473-e99a-42be-90ae-4d985691e798"
   },
   "outputs": [
    {
     "data": {
      "text/html": [
       "<div>\n",
       "<style scoped>\n",
       "    .dataframe tbody tr th:only-of-type {\n",
       "        vertical-align: middle;\n",
       "    }\n",
       "\n",
       "    .dataframe tbody tr th {\n",
       "        vertical-align: top;\n",
       "    }\n",
       "\n",
       "    .dataframe thead th {\n",
       "        text-align: right;\n",
       "    }\n",
       "</style>\n",
       "<table border=\"1\" class=\"dataframe\">\n",
       "  <thead>\n",
       "    <tr style=\"text-align: right;\">\n",
       "      <th></th>\n",
       "      <th>turno</th>\n",
       "      <th>caja</th>\n",
       "      <th>vtaoperacion</th>\n",
       "      <th>vtafecha</th>\n",
       "      <th>franja_turno</th>\n",
       "      <th>dia_venta</th>\n",
       "      <th>delivery</th>\n",
       "      <th>articulo</th>\n",
       "      <th>descrip</th>\n",
       "      <th>descrip_alex</th>\n",
       "      <th>precio</th>\n",
       "      <th>cant</th>\n",
       "      <th>total</th>\n",
       "      <th>desde</th>\n",
       "      <th>hasta</th>\n",
       "    </tr>\n",
       "  </thead>\n",
       "  <tbody>\n",
       "    <tr>\n",
       "      <th>0</th>\n",
       "      <td>1</td>\n",
       "      <td>1</td>\n",
       "      <td>VF</td>\n",
       "      <td>3/12/2020 19:34</td>\n",
       "      <td>3</td>\n",
       "      <td>3</td>\n",
       "      <td>No</td>\n",
       "      <td>186</td>\n",
       "      <td>Baño de Chocolate</td>\n",
       "      <td>Mini postres</td>\n",
       "      <td>10</td>\n",
       "      <td>1</td>\n",
       "      <td>10</td>\n",
       "      <td>3/12/2020 00:00</td>\n",
       "      <td>31/12/2020 23:55</td>\n",
       "    </tr>\n",
       "    <tr>\n",
       "      <th>1</th>\n",
       "      <td>1</td>\n",
       "      <td>1</td>\n",
       "      <td>VF</td>\n",
       "      <td>3/12/2020 22:20</td>\n",
       "      <td>3</td>\n",
       "      <td>3</td>\n",
       "      <td>No</td>\n",
       "      <td>31</td>\n",
       "      <td>Pal.Limon x 1</td>\n",
       "      <td>Palitos</td>\n",
       "      <td>30</td>\n",
       "      <td>1</td>\n",
       "      <td>30</td>\n",
       "      <td>3/12/2020 00:00</td>\n",
       "      <td>31/12/2020 23:55</td>\n",
       "    </tr>\n",
       "    <tr>\n",
       "      <th>2</th>\n",
       "      <td>1</td>\n",
       "      <td>1</td>\n",
       "      <td>VF</td>\n",
       "      <td>3/12/2020 22:21</td>\n",
       "      <td>3</td>\n",
       "      <td>3</td>\n",
       "      <td>No</td>\n",
       "      <td>31</td>\n",
       "      <td>Pal.Limon x 1</td>\n",
       "      <td>Palitos</td>\n",
       "      <td>30</td>\n",
       "      <td>1</td>\n",
       "      <td>30</td>\n",
       "      <td>3/12/2020 00:00</td>\n",
       "      <td>31/12/2020 23:55</td>\n",
       "    </tr>\n",
       "  </tbody>\n",
       "</table>\n",
       "</div>"
      ],
      "text/plain": [
       "   turno  caja vtaoperacion         vtafecha  franja_turno  dia_venta  \\\n",
       "0      1     1           VF  3/12/2020 19:34             3          3   \n",
       "1      1     1           VF  3/12/2020 22:20             3          3   \n",
       "2      1     1           VF  3/12/2020 22:21             3          3   \n",
       "\n",
       "  delivery  articulo            descrip  descrip_alex  precio  cant  total  \\\n",
       "0       No       186  Baño de Chocolate  Mini postres      10     1     10   \n",
       "1       No        31      Pal.Limon x 1       Palitos      30     1     30   \n",
       "2       No        31      Pal.Limon x 1       Palitos      30     1     30   \n",
       "\n",
       "             desde             hasta  \n",
       "0  3/12/2020 00:00  31/12/2020 23:55  \n",
       "1  3/12/2020 00:00  31/12/2020 23:55  \n",
       "2  3/12/2020 00:00  31/12/2020 23:55  "
      ]
     },
     "execution_count": 443,
     "metadata": {},
     "output_type": "execute_result"
    }
   ],
   "source": [
    "# \"Drop/Delete indicated columns\"\n",
    "helados_2020 = helados_2020.drop(columns=\n",
    "                                 [\n",
    "                                  'succodigo',\n",
    "                                  #'turno',\n",
    "                                  #'caja',\n",
    "                                  'venta',\n",
    "                                  'comprobante',\n",
    "                                  #'vtaoperacion',\n",
    "                                  'clinombre',\n",
    "                                  'vtaestado',\n",
    "                                  #'vtafecha',\n",
    "                                  #'franja_turno',\n",
    "                                  #'dia_venta',\n",
    "                                  'usulogin',\n",
    "                                  'condvtapos',\n",
    "                                  #'delivery',\n",
    "                                  #'articulo',\n",
    "                                  #'descrip',\n",
    "                                  #'precio',\n",
    "                                  #'cant',\n",
    "                                  #'total',\n",
    "                                  'venta1',\n",
    "                                  'sucursal',\n",
    "                                  #'desde',\n",
    "                                  #'hasta',\n",
    "                                  'sucdescrip',\n",
    "                                  'desdeturno',\n",
    "                                  'hastaturno',\n",
    "                                  'desdecomanda',\n",
    "                                  'hastacomanda',\n",
    "                                  'filtrosobreventa',\n",
    "                                  'cliente'\n",
    "                                  ]) \n",
    "#helados_2020 = helados_2020.fillna(0) # Replace Na with 0\n",
    "#helados_2020 = data[data['subtitles'] != 0] # Delete all zero-rows.\n",
    "#data = data.assign(column_number=data.subtitles.index) # Extract index and Create new column_number\n",
    "helados_2020.head(3)"
   ]
  },
  {
   "cell_type": "code",
   "execution_count": 444,
   "metadata": {
    "executionInfo": {
     "elapsed": 291,
     "status": "ok",
     "timestamp": 1653145168629,
     "user": {
      "displayName": "Alexander Chavez",
      "userId": "10987698664425569638"
     },
     "user_tz": 180
    },
    "id": "4wIumMIPfCEN"
   },
   "outputs": [],
   "source": [
    "# Make df Pipeline Interactive\n",
    "i_helados_2020 = helados_2020.interactive()"
   ]
  },
  {
   "cell_type": "markdown",
   "metadata": {},
   "source": [
    "### 1. Total sales over time by description (Product list)"
   ]
  },
  {
   "cell_type": "code",
   "execution_count": 445,
   "metadata": {
    "colab": {
     "base_uri": "https://localhost:8080/",
     "height": 17
    },
    "executionInfo": {
     "elapsed": 265,
     "status": "ok",
     "timestamp": 1653145607018,
     "user": {
      "displayName": "Alexander Chavez",
      "userId": "10987698664425569638"
     },
     "user_tz": 180
    },
    "id": "q5We6Ml2Hv_Y",
    "outputId": "e9cc5c97-afc4-4710-b25d-f93251ed15ac"
   },
   "outputs": [
    {
     "data": {},
     "metadata": {},
     "output_type": "display_data"
    },
    {
     "data": {
      "application/vnd.holoviews_exec.v0+json": "",
      "text/html": [
       "<div id='76025'>\n",
       "\n",
       "\n",
       "\n",
       "\n",
       "\n",
       "  <div class=\"bk-root\" id=\"a0885834-4902-4bff-9a91-16a2919667b0\" data-root-id=\"76025\"></div>\n",
       "</div>\n",
       "<script type=\"application/javascript\">(function(root) {\n",
       "  function embed_document(root) {\n",
       "    var docs_json = {\"a03349c4-cbbe-4650-8b28-573b05a65058\":{\"defs\":[{\"extends\":null,\"module\":null,\"name\":\"ReactiveHTML1\",\"overrides\":[],\"properties\":[]},{\"extends\":null,\"module\":null,\"name\":\"FlexBox1\",\"overrides\":[],\"properties\":[{\"default\":\"flex-start\",\"kind\":null,\"name\":\"align_content\"},{\"default\":\"flex-start\",\"kind\":null,\"name\":\"align_items\"},{\"default\":\"row\",\"kind\":null,\"name\":\"flex_direction\"},{\"default\":\"wrap\",\"kind\":null,\"name\":\"flex_wrap\"},{\"default\":\"flex-start\",\"kind\":null,\"name\":\"justify_content\"}]},{\"extends\":null,\"module\":null,\"name\":\"GridStack1\",\"overrides\":[],\"properties\":[{\"default\":\"warn\",\"kind\":null,\"name\":\"mode\"},{\"default\":null,\"kind\":null,\"name\":\"ncols\"},{\"default\":null,\"kind\":null,\"name\":\"nrows\"},{\"default\":true,\"kind\":null,\"name\":\"allow_resize\"},{\"default\":true,\"kind\":null,\"name\":\"allow_drag\"},{\"default\":[],\"kind\":null,\"name\":\"state\"}]},{\"extends\":null,\"module\":null,\"name\":\"click1\",\"overrides\":[],\"properties\":[{\"default\":\"\",\"kind\":null,\"name\":\"terminal_output\"},{\"default\":\"\",\"kind\":null,\"name\":\"debug_name\"},{\"default\":0,\"kind\":null,\"name\":\"clears\"}]},{\"extends\":null,\"module\":null,\"name\":\"TemplateActions1\",\"overrides\":[],\"properties\":[{\"default\":0,\"kind\":null,\"name\":\"open_modal\"},{\"default\":0,\"kind\":null,\"name\":\"close_modal\"}]},{\"extends\":null,\"module\":null,\"name\":\"MaterialTemplateActions1\",\"overrides\":[],\"properties\":[{\"default\":0,\"kind\":null,\"name\":\"open_modal\"},{\"default\":0,\"kind\":null,\"name\":\"close_modal\"}]}],\"roots\":{\"references\":[{\"attributes\":{\"client_comm_id\":\"a44c2d58e2304b099da732f34e4ce07b\",\"comm_id\":\"0b944dfc139a4b5da6072910ecac567d\",\"plot_id\":\"76025\"},\"id\":\"76026\",\"type\":\"panel.models.comm_manager.CommManager\"},{\"attributes\":{\"end\":30,\"margin\":[5,10,5,10],\"start\":1,\"title\":\"Diciembre 2020. D\\u00eda: \",\"value\":3},\"id\":\"76025\",\"type\":\"Slider\"}],\"root_ids\":[\"76025\",\"76026\"]},\"title\":\"Bokeh Application\",\"version\":\"2.4.1\"}};\n",
       "    var render_items = [{\"docid\":\"a03349c4-cbbe-4650-8b28-573b05a65058\",\"root_ids\":[\"76025\"],\"roots\":{\"76025\":\"a0885834-4902-4bff-9a91-16a2919667b0\"}}];\n",
       "    root.Bokeh.embed.embed_items_notebook(docs_json, render_items);\n",
       "  }\n",
       "  if (root.Bokeh !== undefined && root.Bokeh.Panel !== undefined && ( root['Tabulator'] !== undefined)) {\n",
       "    embed_document(root);\n",
       "  } else {\n",
       "    var attempts = 0;\n",
       "    var timer = setInterval(function(root) {\n",
       "      if (root.Bokeh !== undefined && root.Bokeh.Panel !== undefined && (root['Tabulator'] !== undefined)) {\n",
       "        clearInterval(timer);\n",
       "        embed_document(root);\n",
       "      } else if (document.readyState == \"complete\") {\n",
       "        attempts++;\n",
       "        if (attempts > 200) {\n",
       "          clearInterval(timer);\n",
       "          console.log(\"Bokeh: ERROR: Unable to run BokehJS code because BokehJS library is missing\");\n",
       "        }\n",
       "      }\n",
       "    }, 25, root)\n",
       "  }\n",
       "})(window);</script>"
      ],
      "text/plain": [
       "IntSlider(end=30, name='Diciembre 2020. Día: ', start=1, value=3)"
      ]
     },
     "execution_count": 445,
     "metadata": {
      "application/vnd.holoviews_exec.v0+json": {
       "id": "76025"
      }
     },
     "output_type": "execute_result"
    }
   ],
   "source": [
    "# Define Panel widgets\n",
    "Diciembre_slider = pn.widgets.IntSlider(name='Diciembre 2020. Día: ', start=1, end=30, step=1, value=3)\n",
    "Diciembre_slider"
   ]
  },
  {
   "cell_type": "code",
   "execution_count": 446,
   "metadata": {
    "id": "eCJbv4EPHwEs"
   },
   "outputs": [],
   "source": [
    "# Radio buttons for \"total\" measures\n",
    "yaxis_total = pn.widgets.RadioButtonGroup(\n",
    "    name='Eje Y', \n",
    "    options=['total', \n",
    "             'cant',\n",
    "            ],\n",
    "    button_type='success'\n",
    ")"
   ]
  },
  {
   "cell_type": "code",
   "execution_count": 447,
   "metadata": {
    "id": "8MnA30kzHwHF"
   },
   "outputs": [],
   "source": [
    "descripcion = ['Mini postres',\n",
    "                'Palitos',\n",
    "                'Bon Bon',\n",
    "                'Tentación',\n",
    "                'Top Cookie',\n",
    "                'Helado por kilo',\n",
    "                'Postres',\n",
    "                'Cremoso',\n",
    "                'Familiar',\n",
    "                'Almendrado',\n",
    "                'Comidas rápidas',\n",
    "                'Cafetería',\n",
    "                'Cups',\n",
    "                'Smoothie',\n",
    "                ]\n",
    "total_pipeline = (\n",
    "    i_helados_2020[\n",
    "        (i_helados_2020.dia_venta <= Diciembre_slider) &\n",
    "        (i_helados_2020.descrip_alex.isin(descripcion))\n",
    "    ]\n",
    "    .groupby(['descrip_alex', 'dia_venta'])[yaxis_total].sum()\n",
    "    .round(2) # Two decimals\n",
    "    .to_frame()\n",
    "    .reset_index()\n",
    "    .sort_values(by='dia_venta')  \n",
    "    .reset_index(drop=True)\n",
    ")"
   ]
  },
  {
   "cell_type": "code",
   "execution_count": 448,
   "metadata": {
    "id": "P-nSy11YHwJh",
    "tags": []
   },
   "outputs": [
    {
     "data": {},
     "metadata": {},
     "output_type": "display_data"
    },
    {
     "data": {
      "application/vnd.holoviews_exec.v0+json": "",
      "text/html": [
       "<div id='76027'>\n",
       "\n",
       "\n",
       "\n",
       "\n",
       "\n",
       "  <div class=\"bk-root\" id=\"d0ac0f4f-51e9-406c-b507-8cee083cf116\" data-root-id=\"76027\"></div>\n",
       "</div>\n",
       "<script type=\"application/javascript\">(function(root) {\n",
       "  function embed_document(root) {\n",
       "    var docs_json = {\"7e29126a-db27-4dc4-9925-573fe0620fed\":{\"defs\":[{\"extends\":null,\"module\":null,\"name\":\"ReactiveHTML1\",\"overrides\":[],\"properties\":[]},{\"extends\":null,\"module\":null,\"name\":\"FlexBox1\",\"overrides\":[],\"properties\":[{\"default\":\"flex-start\",\"kind\":null,\"name\":\"align_content\"},{\"default\":\"flex-start\",\"kind\":null,\"name\":\"align_items\"},{\"default\":\"row\",\"kind\":null,\"name\":\"flex_direction\"},{\"default\":\"wrap\",\"kind\":null,\"name\":\"flex_wrap\"},{\"default\":\"flex-start\",\"kind\":null,\"name\":\"justify_content\"}]},{\"extends\":null,\"module\":null,\"name\":\"GridStack1\",\"overrides\":[],\"properties\":[{\"default\":\"warn\",\"kind\":null,\"name\":\"mode\"},{\"default\":null,\"kind\":null,\"name\":\"ncols\"},{\"default\":null,\"kind\":null,\"name\":\"nrows\"},{\"default\":true,\"kind\":null,\"name\":\"allow_resize\"},{\"default\":true,\"kind\":null,\"name\":\"allow_drag\"},{\"default\":[],\"kind\":null,\"name\":\"state\"}]},{\"extends\":null,\"module\":null,\"name\":\"click1\",\"overrides\":[],\"properties\":[{\"default\":\"\",\"kind\":null,\"name\":\"terminal_output\"},{\"default\":\"\",\"kind\":null,\"name\":\"debug_name\"},{\"default\":0,\"kind\":null,\"name\":\"clears\"}]},{\"extends\":null,\"module\":null,\"name\":\"TemplateActions1\",\"overrides\":[],\"properties\":[{\"default\":0,\"kind\":null,\"name\":\"open_modal\"},{\"default\":0,\"kind\":null,\"name\":\"close_modal\"}]},{\"extends\":null,\"module\":null,\"name\":\"MaterialTemplateActions1\",\"overrides\":[],\"properties\":[{\"default\":0,\"kind\":null,\"name\":\"open_modal\"},{\"default\":0,\"kind\":null,\"name\":\"close_modal\"}]}],\"roots\":{\"references\":[{\"attributes\":{\"children\":[{\"id\":\"76029\"},{\"id\":\"76034\"}],\"margin\":[0,0,0,0],\"name\":\"Column235980\"},\"id\":\"76028\",\"type\":\"Column\"},{\"attributes\":{\"active\":0,\"button_type\":\"success\",\"labels\":[\"total\",\"cant\"],\"margin\":[5,10,5,10]},\"id\":\"76032\",\"type\":\"RadioButtonGroup\"},{\"attributes\":{\"children\":[{\"id\":\"76031\"},{\"id\":\"76032\"}],\"margin\":[0,0,0,0],\"name\":\"Column235942\"},\"id\":\"76030\",\"type\":\"Column\"},{\"attributes\":{\"margin\":[5,5,5,5],\"name\":\"HSpacer235978\",\"sizing_mode\":\"stretch_width\"},\"id\":\"76033\",\"type\":\"Spacer\"},{\"attributes\":{\"client_comm_id\":\"a33831121f5d491998f50d7ea1da71b4\",\"comm_id\":\"f7e80cebe71b48fa9f79b02989b19b10\",\"plot_id\":\"76027\"},\"id\":\"76036\",\"type\":\"panel.models.comm_manager.CommManager\"},{\"attributes\":{\"margin\":[5,5,5,5],\"name\":\"DataFrame235976\",\"text\":\"&lt;table border=&quot;0&quot; class=&quot;dataframe panel-df&quot;&gt;\\n  &lt;thead&gt;\\n    &lt;tr style=&quot;text-align: right;&quot;&gt;\\n      &lt;th&gt;&lt;/th&gt;\\n      &lt;th&gt;descrip_alex&lt;/th&gt;\\n      &lt;th&gt;dia_venta&lt;/th&gt;\\n      &lt;th&gt;total&lt;/th&gt;\\n    &lt;/tr&gt;\\n  &lt;/thead&gt;\\n  &lt;tbody&gt;\\n    &lt;tr&gt;\\n      &lt;th&gt;0&lt;/th&gt;\\n      &lt;td&gt;Mini postres&lt;/td&gt;\\n      &lt;td&gt;3&lt;/td&gt;\\n      &lt;td&gt;130&lt;/td&gt;\\n    &lt;/tr&gt;\\n    &lt;tr&gt;\\n      &lt;th&gt;1&lt;/th&gt;\\n      &lt;td&gt;Palitos&lt;/td&gt;\\n      &lt;td&gt;3&lt;/td&gt;\\n      &lt;td&gt;90&lt;/td&gt;\\n    &lt;/tr&gt;\\n  &lt;/tbody&gt;\\n&lt;/table&gt;\"},\"id\":\"76035\",\"type\":\"panel.models.markup.HTML\"},{\"attributes\":{\"children\":[{\"id\":\"76028\"}],\"margin\":[0,0,0,0],\"name\":\"Row235981\"},\"id\":\"76027\",\"type\":\"Row\"},{\"attributes\":{\"children\":[{\"id\":\"76030\"},{\"id\":\"76033\"}],\"margin\":[0,0,0,0],\"name\":\"Row235979\"},\"id\":\"76029\",\"type\":\"Row\"},{\"attributes\":{\"end\":30,\"margin\":[5,10,5,10],\"start\":1,\"title\":\"Diciembre 2020. D\\u00eda: \",\"value\":3},\"id\":\"76031\",\"type\":\"Slider\"},{\"attributes\":{\"children\":[{\"id\":\"76035\"}],\"margin\":[0,0,0,0],\"name\":\"Row235947\"},\"id\":\"76034\",\"type\":\"Row\"}],\"root_ids\":[\"76027\",\"76036\"]},\"title\":\"Bokeh Application\",\"version\":\"2.4.1\"}};\n",
       "    var render_items = [{\"docid\":\"7e29126a-db27-4dc4-9925-573fe0620fed\",\"root_ids\":[\"76027\"],\"roots\":{\"76027\":\"d0ac0f4f-51e9-406c-b507-8cee083cf116\"}}];\n",
       "    root.Bokeh.embed.embed_items_notebook(docs_json, render_items);\n",
       "  }\n",
       "  if (root.Bokeh !== undefined && root.Bokeh.Panel !== undefined && ( root['Tabulator'] !== undefined)) {\n",
       "    embed_document(root);\n",
       "  } else {\n",
       "    var attempts = 0;\n",
       "    var timer = setInterval(function(root) {\n",
       "      if (root.Bokeh !== undefined && root.Bokeh.Panel !== undefined && (root['Tabulator'] !== undefined)) {\n",
       "        clearInterval(timer);\n",
       "        embed_document(root);\n",
       "      } else if (document.readyState == \"complete\") {\n",
       "        attempts++;\n",
       "        if (attempts > 200) {\n",
       "          clearInterval(timer);\n",
       "          console.log(\"Bokeh: ERROR: Unable to run BokehJS code because BokehJS library is missing\");\n",
       "        }\n",
       "      }\n",
       "    }, 25, root)\n",
       "  }\n",
       "})(window);</script>"
      ],
      "text/plain": [
       "<hvplot.interactive.Interactive at 0x1a6d123de50>"
      ]
     },
     "execution_count": 448,
     "metadata": {
      "application/vnd.holoviews_exec.v0+json": {
       "id": "76027"
      }
     },
     "output_type": "execute_result"
    }
   ],
   "source": [
    "total_pipeline.head()"
   ]
  },
  {
   "cell_type": "markdown",
   "metadata": {
    "tags": []
   },
   "source": [
    "### 1a. Total sales over time by description plot"
   ]
  },
  {
   "cell_type": "code",
   "execution_count": 449,
   "metadata": {
    "id": "K2YIqzozHwL2"
   },
   "outputs": [
    {
     "data": {},
     "metadata": {},
     "output_type": "display_data"
    },
    {
     "data": {},
     "metadata": {},
     "output_type": "display_data"
    },
    {
     "data": {
      "application/vnd.holoviews_exec.v0+json": "",
      "text/html": [
       "<div id='76037'>\n",
       "\n",
       "\n",
       "\n",
       "\n",
       "\n",
       "  <div class=\"bk-root\" id=\"b30910ab-8f15-4151-8c35-1572fef34e47\" data-root-id=\"76037\"></div>\n",
       "</div>\n",
       "<script type=\"application/javascript\">(function(root) {\n",
       "  function embed_document(root) {\n",
       "    var docs_json = {\"97a17b87-e6b8-4b22-b075-6701fc2062a1\":{\"defs\":[{\"extends\":null,\"module\":null,\"name\":\"ReactiveHTML1\",\"overrides\":[],\"properties\":[]},{\"extends\":null,\"module\":null,\"name\":\"FlexBox1\",\"overrides\":[],\"properties\":[{\"default\":\"flex-start\",\"kind\":null,\"name\":\"align_content\"},{\"default\":\"flex-start\",\"kind\":null,\"name\":\"align_items\"},{\"default\":\"row\",\"kind\":null,\"name\":\"flex_direction\"},{\"default\":\"wrap\",\"kind\":null,\"name\":\"flex_wrap\"},{\"default\":\"flex-start\",\"kind\":null,\"name\":\"justify_content\"}]},{\"extends\":null,\"module\":null,\"name\":\"GridStack1\",\"overrides\":[],\"properties\":[{\"default\":\"warn\",\"kind\":null,\"name\":\"mode\"},{\"default\":null,\"kind\":null,\"name\":\"ncols\"},{\"default\":null,\"kind\":null,\"name\":\"nrows\"},{\"default\":true,\"kind\":null,\"name\":\"allow_resize\"},{\"default\":true,\"kind\":null,\"name\":\"allow_drag\"},{\"default\":[],\"kind\":null,\"name\":\"state\"}]},{\"extends\":null,\"module\":null,\"name\":\"click1\",\"overrides\":[],\"properties\":[{\"default\":\"\",\"kind\":null,\"name\":\"terminal_output\"},{\"default\":\"\",\"kind\":null,\"name\":\"debug_name\"},{\"default\":0,\"kind\":null,\"name\":\"clears\"}]},{\"extends\":null,\"module\":null,\"name\":\"TemplateActions1\",\"overrides\":[],\"properties\":[{\"default\":0,\"kind\":null,\"name\":\"open_modal\"},{\"default\":0,\"kind\":null,\"name\":\"close_modal\"}]},{\"extends\":null,\"module\":null,\"name\":\"MaterialTemplateActions1\",\"overrides\":[],\"properties\":[{\"default\":0,\"kind\":null,\"name\":\"open_modal\"},{\"default\":0,\"kind\":null,\"name\":\"close_modal\"}]}],\"roots\":{\"references\":[{\"attributes\":{\"active\":0,\"button_type\":\"success\",\"labels\":[\"total\",\"cant\"],\"margin\":[5,10,5,10]},\"id\":\"76042\",\"type\":\"RadioButtonGroup\"},{\"attributes\":{\"line_alpha\":0.1,\"line_color\":\"#30a2da\",\"line_width\":2,\"x\":{\"field\":\"dia_venta\"},\"y\":{\"field\":\"total\"}},\"id\":\"76089\",\"type\":\"Line\"},{\"attributes\":{\"end\":134.0,\"reset_end\":134.0,\"reset_start\":86.0,\"start\":86.0,\"tags\":[[[\"total\",\"total\",null]]]},\"id\":\"76046\",\"type\":\"Range1d\"},{\"attributes\":{\"line_alpha\":0.2,\"line_color\":\"#30a2da\",\"line_width\":2,\"x\":{\"field\":\"dia_venta\"},\"y\":{\"field\":\"total\"}},\"id\":\"76090\",\"type\":\"Line\"},{\"attributes\":{},\"id\":\"76100\",\"type\":\"UnionRenderers\"},{\"attributes\":{\"source\":{\"id\":\"76085\"}},\"id\":\"76092\",\"type\":\"CDSView\"},{\"attributes\":{},\"id\":\"76083\",\"type\":\"BasicTickFormatter\"},{\"attributes\":{\"children\":[{\"id\":\"76041\"},{\"id\":\"76042\"}],\"margin\":[0,0,0,0],\"name\":\"Column236199\"},\"id\":\"76040\",\"type\":\"Column\"},{\"attributes\":{\"margin\":[5,5,5,5],\"name\":\"HSpacer236397\",\"sizing_mode\":\"stretch_width\"},\"id\":\"76043\",\"type\":\"Spacer\"},{\"attributes\":{},\"id\":\"76054\",\"type\":\"LinearScale\"},{\"attributes\":{\"coordinates\":null,\"data_source\":{\"id\":\"76085\"},\"glyph\":{\"id\":\"76088\"},\"group\":null,\"hover_glyph\":null,\"muted_glyph\":{\"id\":\"76090\"},\"nonselection_glyph\":{\"id\":\"76089\"},\"selection_glyph\":{\"id\":\"76105\"},\"view\":{\"id\":\"76092\"}},\"id\":\"76091\",\"type\":\"GlyphRenderer\"},{\"attributes\":{\"line_color\":\"#30a2da\",\"line_width\":2,\"x\":{\"field\":\"dia_venta\"},\"y\":{\"field\":\"total\"}},\"id\":\"76105\",\"type\":\"Line\"},{\"attributes\":{\"below\":[{\"id\":\"76058\"},{\"id\":\"76103\"}],\"center\":[{\"id\":\"76061\"},{\"id\":\"76065\"}],\"height\":300,\"left\":[{\"id\":\"76062\"}],\"margin\":[5,5,5,5],\"min_border_bottom\":10,\"min_border_left\":10,\"min_border_right\":10,\"min_border_top\":10,\"renderers\":[{\"id\":\"76091\"},{\"id\":\"76112\"}],\"sizing_mode\":\"fixed\",\"title\":{\"id\":\"76050\"},\"toolbar\":{\"id\":\"76072\"},\"width\":700,\"x_range\":{\"id\":\"76045\"},\"x_scale\":{\"id\":\"76054\"},\"y_range\":{\"id\":\"76046\"},\"y_scale\":{\"id\":\"76056\"}},\"id\":\"76049\",\"subtype\":\"Figure\",\"type\":\"Plot\"},{\"attributes\":{\"line_color\":\"#30a2da\",\"line_width\":2,\"x\":{\"field\":\"dia_venta\"},\"y\":{\"field\":\"total\"}},\"id\":\"76088\",\"type\":\"Line\"},{\"attributes\":{\"line_color\":\"#fc4f30\",\"line_width\":2,\"x\":{\"field\":\"dia_venta\"},\"y\":{\"field\":\"total\"}},\"id\":\"76109\",\"type\":\"Line\"},{\"attributes\":{\"end\":30,\"margin\":[5,10,5,10],\"start\":1,\"title\":\"Diciembre 2020. D\\u00eda: \",\"value\":3},\"id\":\"76041\",\"type\":\"Slider\"},{\"attributes\":{\"data\":{\"descrip_alex\":[\"Palitos\"],\"dia_venta\":[3],\"total\":[90]},\"selected\":{\"id\":\"76107\"},\"selection_policy\":{\"id\":\"76123\"}},\"id\":\"76106\",\"type\":\"ColumnDataSource\"},{\"attributes\":{},\"id\":\"76084\",\"type\":\"AllLabels\"},{\"attributes\":{},\"id\":\"76086\",\"type\":\"Selection\"},{\"attributes\":{\"label\":{\"value\":\"Mini postres\"},\"renderers\":[{\"id\":\"76091\"}]},\"id\":\"76104\",\"type\":\"LegendItem\"},{\"attributes\":{\"coordinates\":null,\"group\":null,\"text\":\"Ventas a lo largo del mes\",\"text_color\":\"black\",\"text_font_size\":\"12pt\"},\"id\":\"76050\",\"type\":\"Title\"},{\"attributes\":{\"click_policy\":\"mute\",\"coordinates\":null,\"group\":null,\"items\":[{\"id\":\"76104\"},{\"id\":\"76126\"}],\"location\":[0,0],\"orientation\":\"horizontal\",\"title\":\"descrip_alex\"},\"id\":\"76103\",\"type\":\"Legend\"},{\"attributes\":{},\"id\":\"76107\",\"type\":\"Selection\"},{\"attributes\":{\"end\":4.0,\"reset_end\":4.0,\"reset_start\":2.0,\"start\":2.0,\"tags\":[[[\"dia_venta\",\"dia_venta\",null]]]},\"id\":\"76045\",\"type\":\"Range1d\"},{\"attributes\":{\"line_alpha\":0.1,\"line_color\":\"#fc4f30\",\"line_width\":2,\"x\":{\"field\":\"dia_venta\"},\"y\":{\"field\":\"total\"}},\"id\":\"76110\",\"type\":\"Line\"},{\"attributes\":{\"data\":{\"descrip_alex\":[\"Mini postres\"],\"dia_venta\":[3],\"total\":[130]},\"selected\":{\"id\":\"76086\"},\"selection_policy\":{\"id\":\"76100\"}},\"id\":\"76085\",\"type\":\"ColumnDataSource\"},{\"attributes\":{\"line_color\":\"#fc4f30\",\"line_width\":2,\"x\":{\"field\":\"dia_venta\"},\"y\":{\"field\":\"total\"}},\"id\":\"76127\",\"type\":\"Line\"},{\"attributes\":{\"callback\":null,\"renderers\":[{\"id\":\"76091\"},{\"id\":\"76112\"}],\"tags\":[\"hv_created\"],\"tooltips\":[[\"descrip_alex\",\"@{descrip_alex}\"],[\"dia_venta\",\"@{dia_venta}\"],[\"total\",\"@{total}\"]]},\"id\":\"76047\",\"type\":\"HoverTool\"},{\"attributes\":{},\"id\":\"76056\",\"type\":\"LinearScale\"},{\"attributes\":{\"tools\":[{\"id\":\"76047\"},{\"id\":\"76066\"},{\"id\":\"76067\"},{\"id\":\"76068\"},{\"id\":\"76069\"},{\"id\":\"76070\"}]},\"id\":\"76072\",\"type\":\"Toolbar\"},{\"attributes\":{\"children\":[{\"id\":\"76039\"},{\"id\":\"76044\"}],\"margin\":[0,0,0,0],\"name\":\"Column236399\"},\"id\":\"76038\",\"type\":\"Column\"},{\"attributes\":{\"coordinates\":null,\"data_source\":{\"id\":\"76106\"},\"glyph\":{\"id\":\"76109\"},\"group\":null,\"hover_glyph\":null,\"muted_glyph\":{\"id\":\"76111\"},\"nonselection_glyph\":{\"id\":\"76110\"},\"selection_glyph\":{\"id\":\"76127\"},\"view\":{\"id\":\"76113\"}},\"id\":\"76112\",\"type\":\"GlyphRenderer\"},{\"attributes\":{\"children\":[{\"id\":\"76038\"}],\"margin\":[0,0,0,0],\"name\":\"Row236400\"},\"id\":\"76037\",\"type\":\"Row\"},{\"attributes\":{},\"id\":\"76059\",\"type\":\"BasicTicker\"},{\"attributes\":{\"source\":{\"id\":\"76106\"}},\"id\":\"76113\",\"type\":\"CDSView\"},{\"attributes\":{\"axis\":{\"id\":\"76058\"},\"coordinates\":null,\"grid_line_color\":null,\"group\":null,\"ticker\":null},\"id\":\"76061\",\"type\":\"Grid\"},{\"attributes\":{\"line_alpha\":0.2,\"line_color\":\"#fc4f30\",\"line_width\":2,\"x\":{\"field\":\"dia_venta\"},\"y\":{\"field\":\"total\"}},\"id\":\"76111\",\"type\":\"Line\"},{\"attributes\":{},\"id\":\"76063\",\"type\":\"BasicTicker\"},{\"attributes\":{\"axis_label\":\"dia_venta\",\"coordinates\":null,\"formatter\":{\"id\":\"76080\"},\"group\":null,\"major_label_policy\":{\"id\":\"76081\"},\"ticker\":{\"id\":\"76059\"}},\"id\":\"76058\",\"type\":\"LinearAxis\"},{\"attributes\":{\"client_comm_id\":\"5e08edc79ccf444e84382078a3dd05d7\",\"comm_id\":\"734b5d8fccf94e67b5d6e1bdc5b75e2b\",\"plot_id\":\"76037\"},\"id\":\"76272\",\"type\":\"panel.models.comm_manager.CommManager\"},{\"attributes\":{},\"id\":\"76081\",\"type\":\"AllLabels\"},{\"attributes\":{\"children\":[{\"id\":\"76049\"}],\"margin\":[0,0,0,0],\"name\":\"Row236204\"},\"id\":\"76044\",\"type\":\"Row\"},{\"attributes\":{\"label\":{\"value\":\"Palitos\"},\"renderers\":[{\"id\":\"76112\"}]},\"id\":\"76126\",\"type\":\"LegendItem\"},{\"attributes\":{},\"id\":\"76067\",\"type\":\"PanTool\"},{\"attributes\":{\"axis\":{\"id\":\"76062\"},\"coordinates\":null,\"dimension\":1,\"grid_line_color\":null,\"group\":null,\"ticker\":null},\"id\":\"76065\",\"type\":\"Grid\"},{\"attributes\":{\"axis_label\":\"total\",\"coordinates\":null,\"formatter\":{\"id\":\"76083\"},\"group\":null,\"major_label_policy\":{\"id\":\"76084\"},\"ticker\":{\"id\":\"76063\"}},\"id\":\"76062\",\"type\":\"LinearAxis\"},{\"attributes\":{},\"id\":\"76123\",\"type\":\"UnionRenderers\"},{\"attributes\":{},\"id\":\"76068\",\"type\":\"WheelZoomTool\"},{\"attributes\":{\"children\":[{\"id\":\"76040\"},{\"id\":\"76043\"}],\"margin\":[0,0,0,0],\"name\":\"Row236398\"},\"id\":\"76039\",\"type\":\"Row\"},{\"attributes\":{},\"id\":\"76066\",\"type\":\"SaveTool\"},{\"attributes\":{\"overlay\":{\"id\":\"76071\"}},\"id\":\"76069\",\"type\":\"BoxZoomTool\"},{\"attributes\":{},\"id\":\"76070\",\"type\":\"ResetTool\"},{\"attributes\":{\"bottom_units\":\"screen\",\"coordinates\":null,\"fill_alpha\":0.5,\"fill_color\":\"lightgrey\",\"group\":null,\"left_units\":\"screen\",\"level\":\"overlay\",\"line_alpha\":1.0,\"line_color\":\"black\",\"line_dash\":[4,4],\"line_width\":2,\"right_units\":\"screen\",\"syncable\":false,\"top_units\":\"screen\"},\"id\":\"76071\",\"type\":\"BoxAnnotation\"},{\"attributes\":{},\"id\":\"76080\",\"type\":\"BasicTickFormatter\"}],\"root_ids\":[\"76037\",\"76272\"]},\"title\":\"Bokeh Application\",\"version\":\"2.4.1\"}};\n",
       "    var render_items = [{\"docid\":\"97a17b87-e6b8-4b22-b075-6701fc2062a1\",\"root_ids\":[\"76037\"],\"roots\":{\"76037\":\"b30910ab-8f15-4151-8c35-1572fef34e47\"}}];\n",
       "    root.Bokeh.embed.embed_items_notebook(docs_json, render_items);\n",
       "  }\n",
       "  if (root.Bokeh !== undefined && root.Bokeh.Panel !== undefined && ( root['Tabulator'] !== undefined)) {\n",
       "    embed_document(root);\n",
       "  } else {\n",
       "    var attempts = 0;\n",
       "    var timer = setInterval(function(root) {\n",
       "      if (root.Bokeh !== undefined && root.Bokeh.Panel !== undefined && (root['Tabulator'] !== undefined)) {\n",
       "        clearInterval(timer);\n",
       "        embed_document(root);\n",
       "      } else if (document.readyState == \"complete\") {\n",
       "        attempts++;\n",
       "        if (attempts > 200) {\n",
       "          clearInterval(timer);\n",
       "          console.log(\"Bokeh: ERROR: Unable to run BokehJS code because BokehJS library is missing\");\n",
       "        }\n",
       "      }\n",
       "    }, 25, root)\n",
       "  }\n",
       "})(window);</script>"
      ],
      "text/plain": [
       "<hvplot.interactive.Interactive at 0x1a6cf0107f0>"
      ]
     },
     "execution_count": 449,
     "metadata": {
      "application/vnd.holoviews_exec.v0+json": {
       "id": "76037"
      }
     },
     "output_type": "execute_result"
    }
   ],
   "source": [
    "total_plot = total_pipeline.hvplot(x = 'dia_venta', \n",
    "                                   by='descrip_alex', \n",
    "                                   y=yaxis_total,\n",
    "                                   line_width=2, \n",
    "                                   title=\"Ventas a lo largo del mes\",\n",
    "                                   kind='line',\n",
    "                                   legend='bottom')\n",
    "total_plot"
   ]
  },
  {
   "cell_type": "markdown",
   "metadata": {
    "id": "sYcOb7umHwOU"
   },
   "source": [
    "### 1b. Total sales over time by description table"
   ]
  },
  {
   "cell_type": "code",
   "execution_count": 450,
   "metadata": {
    "id": "x2G9TQ7SHwQ8"
   },
   "outputs": [
    {
     "data": {},
     "metadata": {},
     "output_type": "display_data"
    },
    {
     "data": {
      "application/vnd.holoviews_exec.v0+json": "",
      "text/html": [
       "<div id='76333'>\n",
       "\n",
       "\n",
       "\n",
       "\n",
       "\n",
       "  <div class=\"bk-root\" id=\"09975a63-e7f3-4ef7-ac32-8097b5fad7b2\" data-root-id=\"76333\"></div>\n",
       "</div>\n",
       "<script type=\"application/javascript\">(function(root) {\n",
       "  function embed_document(root) {\n",
       "    var docs_json = {\"da7ebb0f-7f81-4e12-adc7-5136d2efd17b\":{\"defs\":[{\"extends\":null,\"module\":null,\"name\":\"ReactiveHTML1\",\"overrides\":[],\"properties\":[]},{\"extends\":null,\"module\":null,\"name\":\"FlexBox1\",\"overrides\":[],\"properties\":[{\"default\":\"flex-start\",\"kind\":null,\"name\":\"align_content\"},{\"default\":\"flex-start\",\"kind\":null,\"name\":\"align_items\"},{\"default\":\"row\",\"kind\":null,\"name\":\"flex_direction\"},{\"default\":\"wrap\",\"kind\":null,\"name\":\"flex_wrap\"},{\"default\":\"flex-start\",\"kind\":null,\"name\":\"justify_content\"}]},{\"extends\":null,\"module\":null,\"name\":\"GridStack1\",\"overrides\":[],\"properties\":[{\"default\":\"warn\",\"kind\":null,\"name\":\"mode\"},{\"default\":null,\"kind\":null,\"name\":\"ncols\"},{\"default\":null,\"kind\":null,\"name\":\"nrows\"},{\"default\":true,\"kind\":null,\"name\":\"allow_resize\"},{\"default\":true,\"kind\":null,\"name\":\"allow_drag\"},{\"default\":[],\"kind\":null,\"name\":\"state\"}]},{\"extends\":null,\"module\":null,\"name\":\"click1\",\"overrides\":[],\"properties\":[{\"default\":\"\",\"kind\":null,\"name\":\"terminal_output\"},{\"default\":\"\",\"kind\":null,\"name\":\"debug_name\"},{\"default\":0,\"kind\":null,\"name\":\"clears\"}]},{\"extends\":null,\"module\":null,\"name\":\"TemplateActions1\",\"overrides\":[],\"properties\":[{\"default\":0,\"kind\":null,\"name\":\"open_modal\"},{\"default\":0,\"kind\":null,\"name\":\"close_modal\"}]},{\"extends\":null,\"module\":null,\"name\":\"MaterialTemplateActions1\",\"overrides\":[],\"properties\":[{\"default\":0,\"kind\":null,\"name\":\"open_modal\"},{\"default\":0,\"kind\":null,\"name\":\"close_modal\"}]}],\"roots\":{\"references\":[{\"attributes\":{\"end\":30,\"margin\":[5,10,5,10],\"start\":1,\"title\":\"Diciembre 2020. D\\u00eda: \",\"value\":3},\"id\":\"76337\",\"type\":\"Slider\"},{\"attributes\":{},\"id\":\"76366\",\"type\":\"UnionRenderers\"},{\"attributes\":{\"indices\":[]},\"id\":\"76342\",\"type\":\"Selection\"},{\"attributes\":{\"text_align\":\"center\"},\"id\":\"76359\",\"type\":\"NumberFormatter\"},{\"attributes\":{\"active\":0,\"button_type\":\"success\",\"labels\":[\"total\",\"cant\"],\"margin\":[5,10,5,10]},\"id\":\"76338\",\"type\":\"RadioButtonGroup\"},{\"attributes\":{},\"id\":\"76360\",\"type\":\"IntEditor\"},{\"attributes\":{\"children\":[{\"id\":\"76334\"}],\"margin\":[0,0,0,0],\"name\":\"Row236867\"},\"id\":\"76333\",\"type\":\"Row\"},{\"attributes\":{},\"id\":\"76355\",\"type\":\"IntEditor\"},{\"attributes\":{\"children\":[{\"id\":\"76337\"},{\"id\":\"76338\"}],\"margin\":[0,0,0,0],\"name\":\"Column236829\"},\"id\":\"76336\",\"type\":\"Column\"},{\"attributes\":{\"editor\":{\"id\":\"76360\"},\"field\":\"total\",\"formatter\":{\"id\":\"76359\"},\"title\":\"total\",\"width\":0},\"id\":\"76361\",\"type\":\"TableColumn\"},{\"attributes\":{\"data\":{\"descrip_alex\":[\"Mini postres\",\"Palitos\"],\"dia_venta\":[3,3],\"index\":[0,1],\"total\":[130,90]},\"selected\":{\"id\":\"76342\"},\"selection_policy\":{\"id\":\"76366\"}},\"id\":\"76341\",\"type\":\"ColumnDataSource\"},{\"attributes\":{\"editor\":{\"id\":\"76345\"},\"field\":\"index\",\"formatter\":{\"id\":\"76343\"},\"title\":\"index\",\"width\":0},\"id\":\"76346\",\"type\":\"TableColumn\"},{\"attributes\":{\"text_align\":\"center\"},\"id\":\"76349\",\"type\":\"StringFormatter\"},{\"attributes\":{\"columns\":[{\"id\":\"76346\"},{\"id\":\"76351\"},{\"id\":\"76356\"},{\"id\":\"76361\"}],\"configuration\":{\"columns\":[{\"field\":\"index\",\"headerHozAlign\":\"center\",\"hozAlign\":\"center\"},{\"field\":\"descrip_alex\",\"headerHozAlign\":\"center\",\"hozAlign\":\"center\"},{\"field\":\"dia_venta\",\"headerHozAlign\":\"center\",\"hozAlign\":\"center\"},{\"field\":\"total\",\"headerHozAlign\":\"center\",\"hozAlign\":\"center\"}],\"dataTree\":false,\"selectable\":true},\"indexes\":[\"index\"],\"layout\":\"fit_data_stretch\",\"margin\":[5,10,5,10],\"max_page\":1,\"name\":\"\",\"page\":1,\"page_size\":10,\"pagination\":\"remote\",\"select_mode\":true,\"selectable_rows\":null,\"source\":{\"id\":\"76341\"},\"styles\":{\"data\":{},\"id\":\"bf0819b69fdc4303bcf236c156580ae7\"},\"subscribed_events\":[\"table-edit\",\"cell-click\"]},\"id\":\"76364\",\"type\":\"panel.models.tabulator.DataTabulator\"},{\"attributes\":{\"margin\":[5,5,5,5],\"name\":\"HSpacer236864\",\"sizing_mode\":\"stretch_width\"},\"id\":\"76339\",\"type\":\"Spacer\"},{\"attributes\":{},\"id\":\"76350\",\"type\":\"StringEditor\"},{\"attributes\":{\"editor\":{\"id\":\"76355\"},\"field\":\"dia_venta\",\"formatter\":{\"id\":\"76354\"},\"title\":\"dia_venta\",\"width\":0},\"id\":\"76356\",\"type\":\"TableColumn\"},{\"attributes\":{\"editor\":{\"id\":\"76350\"},\"field\":\"descrip_alex\",\"formatter\":{\"id\":\"76349\"},\"title\":\"descrip_alex\",\"width\":0},\"id\":\"76351\",\"type\":\"TableColumn\"},{\"attributes\":{},\"id\":\"76345\",\"type\":\"CellEditor\"},{\"attributes\":{\"text_align\":\"center\"},\"id\":\"76343\",\"type\":\"NumberFormatter\"},{\"attributes\":{\"children\":[{\"id\":\"76364\"}],\"margin\":[0,0,0,0],\"name\":\"Row236834\"},\"id\":\"76340\",\"type\":\"Row\"},{\"attributes\":{\"children\":[{\"id\":\"76335\"},{\"id\":\"76340\"}],\"margin\":[0,0,0,0],\"name\":\"Column236866\"},\"id\":\"76334\",\"type\":\"Column\"},{\"attributes\":{\"text_align\":\"center\"},\"id\":\"76354\",\"type\":\"NumberFormatter\"},{\"attributes\":{\"client_comm_id\":\"7941213292534d00be4c5d8ea418bf8e\",\"comm_id\":\"4c0386f577f8467a93c5b37bf9edcc1f\",\"plot_id\":\"76333\"},\"id\":\"76372\",\"type\":\"panel.models.comm_manager.CommManager\"},{\"attributes\":{\"children\":[{\"id\":\"76336\"},{\"id\":\"76339\"}],\"margin\":[0,0,0,0],\"name\":\"Row236865\"},\"id\":\"76335\",\"type\":\"Row\"}],\"root_ids\":[\"76333\",\"76372\"]},\"title\":\"Bokeh Application\",\"version\":\"2.4.1\"}};\n",
       "    var render_items = [{\"docid\":\"da7ebb0f-7f81-4e12-adc7-5136d2efd17b\",\"root_ids\":[\"76333\"],\"roots\":{\"76333\":\"09975a63-e7f3-4ef7-ac32-8097b5fad7b2\"}}];\n",
       "    root.Bokeh.embed.embed_items_notebook(docs_json, render_items);\n",
       "  }\n",
       "  if (root.Bokeh !== undefined && root.Bokeh.Panel !== undefined && ( root['Tabulator'] !== undefined)) {\n",
       "    embed_document(root);\n",
       "  } else {\n",
       "    var attempts = 0;\n",
       "    var timer = setInterval(function(root) {\n",
       "      if (root.Bokeh !== undefined && root.Bokeh.Panel !== undefined && (root['Tabulator'] !== undefined)) {\n",
       "        clearInterval(timer);\n",
       "        embed_document(root);\n",
       "      } else if (document.readyState == \"complete\") {\n",
       "        attempts++;\n",
       "        if (attempts > 200) {\n",
       "          clearInterval(timer);\n",
       "          console.log(\"Bokeh: ERROR: Unable to run BokehJS code because BokehJS library is missing\");\n",
       "        }\n",
       "      }\n",
       "    }, 25, root)\n",
       "  }\n",
       "})(window);</script>"
      ],
      "text/plain": [
       "<hvplot.interactive.Interactive at 0x1a6ca1d0d60>"
      ]
     },
     "execution_count": 450,
     "metadata": {
      "application/vnd.holoviews_exec.v0+json": {
       "id": "76333"
      }
     },
     "output_type": "execute_result"
    }
   ],
   "source": [
    "total_table = total_pipeline.pipe(pn.widgets.Tabulator, \n",
    "                                  pagination='remote', \n",
    "                                  page_size = 10, \n",
    "                                  #sizing_mode='stretch_width',\n",
    "                                  layout='fit_data_stretch', \n",
    "                                  header_align='center', \n",
    "                                  #title=\"Alex\",\n",
    "                                  text_align='center') \n",
    "total_table"
   ]
  },
  {
   "cell_type": "markdown",
   "metadata": {
    "id": "-JU1-WZbHwTh"
   },
   "source": [
    "### 1c. Total sales vs. quantity for products scatterplot"
   ]
  },
  {
   "cell_type": "code",
   "execution_count": 451,
   "metadata": {
    "id": "TSD4baqKHwWI"
   },
   "outputs": [],
   "source": [
    "#First, I built the pipeline.\n",
    "total_vs_cantidad_scatterplot_pipeline = (\n",
    "    i_helados_2020[\n",
    "        (i_helados_2020.dia_venta == Diciembre_slider) &\n",
    "        (i_helados_2020.descrip_alex.isin(descripcion))\n",
    "    ]\n",
    "    .groupby(['descrip_alex', 'dia_venta', 'cant'])['total'].sum()\n",
    "    .round(2) # Two decimals\n",
    "    .to_frame()\n",
    "    .reset_index()\n",
    "    .sort_values(by='dia_venta')  \n",
    "    .reset_index(drop=True)\n",
    ")"
   ]
  },
  {
   "cell_type": "code",
   "execution_count": 452,
   "metadata": {
    "id": "VBYAMmS8HwYW",
    "tags": []
   },
   "outputs": [
    {
     "data": {},
     "metadata": {},
     "output_type": "display_data"
    },
    {
     "data": {
      "application/vnd.holoviews_exec.v0+json": "",
      "text/html": [
       "<div id='76383'>\n",
       "\n",
       "\n",
       "\n",
       "\n",
       "\n",
       "  <div class=\"bk-root\" id=\"aa5dd9c8-cf88-4da5-8a12-168be1101940\" data-root-id=\"76383\"></div>\n",
       "</div>\n",
       "<script type=\"application/javascript\">(function(root) {\n",
       "  function embed_document(root) {\n",
       "    var docs_json = {\"704ce77b-7535-47cd-b46b-589ea13b10c1\":{\"defs\":[{\"extends\":null,\"module\":null,\"name\":\"ReactiveHTML1\",\"overrides\":[],\"properties\":[]},{\"extends\":null,\"module\":null,\"name\":\"FlexBox1\",\"overrides\":[],\"properties\":[{\"default\":\"flex-start\",\"kind\":null,\"name\":\"align_content\"},{\"default\":\"flex-start\",\"kind\":null,\"name\":\"align_items\"},{\"default\":\"row\",\"kind\":null,\"name\":\"flex_direction\"},{\"default\":\"wrap\",\"kind\":null,\"name\":\"flex_wrap\"},{\"default\":\"flex-start\",\"kind\":null,\"name\":\"justify_content\"}]},{\"extends\":null,\"module\":null,\"name\":\"GridStack1\",\"overrides\":[],\"properties\":[{\"default\":\"warn\",\"kind\":null,\"name\":\"mode\"},{\"default\":null,\"kind\":null,\"name\":\"ncols\"},{\"default\":null,\"kind\":null,\"name\":\"nrows\"},{\"default\":true,\"kind\":null,\"name\":\"allow_resize\"},{\"default\":true,\"kind\":null,\"name\":\"allow_drag\"},{\"default\":[],\"kind\":null,\"name\":\"state\"}]},{\"extends\":null,\"module\":null,\"name\":\"click1\",\"overrides\":[],\"properties\":[{\"default\":\"\",\"kind\":null,\"name\":\"terminal_output\"},{\"default\":\"\",\"kind\":null,\"name\":\"debug_name\"},{\"default\":0,\"kind\":null,\"name\":\"clears\"}]},{\"extends\":null,\"module\":null,\"name\":\"TemplateActions1\",\"overrides\":[],\"properties\":[{\"default\":0,\"kind\":null,\"name\":\"open_modal\"},{\"default\":0,\"kind\":null,\"name\":\"close_modal\"}]},{\"extends\":null,\"module\":null,\"name\":\"MaterialTemplateActions1\",\"overrides\":[],\"properties\":[{\"default\":0,\"kind\":null,\"name\":\"open_modal\"},{\"default\":0,\"kind\":null,\"name\":\"close_modal\"}]}],\"roots\":{\"references\":[{\"attributes\":{\"children\":[{\"id\":\"76390\"}],\"margin\":[0,0,0,0],\"name\":\"Row237854\"},\"id\":\"76389\",\"type\":\"Row\"},{\"attributes\":{\"children\":[{\"id\":\"76387\"}],\"margin\":[0,0,0,0],\"name\":\"Column237849\"},\"id\":\"76386\",\"type\":\"Column\"},{\"attributes\":{\"children\":[{\"id\":\"76384\"}],\"margin\":[0,0,0,0],\"name\":\"Row237888\"},\"id\":\"76383\",\"type\":\"Row\"},{\"attributes\":{\"end\":30,\"margin\":[5,10,5,10],\"start\":1,\"title\":\"Diciembre 2020. D\\u00eda: \",\"value\":3},\"id\":\"76387\",\"type\":\"Slider\"},{\"attributes\":{\"children\":[{\"id\":\"76385\"},{\"id\":\"76389\"}],\"margin\":[0,0,0,0],\"name\":\"Column237887\"},\"id\":\"76384\",\"type\":\"Column\"},{\"attributes\":{\"client_comm_id\":\"cf6122ba9f8c4b6fb59822cd03994774\",\"comm_id\":\"b25ad6c00331467f93301edcd51938b1\",\"plot_id\":\"76383\"},\"id\":\"76391\",\"type\":\"panel.models.comm_manager.CommManager\"},{\"attributes\":{\"margin\":[5,5,5,5],\"name\":\"HSpacer237885\",\"sizing_mode\":\"stretch_width\"},\"id\":\"76388\",\"type\":\"Spacer\"},{\"attributes\":{\"margin\":[5,5,5,5],\"name\":\"DataFrame237883\",\"text\":\"&lt;table border=&quot;0&quot; class=&quot;dataframe panel-df&quot;&gt;\\n  &lt;thead&gt;\\n    &lt;tr style=&quot;text-align: right;&quot;&gt;\\n      &lt;th&gt;&lt;/th&gt;\\n      &lt;th&gt;descrip_alex&lt;/th&gt;\\n      &lt;th&gt;dia_venta&lt;/th&gt;\\n      &lt;th&gt;cant&lt;/th&gt;\\n      &lt;th&gt;total&lt;/th&gt;\\n    &lt;/tr&gt;\\n  &lt;/thead&gt;\\n  &lt;tbody&gt;\\n    &lt;tr&gt;\\n      &lt;th&gt;0&lt;/th&gt;\\n      &lt;td&gt;Mini postres&lt;/td&gt;\\n      &lt;td&gt;3&lt;/td&gt;\\n      &lt;td&gt;1&lt;/td&gt;\\n      &lt;td&gt;130&lt;/td&gt;\\n    &lt;/tr&gt;\\n    &lt;tr&gt;\\n      &lt;th&gt;1&lt;/th&gt;\\n      &lt;td&gt;Palitos&lt;/td&gt;\\n      &lt;td&gt;3&lt;/td&gt;\\n      &lt;td&gt;1&lt;/td&gt;\\n      &lt;td&gt;90&lt;/td&gt;\\n    &lt;/tr&gt;\\n  &lt;/tbody&gt;\\n&lt;/table&gt;\"},\"id\":\"76390\",\"type\":\"panel.models.markup.HTML\"},{\"attributes\":{\"children\":[{\"id\":\"76386\"},{\"id\":\"76388\"}],\"margin\":[0,0,0,0],\"name\":\"Row237886\"},\"id\":\"76385\",\"type\":\"Row\"}],\"root_ids\":[\"76383\",\"76391\"]},\"title\":\"Bokeh Application\",\"version\":\"2.4.1\"}};\n",
       "    var render_items = [{\"docid\":\"704ce77b-7535-47cd-b46b-589ea13b10c1\",\"root_ids\":[\"76383\"],\"roots\":{\"76383\":\"aa5dd9c8-cf88-4da5-8a12-168be1101940\"}}];\n",
       "    root.Bokeh.embed.embed_items_notebook(docs_json, render_items);\n",
       "  }\n",
       "  if (root.Bokeh !== undefined && root.Bokeh.Panel !== undefined && ( root['Tabulator'] !== undefined)) {\n",
       "    embed_document(root);\n",
       "  } else {\n",
       "    var attempts = 0;\n",
       "    var timer = setInterval(function(root) {\n",
       "      if (root.Bokeh !== undefined && root.Bokeh.Panel !== undefined && (root['Tabulator'] !== undefined)) {\n",
       "        clearInterval(timer);\n",
       "        embed_document(root);\n",
       "      } else if (document.readyState == \"complete\") {\n",
       "        attempts++;\n",
       "        if (attempts > 200) {\n",
       "          clearInterval(timer);\n",
       "          console.log(\"Bokeh: ERROR: Unable to run BokehJS code because BokehJS library is missing\");\n",
       "        }\n",
       "      }\n",
       "    }, 25, root)\n",
       "  }\n",
       "})(window);</script>"
      ],
      "text/plain": [
       "<hvplot.interactive.Interactive at 0x1a6ca1d0fa0>"
      ]
     },
     "execution_count": 452,
     "metadata": {
      "application/vnd.holoviews_exec.v0+json": {
       "id": "76383"
      }
     },
     "output_type": "execute_result"
    }
   ],
   "source": [
    "total_vs_cantidad_scatterplot_pipeline.head(3)"
   ]
  },
  {
   "cell_type": "code",
   "execution_count": 453,
   "metadata": {
    "id": "lRkxhnxmHwbE",
    "tags": []
   },
   "outputs": [
    {
     "data": {},
     "metadata": {},
     "output_type": "display_data"
    },
    {
     "data": {},
     "metadata": {},
     "output_type": "display_data"
    },
    {
     "data": {
      "application/vnd.holoviews_exec.v0+json": "",
      "text/html": [
       "<div id='76392'>\n",
       "\n",
       "\n",
       "\n",
       "\n",
       "\n",
       "  <div class=\"bk-root\" id=\"ec7e9564-e181-47aa-b7ff-6c4bd879d9f1\" data-root-id=\"76392\"></div>\n",
       "</div>\n",
       "<script type=\"application/javascript\">(function(root) {\n",
       "  function embed_document(root) {\n",
       "    var docs_json = {\"6e466f67-0ac9-42e1-8b4d-b107e8c1691c\":{\"defs\":[{\"extends\":null,\"module\":null,\"name\":\"ReactiveHTML1\",\"overrides\":[],\"properties\":[]},{\"extends\":null,\"module\":null,\"name\":\"FlexBox1\",\"overrides\":[],\"properties\":[{\"default\":\"flex-start\",\"kind\":null,\"name\":\"align_content\"},{\"default\":\"flex-start\",\"kind\":null,\"name\":\"align_items\"},{\"default\":\"row\",\"kind\":null,\"name\":\"flex_direction\"},{\"default\":\"wrap\",\"kind\":null,\"name\":\"flex_wrap\"},{\"default\":\"flex-start\",\"kind\":null,\"name\":\"justify_content\"}]},{\"extends\":null,\"module\":null,\"name\":\"GridStack1\",\"overrides\":[],\"properties\":[{\"default\":\"warn\",\"kind\":null,\"name\":\"mode\"},{\"default\":null,\"kind\":null,\"name\":\"ncols\"},{\"default\":null,\"kind\":null,\"name\":\"nrows\"},{\"default\":true,\"kind\":null,\"name\":\"allow_resize\"},{\"default\":true,\"kind\":null,\"name\":\"allow_drag\"},{\"default\":[],\"kind\":null,\"name\":\"state\"}]},{\"extends\":null,\"module\":null,\"name\":\"click1\",\"overrides\":[],\"properties\":[{\"default\":\"\",\"kind\":null,\"name\":\"terminal_output\"},{\"default\":\"\",\"kind\":null,\"name\":\"debug_name\"},{\"default\":0,\"kind\":null,\"name\":\"clears\"}]},{\"extends\":null,\"module\":null,\"name\":\"TemplateActions1\",\"overrides\":[],\"properties\":[{\"default\":0,\"kind\":null,\"name\":\"open_modal\"},{\"default\":0,\"kind\":null,\"name\":\"close_modal\"}]},{\"extends\":null,\"module\":null,\"name\":\"MaterialTemplateActions1\",\"overrides\":[],\"properties\":[{\"default\":0,\"kind\":null,\"name\":\"open_modal\"},{\"default\":0,\"kind\":null,\"name\":\"close_modal\"}]}],\"roots\":{\"references\":[{\"attributes\":{\"below\":[{\"id\":\"76412\"}],\"center\":[{\"id\":\"76415\"},{\"id\":\"76419\"}],\"height\":500,\"left\":[{\"id\":\"76416\"}],\"margin\":[5,5,5,5],\"min_border_bottom\":10,\"min_border_left\":10,\"min_border_right\":10,\"min_border_top\":10,\"renderers\":[{\"id\":\"76445\"},{\"id\":\"76466\"}],\"right\":[{\"id\":\"76457\"}],\"sizing_mode\":\"fixed\",\"title\":{\"id\":\"76404\"},\"toolbar\":{\"id\":\"76426\"},\"width\":1000,\"x_range\":{\"id\":\"76399\"},\"x_scale\":{\"id\":\"76408\"},\"y_range\":{\"id\":\"76400\"},\"y_scale\":{\"id\":\"76410\"}},\"id\":\"76403\",\"subtype\":\"Figure\",\"type\":\"Plot\"},{\"attributes\":{\"children\":[{\"id\":\"76394\"},{\"id\":\"76398\"}],\"margin\":[0,0,0,0],\"name\":\"Column238308\"},\"id\":\"76393\",\"type\":\"Column\"},{\"attributes\":{\"coordinates\":null,\"data_source\":{\"id\":\"76460\"},\"glyph\":{\"id\":\"76463\"},\"group\":null,\"hover_glyph\":null,\"muted_glyph\":{\"id\":\"76465\"},\"nonselection_glyph\":{\"id\":\"76464\"},\"selection_glyph\":{\"id\":\"76481\"},\"view\":{\"id\":\"76467\"}},\"id\":\"76466\",\"type\":\"GlyphRenderer\"},{\"attributes\":{\"axis\":{\"id\":\"76412\"},\"coordinates\":null,\"grid_line_color\":null,\"group\":null,\"ticker\":null},\"id\":\"76415\",\"type\":\"Grid\"},{\"attributes\":{\"label\":{\"value\":\"Palitos\"},\"renderers\":[{\"id\":\"76466\"}]},\"id\":\"76480\",\"type\":\"LegendItem\"},{\"attributes\":{\"axis_label\":\"cant\",\"coordinates\":null,\"formatter\":{\"id\":\"76434\"},\"group\":null,\"major_label_policy\":{\"id\":\"76435\"},\"ticker\":{\"id\":\"76413\"}},\"id\":\"76412\",\"type\":\"LinearAxis\"},{\"attributes\":{\"end\":30,\"margin\":[5,10,5,10],\"start\":1,\"title\":\"Diciembre 2020. D\\u00eda: \",\"value\":3},\"id\":\"76396\",\"type\":\"Slider\"},{\"attributes\":{},\"id\":\"76421\",\"type\":\"PanTool\"},{\"attributes\":{\"axis\":{\"id\":\"76416\"},\"coordinates\":null,\"dimension\":1,\"grid_line_color\":null,\"group\":null,\"ticker\":null},\"id\":\"76419\",\"type\":\"Grid\"},{\"attributes\":{\"axis_label\":\"total\",\"coordinates\":null,\"formatter\":{\"id\":\"76437\"},\"group\":null,\"major_label_policy\":{\"id\":\"76438\"},\"ticker\":{\"id\":\"76417\"}},\"id\":\"76416\",\"type\":\"LinearAxis\"},{\"attributes\":{},\"id\":\"76434\",\"type\":\"BasicTickFormatter\"},{\"attributes\":{},\"id\":\"76435\",\"type\":\"AllLabels\"},{\"attributes\":{},\"id\":\"76422\",\"type\":\"WheelZoomTool\"},{\"attributes\":{},\"id\":\"76438\",\"type\":\"AllLabels\"},{\"attributes\":{\"fill_alpha\":{\"value\":0.7},\"fill_color\":{\"value\":\"#fc4f30\"},\"hatch_alpha\":{\"value\":0.7},\"hatch_color\":{\"value\":\"#fc4f30\"},\"line_alpha\":{\"value\":0.7},\"line_color\":{\"value\":\"#fc4f30\"},\"size\":{\"value\":8.94427190999916},\"x\":{\"field\":\"cant\"},\"y\":{\"field\":\"total\"}},\"id\":\"76463\",\"type\":\"Scatter\"},{\"attributes\":{},\"id\":\"76420\",\"type\":\"SaveTool\"},{\"attributes\":{\"fill_alpha\":{\"value\":0.7},\"fill_color\":{\"value\":\"#fc4f30\"},\"hatch_alpha\":{\"value\":0.1},\"hatch_color\":{\"value\":\"#fc4f30\"},\"line_alpha\":{\"value\":0.7},\"line_color\":{\"value\":\"#fc4f30\"},\"size\":{\"value\":8.94427190999916},\"x\":{\"field\":\"cant\"},\"y\":{\"field\":\"total\"}},\"id\":\"76464\",\"type\":\"Scatter\"},{\"attributes\":{},\"id\":\"76440\",\"type\":\"Selection\"},{\"attributes\":{\"source\":{\"id\":\"76460\"}},\"id\":\"76467\",\"type\":\"CDSView\"},{\"attributes\":{\"overlay\":{\"id\":\"76425\"}},\"id\":\"76423\",\"type\":\"BoxZoomTool\"},{\"attributes\":{},\"id\":\"76424\",\"type\":\"ResetTool\"},{\"attributes\":{\"children\":[{\"id\":\"76393\"}],\"margin\":[0,0,0,0],\"name\":\"Row238309\"},\"id\":\"76392\",\"type\":\"Row\"},{\"attributes\":{\"bottom_units\":\"screen\",\"coordinates\":null,\"fill_alpha\":0.5,\"fill_color\":\"lightgrey\",\"group\":null,\"left_units\":\"screen\",\"level\":\"overlay\",\"line_alpha\":1.0,\"line_color\":\"black\",\"line_dash\":[4,4],\"line_width\":2,\"right_units\":\"screen\",\"syncable\":false,\"top_units\":\"screen\"},\"id\":\"76425\",\"type\":\"BoxAnnotation\"},{\"attributes\":{},\"id\":\"76437\",\"type\":\"BasicTickFormatter\"},{\"attributes\":{\"client_comm_id\":\"9c8870cc456846fe91b698ee015a8192\",\"comm_id\":\"fa10e30a098749a1b9e64c041708d4cd\",\"plot_id\":\"76392\"},\"id\":\"76626\",\"type\":\"panel.models.comm_manager.CommManager\"},{\"attributes\":{\"tools\":[{\"id\":\"76401\"},{\"id\":\"76420\"},{\"id\":\"76421\"},{\"id\":\"76422\"},{\"id\":\"76423\"},{\"id\":\"76424\"}]},\"id\":\"76426\",\"type\":\"Toolbar\"},{\"attributes\":{\"angle\":{\"value\":0.0},\"fill_alpha\":{\"value\":0.7},\"fill_color\":{\"value\":\"#fc4f30\"},\"hatch_alpha\":{\"value\":0.7},\"hatch_color\":{\"value\":\"#fc4f30\"},\"hatch_scale\":{\"value\":12.0},\"hatch_weight\":{\"value\":1.0},\"line_alpha\":{\"value\":0.7},\"line_cap\":{\"value\":\"butt\"},\"line_color\":{\"value\":\"#fc4f30\"},\"line_dash\":{\"value\":[]},\"line_dash_offset\":{\"value\":0},\"line_join\":{\"value\":\"bevel\"},\"line_width\":{\"value\":1},\"marker\":{\"value\":\"circle\"},\"size\":{\"value\":8.94427190999916},\"x\":{\"field\":\"cant\"},\"y\":{\"field\":\"total\"}},\"id\":\"76481\",\"type\":\"Scatter\"},{\"attributes\":{},\"id\":\"76413\",\"type\":\"BasicTicker\"},{\"attributes\":{\"fill_alpha\":{\"value\":0.7},\"fill_color\":{\"value\":\"#30a2da\"},\"hatch_alpha\":{\"value\":0.1},\"hatch_color\":{\"value\":\"#30a2da\"},\"line_alpha\":{\"value\":0.7},\"line_color\":{\"value\":\"#30a2da\"},\"size\":{\"value\":8.94427190999916},\"x\":{\"field\":\"cant\"},\"y\":{\"field\":\"total\"}},\"id\":\"76443\",\"type\":\"Scatter\"},{\"attributes\":{\"fill_alpha\":{\"value\":0.2},\"fill_color\":{\"value\":\"#fc4f30\"},\"hatch_alpha\":{\"value\":0.2},\"hatch_color\":{\"value\":\"#fc4f30\"},\"line_alpha\":{\"value\":0.2},\"line_color\":{\"value\":\"#fc4f30\"},\"size\":{\"value\":8.94427190999916},\"x\":{\"field\":\"cant\"},\"y\":{\"field\":\"total\"}},\"id\":\"76465\",\"type\":\"Scatter\"},{\"attributes\":{},\"id\":\"76454\",\"type\":\"UnionRenderers\"},{\"attributes\":{\"end\":134.0,\"reset_end\":134.0,\"reset_start\":86.0,\"start\":86.0,\"tags\":[[[\"total\",\"total\",null]]]},\"id\":\"76400\",\"type\":\"Range1d\"},{\"attributes\":{},\"id\":\"76410\",\"type\":\"LinearScale\"},{\"attributes\":{\"fill_alpha\":{\"value\":0.7},\"fill_color\":{\"value\":\"#30a2da\"},\"hatch_alpha\":{\"value\":0.7},\"hatch_color\":{\"value\":\"#30a2da\"},\"line_alpha\":{\"value\":0.7},\"line_color\":{\"value\":\"#30a2da\"},\"size\":{\"value\":8.94427190999916},\"x\":{\"field\":\"cant\"},\"y\":{\"field\":\"total\"}},\"id\":\"76442\",\"type\":\"Scatter\"},{\"attributes\":{\"end\":2.1,\"reset_end\":2.1,\"reset_start\":-0.1,\"start\":-0.1,\"tags\":[[[\"cant\",\"cant\",null]]]},\"id\":\"76399\",\"type\":\"Range1d\"},{\"attributes\":{\"source\":{\"id\":\"76439\"}},\"id\":\"76446\",\"type\":\"CDSView\"},{\"attributes\":{},\"id\":\"76477\",\"type\":\"UnionRenderers\"},{\"attributes\":{},\"id\":\"76461\",\"type\":\"Selection\"},{\"attributes\":{},\"id\":\"76408\",\"type\":\"LinearScale\"},{\"attributes\":{\"children\":[{\"id\":\"76395\"},{\"id\":\"76397\"}],\"margin\":[0,0,0,0],\"name\":\"Row238307\"},\"id\":\"76394\",\"type\":\"Row\"},{\"attributes\":{\"data\":{\"cant\":[1],\"descrip_alex\":[\"Palitos\"],\"total\":[90]},\"selected\":{\"id\":\"76461\"},\"selection_policy\":{\"id\":\"76477\"}},\"id\":\"76460\",\"type\":\"ColumnDataSource\"},{\"attributes\":{\"coordinates\":null,\"data_source\":{\"id\":\"76439\"},\"glyph\":{\"id\":\"76442\"},\"group\":null,\"hover_glyph\":null,\"muted_glyph\":{\"id\":\"76444\"},\"nonselection_glyph\":{\"id\":\"76443\"},\"selection_glyph\":{\"id\":\"76459\"},\"view\":{\"id\":\"76446\"}},\"id\":\"76445\",\"type\":\"GlyphRenderer\"},{\"attributes\":{\"callback\":null,\"renderers\":[{\"id\":\"76445\"},{\"id\":\"76466\"}],\"tags\":[\"hv_created\"],\"tooltips\":[[\"descrip_alex\",\"@{descrip_alex}\"],[\"cant\",\"@{cant}\"],[\"total\",\"@{total}\"]]},\"id\":\"76401\",\"type\":\"HoverTool\"},{\"attributes\":{\"label\":{\"value\":\"Mini postres\"},\"renderers\":[{\"id\":\"76445\"}]},\"id\":\"76458\",\"type\":\"LegendItem\"},{\"attributes\":{\"children\":[{\"id\":\"76403\"}],\"margin\":[0,0,0,0],\"name\":\"Row238112\"},\"id\":\"76398\",\"type\":\"Row\"},{\"attributes\":{\"coordinates\":null,\"group\":null,\"text\":\"Cantidades y total acumulado de productos\",\"text_color\":\"black\",\"text_font_size\":\"12pt\"},\"id\":\"76404\",\"type\":\"Title\"},{\"attributes\":{\"fill_alpha\":{\"value\":0.2},\"fill_color\":{\"value\":\"#30a2da\"},\"hatch_alpha\":{\"value\":0.2},\"hatch_color\":{\"value\":\"#30a2da\"},\"line_alpha\":{\"value\":0.2},\"line_color\":{\"value\":\"#30a2da\"},\"size\":{\"value\":8.94427190999916},\"x\":{\"field\":\"cant\"},\"y\":{\"field\":\"total\"}},\"id\":\"76444\",\"type\":\"Scatter\"},{\"attributes\":{\"children\":[{\"id\":\"76396\"}],\"margin\":[0,0,0,0],\"name\":\"Column238107\"},\"id\":\"76395\",\"type\":\"Column\"},{\"attributes\":{\"angle\":{\"value\":0.0},\"fill_alpha\":{\"value\":0.7},\"fill_color\":{\"value\":\"#30a2da\"},\"hatch_alpha\":{\"value\":0.7},\"hatch_color\":{\"value\":\"#30a2da\"},\"hatch_scale\":{\"value\":12.0},\"hatch_weight\":{\"value\":1.0},\"line_alpha\":{\"value\":0.7},\"line_cap\":{\"value\":\"butt\"},\"line_color\":{\"value\":\"#30a2da\"},\"line_dash\":{\"value\":[]},\"line_dash_offset\":{\"value\":0},\"line_join\":{\"value\":\"bevel\"},\"line_width\":{\"value\":1},\"marker\":{\"value\":\"circle\"},\"size\":{\"value\":8.94427190999916},\"x\":{\"field\":\"cant\"},\"y\":{\"field\":\"total\"}},\"id\":\"76459\",\"type\":\"Scatter\"},{\"attributes\":{\"data\":{\"cant\":[1],\"descrip_alex\":[\"Mini postres\"],\"total\":[130]},\"selected\":{\"id\":\"76440\"},\"selection_policy\":{\"id\":\"76454\"}},\"id\":\"76439\",\"type\":\"ColumnDataSource\"},{\"attributes\":{\"margin\":[5,5,5,5],\"name\":\"HSpacer238306\",\"sizing_mode\":\"stretch_width\"},\"id\":\"76397\",\"type\":\"Spacer\"},{\"attributes\":{\"click_policy\":\"mute\",\"coordinates\":null,\"group\":null,\"items\":[{\"id\":\"76458\"},{\"id\":\"76480\"}],\"location\":[0,0],\"title\":\"descrip_alex\"},\"id\":\"76457\",\"type\":\"Legend\"},{\"attributes\":{},\"id\":\"76417\",\"type\":\"BasicTicker\"}],\"root_ids\":[\"76392\",\"76626\"]},\"title\":\"Bokeh Application\",\"version\":\"2.4.1\"}};\n",
       "    var render_items = [{\"docid\":\"6e466f67-0ac9-42e1-8b4d-b107e8c1691c\",\"root_ids\":[\"76392\"],\"roots\":{\"76392\":\"ec7e9564-e181-47aa-b7ff-6c4bd879d9f1\"}}];\n",
       "    root.Bokeh.embed.embed_items_notebook(docs_json, render_items);\n",
       "  }\n",
       "  if (root.Bokeh !== undefined && root.Bokeh.Panel !== undefined && ( root['Tabulator'] !== undefined)) {\n",
       "    embed_document(root);\n",
       "  } else {\n",
       "    var attempts = 0;\n",
       "    var timer = setInterval(function(root) {\n",
       "      if (root.Bokeh !== undefined && root.Bokeh.Panel !== undefined && (root['Tabulator'] !== undefined)) {\n",
       "        clearInterval(timer);\n",
       "        embed_document(root);\n",
       "      } else if (document.readyState == \"complete\") {\n",
       "        attempts++;\n",
       "        if (attempts > 200) {\n",
       "          clearInterval(timer);\n",
       "          console.log(\"Bokeh: ERROR: Unable to run BokehJS code because BokehJS library is missing\");\n",
       "        }\n",
       "      }\n",
       "    }, 25, root)\n",
       "  }\n",
       "})(window);</script>"
      ],
      "text/plain": [
       "<hvplot.interactive.Interactive at 0x1a6d180dc40>"
      ]
     },
     "execution_count": 453,
     "metadata": {
      "application/vnd.holoviews_exec.v0+json": {
       "id": "76392"
      }
     },
     "output_type": "execute_result"
    }
   ],
   "source": [
    "#And finally, I built the scatterplot\n",
    "total_vs_cantidad_scatterplot = total_vs_cantidad_scatterplot_pipeline.hvplot(x='cant', \n",
    "                                                                y='total', \n",
    "                                                                by='descrip_alex', \n",
    "                                                                size=80, \n",
    "                                                                kind=\"scatter\", \n",
    "                                                                alpha=0.7,\n",
    "                                                                legend='right',\n",
    "                                                                height=500, \n",
    "                                                                width=1000,\n",
    "                                                                title=\"Cantidades y total acumulado de productos\",\n",
    "                                                                )\n",
    "total_vs_cantidad_scatterplot"
   ]
  },
  {
   "cell_type": "markdown",
   "metadata": {
    "id": "Q0705Q-P2GrO"
   },
   "source": [
    "### 1d. Bar chart \"Total & Cant daily\" sales by descripcion"
   ]
  },
  {
   "cell_type": "code",
   "execution_count": 454,
   "metadata": {
    "tags": []
   },
   "outputs": [],
   "source": [
    "yaxis_total_barra = pn.widgets.RadioButtonGroup(\n",
    "    name='Eje Y', \n",
    "    options=['total', \n",
    "             'cant'\n",
    "            ], \n",
    "    button_type='success'\n",
    ")\n",
    "\n",
    "solo_dos_productos = ['Helado por kilo', 'Comidas rápidas', 'Cafetería']\n",
    "\n",
    "total_source_bar_pipeline = (\n",
    "    i_helados_2020[\n",
    "               (i_helados_2020.dia_venta == Diciembre_slider) &\n",
    "               (i_helados_2020.descrip_alex.isin(solo_dos_productos))       \n",
    "    ]\n",
    "    .groupby(['dia_venta', 'descrip_alex'])[yaxis_total_barra].sum()\n",
    "    .to_frame()\n",
    "    .round(0) # Two decimals\n",
    "    .reset_index()\n",
    "    .sort_values(by='dia_venta')  \n",
    "    .reset_index(drop=True)\n",
    ")"
   ]
  },
  {
   "cell_type": "code",
   "execution_count": 455,
   "metadata": {
    "tags": []
   },
   "outputs": [
    {
     "data": {},
     "metadata": {},
     "output_type": "display_data"
    },
    {
     "data": {},
     "metadata": {},
     "output_type": "display_data"
    },
    {
     "data": {
      "application/vnd.holoviews_exec.v0+json": "",
      "text/html": [
       "<div id='76687'>\n",
       "\n",
       "\n",
       "\n",
       "\n",
       "\n",
       "  <div class=\"bk-root\" id=\"055fc27a-e80b-4f86-8663-b42a8d0f4150\" data-root-id=\"76687\"></div>\n",
       "</div>\n",
       "<script type=\"application/javascript\">(function(root) {\n",
       "  function embed_document(root) {\n",
       "    var docs_json = {\"b09fb782-384b-4372-a67b-1b1c62a7911b\":{\"defs\":[{\"extends\":null,\"module\":null,\"name\":\"ReactiveHTML1\",\"overrides\":[],\"properties\":[]},{\"extends\":null,\"module\":null,\"name\":\"FlexBox1\",\"overrides\":[],\"properties\":[{\"default\":\"flex-start\",\"kind\":null,\"name\":\"align_content\"},{\"default\":\"flex-start\",\"kind\":null,\"name\":\"align_items\"},{\"default\":\"row\",\"kind\":null,\"name\":\"flex_direction\"},{\"default\":\"wrap\",\"kind\":null,\"name\":\"flex_wrap\"},{\"default\":\"flex-start\",\"kind\":null,\"name\":\"justify_content\"}]},{\"extends\":null,\"module\":null,\"name\":\"GridStack1\",\"overrides\":[],\"properties\":[{\"default\":\"warn\",\"kind\":null,\"name\":\"mode\"},{\"default\":null,\"kind\":null,\"name\":\"ncols\"},{\"default\":null,\"kind\":null,\"name\":\"nrows\"},{\"default\":true,\"kind\":null,\"name\":\"allow_resize\"},{\"default\":true,\"kind\":null,\"name\":\"allow_drag\"},{\"default\":[],\"kind\":null,\"name\":\"state\"}]},{\"extends\":null,\"module\":null,\"name\":\"click1\",\"overrides\":[],\"properties\":[{\"default\":\"\",\"kind\":null,\"name\":\"terminal_output\"},{\"default\":\"\",\"kind\":null,\"name\":\"debug_name\"},{\"default\":0,\"kind\":null,\"name\":\"clears\"}]},{\"extends\":null,\"module\":null,\"name\":\"TemplateActions1\",\"overrides\":[],\"properties\":[{\"default\":0,\"kind\":null,\"name\":\"open_modal\"},{\"default\":0,\"kind\":null,\"name\":\"close_modal\"}]},{\"extends\":null,\"module\":null,\"name\":\"MaterialTemplateActions1\",\"overrides\":[],\"properties\":[{\"default\":0,\"kind\":null,\"name\":\"open_modal\"},{\"default\":0,\"kind\":null,\"name\":\"close_modal\"}]}],\"roots\":{\"references\":[{\"attributes\":{},\"id\":\"76711\",\"type\":\"BasicTicker\"},{\"attributes\":{},\"id\":\"76740\",\"type\":\"BasicTickFormatter\"},{\"attributes\":{\"fill_alpha\":{\"value\":0.1},\"fill_color\":{\"value\":\"#30a2da\"},\"hatch_alpha\":{\"value\":0.1},\"hatch_color\":{\"value\":\"#30a2da\"},\"line_alpha\":{\"value\":0.1},\"top\":{\"field\":\"total\"},\"width\":{\"value\":0.8},\"x\":{\"field\":\"descrip_alex\"}},\"id\":\"76731\",\"type\":\"VBar\"},{\"attributes\":{},\"id\":\"76716\",\"type\":\"WheelZoomTool\"},{\"attributes\":{\"bottom\":{\"value\":0},\"fill_alpha\":{\"value\":1.0},\"fill_color\":{\"value\":\"#30a2da\"},\"hatch_alpha\":{\"value\":1.0},\"hatch_color\":{\"value\":\"#30a2da\"},\"hatch_scale\":{\"value\":12.0},\"hatch_weight\":{\"value\":1.0},\"line_alpha\":{\"value\":1.0},\"line_cap\":{\"value\":\"butt\"},\"line_color\":{\"value\":\"black\"},\"line_dash\":{\"value\":[]},\"line_dash_offset\":{\"value\":0},\"line_join\":{\"value\":\"bevel\"},\"line_width\":{\"value\":1},\"top\":{\"field\":\"total\"},\"width\":{\"value\":0.8},\"x\":{\"field\":\"descrip_alex\"}},\"id\":\"76735\",\"type\":\"VBar\"},{\"attributes\":{},\"id\":\"76714\",\"type\":\"SaveTool\"},{\"attributes\":{\"overlay\":{\"id\":\"76719\"}},\"id\":\"76717\",\"type\":\"BoxZoomTool\"},{\"attributes\":{\"margin\":[5,5,5,5],\"name\":\"HSpacer239906\",\"sizing_mode\":\"stretch_width\"},\"id\":\"76693\",\"type\":\"Spacer\"},{\"attributes\":{\"coordinates\":null,\"data_source\":{\"id\":\"76727\"},\"glyph\":{\"id\":\"76730\"},\"group\":null,\"hover_glyph\":null,\"muted_glyph\":{\"id\":\"76732\"},\"nonselection_glyph\":{\"id\":\"76731\"},\"selection_glyph\":{\"id\":\"76735\"},\"view\":{\"id\":\"76734\"}},\"id\":\"76733\",\"type\":\"GlyphRenderer\"},{\"attributes\":{},\"id\":\"76718\",\"type\":\"ResetTool\"},{\"attributes\":{\"fill_alpha\":{\"value\":0.2},\"fill_color\":{\"value\":\"#30a2da\"},\"hatch_alpha\":{\"value\":0.2},\"hatch_color\":{\"value\":\"#30a2da\"},\"line_alpha\":{\"value\":0.2},\"top\":{\"field\":\"total\"},\"width\":{\"value\":0.8},\"x\":{\"field\":\"descrip_alex\"}},\"id\":\"76732\",\"type\":\"VBar\"},{\"attributes\":{\"bottom_units\":\"screen\",\"coordinates\":null,\"fill_alpha\":0.5,\"fill_color\":\"lightgrey\",\"group\":null,\"left_units\":\"screen\",\"level\":\"overlay\",\"line_alpha\":1.0,\"line_color\":\"black\",\"line_dash\":[4,4],\"line_width\":2,\"right_units\":\"screen\",\"syncable\":false,\"top_units\":\"screen\"},\"id\":\"76719\",\"type\":\"BoxAnnotation\"},{\"attributes\":{\"end\":0.5,\"reset_end\":0.5,\"reset_start\":-0.5,\"start\":-0.5,\"tags\":[[[\"total\",\"total\",null]]]},\"id\":\"76696\",\"type\":\"Range1d\"},{\"attributes\":{\"source\":{\"id\":\"76727\"}},\"id\":\"76734\",\"type\":\"CDSView\"},{\"attributes\":{},\"id\":\"76738\",\"type\":\"AllLabels\"},{\"attributes\":{\"callback\":null,\"renderers\":[{\"id\":\"76733\"}],\"tags\":[\"hv_created\"],\"tooltips\":[[\"descrip_alex\",\"@{descrip_alex}\"],[\"total\",\"@{total}\"]]},\"id\":\"76697\",\"type\":\"HoverTool\"},{\"attributes\":{\"fill_color\":{\"value\":\"#30a2da\"},\"hatch_color\":{\"value\":\"#30a2da\"},\"top\":{\"field\":\"total\"},\"width\":{\"value\":0.8},\"x\":{\"field\":\"descrip_alex\"}},\"id\":\"76730\",\"type\":\"VBar\"},{\"attributes\":{},\"id\":\"76728\",\"type\":\"Selection\"},{\"attributes\":{\"client_comm_id\":\"366dd50fb7044bab9e83383827809729\",\"comm_id\":\"77c1d226a3b44390a7d5ac9dd95f5b7f\",\"plot_id\":\"76687\"},\"id\":\"76792\",\"type\":\"panel.models.comm_manager.CommManager\"},{\"attributes\":{\"end\":30,\"margin\":[5,10,5,10],\"start\":1,\"title\":\"Diciembre 2020. D\\u00eda: \",\"value\":3},\"id\":\"76691\",\"type\":\"Slider\"},{\"attributes\":{},\"id\":\"76703\",\"type\":\"CategoricalScale\"},{\"attributes\":{\"children\":[{\"id\":\"76688\"}],\"margin\":[0,0,0,0],\"name\":\"Row239909\"},\"id\":\"76687\",\"type\":\"Row\"},{\"attributes\":{\"tags\":[[[\"descrip_alex\",\"descrip_alex\",null]]]},\"id\":\"76695\",\"type\":\"FactorRange\"},{\"attributes\":{\"tools\":[{\"id\":\"76697\"},{\"id\":\"76714\"},{\"id\":\"76715\"},{\"id\":\"76716\"},{\"id\":\"76717\"},{\"id\":\"76718\"}]},\"id\":\"76720\",\"type\":\"Toolbar\"},{\"attributes\":{\"children\":[{\"id\":\"76690\"},{\"id\":\"76693\"}],\"margin\":[0,0,0,0],\"name\":\"Row239907\"},\"id\":\"76689\",\"type\":\"Row\"},{\"attributes\":{},\"id\":\"76741\",\"type\":\"AllLabels\"},{\"attributes\":{\"data\":{\"descrip_alex\":{\"__ndarray__\":\"\",\"dtype\":\"float64\",\"order\":\"little\",\"shape\":[0]},\"total\":[]},\"selected\":{\"id\":\"76728\"},\"selection_policy\":{\"id\":\"76749\"}},\"id\":\"76727\",\"type\":\"ColumnDataSource\"},{\"attributes\":{},\"id\":\"76705\",\"type\":\"LinearScale\"},{\"attributes\":{\"coordinates\":null,\"group\":null,\"text\":\"Productos a monitorear diariamente\",\"text_color\":\"black\",\"text_font_size\":\"12pt\"},\"id\":\"76699\",\"type\":\"Title\"},{\"attributes\":{\"below\":[{\"id\":\"76707\"}],\"center\":[{\"id\":\"76709\"},{\"id\":\"76713\"}],\"height\":300,\"left\":[{\"id\":\"76710\"}],\"margin\":[5,5,5,5],\"min_border_bottom\":10,\"min_border_left\":10,\"min_border_right\":10,\"min_border_top\":10,\"renderers\":[{\"id\":\"76733\"}],\"sizing_mode\":\"fixed\",\"title\":{\"id\":\"76699\"},\"toolbar\":{\"id\":\"76720\"},\"width\":700,\"x_range\":{\"id\":\"76695\"},\"x_scale\":{\"id\":\"76703\"},\"y_range\":{\"id\":\"76696\"},\"y_scale\":{\"id\":\"76705\"}},\"id\":\"76698\",\"subtype\":\"Figure\",\"type\":\"Plot\"},{\"attributes\":{},\"id\":\"76708\",\"type\":\"CategoricalTicker\"},{\"attributes\":{\"axis\":{\"id\":\"76707\"},\"coordinates\":null,\"grid_line_color\":null,\"group\":null,\"ticker\":null},\"id\":\"76709\",\"type\":\"Grid\"},{\"attributes\":{},\"id\":\"76749\",\"type\":\"UnionRenderers\"},{\"attributes\":{},\"id\":\"76715\",\"type\":\"PanTool\"},{\"attributes\":{\"axis_label\":\"descrip_alex\",\"coordinates\":null,\"formatter\":{\"id\":\"76737\"},\"group\":null,\"major_label_policy\":{\"id\":\"76738\"},\"ticker\":{\"id\":\"76708\"}},\"id\":\"76707\",\"type\":\"CategoricalAxis\"},{\"attributes\":{\"children\":[{\"id\":\"76691\"},{\"id\":\"76692\"}],\"margin\":[0,0,0,0],\"name\":\"Column239736\"},\"id\":\"76690\",\"type\":\"Column\"},{\"attributes\":{\"children\":[{\"id\":\"76689\"},{\"id\":\"76694\"}],\"margin\":[0,0,0,0],\"name\":\"Column239908\"},\"id\":\"76688\",\"type\":\"Column\"},{\"attributes\":{\"axis\":{\"id\":\"76710\"},\"coordinates\":null,\"dimension\":1,\"grid_line_color\":null,\"group\":null,\"ticker\":null},\"id\":\"76713\",\"type\":\"Grid\"},{\"attributes\":{\"active\":0,\"button_type\":\"success\",\"labels\":[\"total\",\"cant\"],\"margin\":[5,10,5,10]},\"id\":\"76692\",\"type\":\"RadioButtonGroup\"},{\"attributes\":{},\"id\":\"76737\",\"type\":\"CategoricalTickFormatter\"},{\"attributes\":{\"children\":[{\"id\":\"76698\"}],\"margin\":[0,0,0,0],\"name\":\"Row239741\"},\"id\":\"76694\",\"type\":\"Row\"},{\"attributes\":{\"axis_label\":\"total\",\"coordinates\":null,\"formatter\":{\"id\":\"76740\"},\"group\":null,\"major_label_policy\":{\"id\":\"76741\"},\"ticker\":{\"id\":\"76711\"}},\"id\":\"76710\",\"type\":\"LinearAxis\"}],\"root_ids\":[\"76687\",\"76792\"]},\"title\":\"Bokeh Application\",\"version\":\"2.4.1\"}};\n",
       "    var render_items = [{\"docid\":\"b09fb782-384b-4372-a67b-1b1c62a7911b\",\"root_ids\":[\"76687\"],\"roots\":{\"76687\":\"055fc27a-e80b-4f86-8663-b42a8d0f4150\"}}];\n",
       "    root.Bokeh.embed.embed_items_notebook(docs_json, render_items);\n",
       "  }\n",
       "  if (root.Bokeh !== undefined && root.Bokeh.Panel !== undefined && ( root['Tabulator'] !== undefined)) {\n",
       "    embed_document(root);\n",
       "  } else {\n",
       "    var attempts = 0;\n",
       "    var timer = setInterval(function(root) {\n",
       "      if (root.Bokeh !== undefined && root.Bokeh.Panel !== undefined && (root['Tabulator'] !== undefined)) {\n",
       "        clearInterval(timer);\n",
       "        embed_document(root);\n",
       "      } else if (document.readyState == \"complete\") {\n",
       "        attempts++;\n",
       "        if (attempts > 200) {\n",
       "          clearInterval(timer);\n",
       "          console.log(\"Bokeh: ERROR: Unable to run BokehJS code because BokehJS library is missing\");\n",
       "        }\n",
       "      }\n",
       "    }, 25, root)\n",
       "  }\n",
       "})(window);</script>"
      ],
      "text/plain": [
       "<hvplot.interactive.Interactive at 0x1a6d1a7f790>"
      ]
     },
     "execution_count": 455,
     "metadata": {
      "application/vnd.holoviews_exec.v0+json": {
       "id": "76687"
      }
     },
     "output_type": "execute_result"
    }
   ],
   "source": [
    "total_bar_plot = total_source_bar_pipeline.hvplot(kind='bar', \n",
    "                                                     x='descrip_alex', \n",
    "                                                     y=yaxis_total_barra, \n",
    "                                                     #y='descrip_alex', \n",
    "                                                     #x=yaxis_total_barra, \n",
    "                                                     title='Productos a monitorear diariamente')\n",
    "total_bar_plot"
   ]
  },
  {
   "cell_type": "markdown",
   "metadata": {},
   "source": [
    "### 2. Dashboard "
   ]
  },
  {
   "cell_type": "code",
   "execution_count": 456,
   "metadata": {},
   "outputs": [],
   "source": [
    "#Image(filename='C:/Users/alexc/Desktop/Helados/Tablero.jpg')"
   ]
  },
  {
   "cell_type": "code",
   "execution_count": 457,
   "metadata": {},
   "outputs": [
    {
     "name": "stdout",
     "output_type": "stream",
     "text": [
      "Launching server at http://localhost:53220\n"
     ]
    }
   ],
   "source": [
    "#Layout using Template\n",
    "template = pn.template.FastListTemplate(\n",
    "    title='Heladería de la esquina', \n",
    "#    sidebar=[\n",
    "#             pn.pane.Markdown(\"# Ventas y movimientos\"), \n",
    "#             pn.pane.Markdown(\"#### Tablero de control de los datos mas relevantes.\"), \n",
    "#             pn.pane.PNG('C:/Users/alexc/Desktop/Helados/Icecream.png', sizing_mode='scale_both'),\n",
    "#             Diciembre_slider\n",
    "#            ],\n",
    "    main=[\n",
    "          Diciembre_slider,\n",
    "          pn.Row(pn.Column(yaxis_total, \n",
    "                           total_plot.panel(width=800,height=500), \n",
    "                           margin=(0,25), \n",
    "                           width=1000, \n",
    "                           height=550, scroll=True)), \n",
    "          pn.Row(pn.Column(yaxis_total, \n",
    "                           total_table.panel(width=500), \n",
    "                           margin=(0,25))),                            \n",
    "          pn.Row(pn.Column(total_vs_cantidad_scatterplot.panel(width=800,height=500), margin=(0,25))), \n",
    "          pn.Row(pn.Column(yaxis_total_barra,total_bar_plot.panel(width=1000)))],\n",
    "          accent_base_color=\"#88d8b0\",\n",
    "          header_background=\"#88d8b0\",\n",
    ")\n",
    "template.show()\n",
    "template.servable();"
   ]
  },
  {
   "cell_type": "markdown",
   "metadata": {},
   "source": [
    "#### *Now, I´m going to the terminal and use the command panel serve, followed by InfoVis_Helados.ipynb*"
   ]
  }
 ],
 "metadata": {
  "colab": {
   "authorship_tag": "ABX9TyOEWnnwL+z4XlVg07g1CuCd",
   "collapsed_sections": [],
   "name": "InfoVis_Helados.ipynb",
   "provenance": [
    {
     "file_id": "1VKvnv5oRbA8ZnSavcNuFWyEJXaOq9aaF",
     "timestamp": 1653065594807
    }
   ]
  },
  "kernelspec": {
   "display_name": "Python 3 (ipykernel)",
   "language": "python",
   "name": "python3"
  },
  "language_info": {
   "codemirror_mode": {
    "name": "ipython",
    "version": 3
   },
   "file_extension": ".py",
   "mimetype": "text/x-python",
   "name": "python",
   "nbconvert_exporter": "python",
   "pygments_lexer": "ipython3",
   "version": "3.9.7"
  }
 },
 "nbformat": 4,
 "nbformat_minor": 4
}
